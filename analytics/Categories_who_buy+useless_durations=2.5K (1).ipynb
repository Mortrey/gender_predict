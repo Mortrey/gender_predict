{
 "cells": [
  {
   "cell_type": "code",
   "execution_count": 3,
   "metadata": {
    "id": "Lx1TCm5DYoOq"
   },
   "outputs": [],
   "source": [
    "import pandas as pd\n",
    "import json"
   ]
  },
  {
   "cell_type": "markdown",
   "metadata": {
    "id": "xNHxy2at4qbG"
   },
   "source": [
    "Попробуем вытащить различные категории и посмотреть по ним статистику"
   ]
  },
  {
   "cell_type": "code",
   "execution_count": 4,
   "metadata": {
    "id": "oosRkBQdYoOw"
   },
   "outputs": [],
   "source": [
    "# вытащим расшифровку категорий и весь датасет\n",
    "file_path_mapping = 'general_categories_mapping.json'"
   ]
  },
  {
   "cell_type": "markdown",
   "metadata": {
    "id": "KfQLW2E6iPxc"
   },
   "source": [
    "Датасет здесь:https://drive.google.com/drive/folders/1TbuULTBwu8Xoc9ySr_lS12TTpYgbtUH-"
   ]
  },
  {
   "cell_type": "code",
   "execution_count": 5,
   "metadata": {
    "id": "ROpb-ewXYoOx"
   },
   "outputs": [],
   "source": [
    "with open(file_path_mapping, 'r', encoding='utf-8') as file:\n",
    "    mapping_data = json.load(file)"
   ]
  },
  {
   "cell_type": "code",
   "execution_count": 8,
   "metadata": {
    "id": "iqfZTcs8YoOx"
   },
   "outputs": [],
   "source": [
    "# Convert the JSON data to a DataFrame\n",
    "df_mapping = pd.DataFrame(mapping_data.items(), columns=['Category', 'Description'])\n"
   ]
  },
  {
   "cell_type": "markdown",
   "metadata": {
    "id": "iAdIfq5l5Znk"
   },
   "source": [
    "df_all:Всего  пользователя"
   ]
  },
  {
   "cell_type": "code",
   "execution_count": null,
   "metadata": {
    "colab": {
     "base_uri": "https://localhost:8080/",
     "height": 363
    },
    "id": "JK8T0EtWYoOy",
    "outputId": "5bcd8d8e-fedb-4ef2-cf3b-8d947ee25ce3"
   },
   "outputs": [
    {
     "data": {
      "text/html": [
       "\n",
       "  <div id=\"df-50d8bb62-2be4-4979-b16d-4d133d6fd14f\" class=\"colab-df-container\">\n",
       "    <div>\n",
       "<style scoped>\n",
       "    .dataframe tbody tr th:only-of-type {\n",
       "        vertical-align: middle;\n",
       "    }\n",
       "\n",
       "    .dataframe tbody tr th {\n",
       "        vertical-align: top;\n",
       "    }\n",
       "\n",
       "    .dataframe thead th {\n",
       "        text-align: right;\n",
       "    }\n",
       "</style>\n",
       "<table border=\"1\" class=\"dataframe\">\n",
       "  <thead>\n",
       "    <tr style=\"text-align: right;\">\n",
       "      <th></th>\n",
       "      <th>Category</th>\n",
       "      <th>Description</th>\n",
       "    </tr>\n",
       "  </thead>\n",
       "  <tbody>\n",
       "    <tr>\n",
       "      <th>0</th>\n",
       "      <td>1016160</td>\n",
       "      <td>Воланы</td>\n",
       "    </tr>\n",
       "    <tr>\n",
       "      <th>1</th>\n",
       "      <td>16065434</td>\n",
       "      <td>Катетеры урологические</td>\n",
       "    </tr>\n",
       "    <tr>\n",
       "      <th>2</th>\n",
       "      <td>15450095</td>\n",
       "      <td>Винные шкафы</td>\n",
       "    </tr>\n",
       "    <tr>\n",
       "      <th>3</th>\n",
       "      <td>91230</td>\n",
       "      <td>Pop</td>\n",
       "    </tr>\n",
       "    <tr>\n",
       "      <th>4</th>\n",
       "      <td>819169</td>\n",
       "      <td>Корректоры метаболизма хрящевой ткани</td>\n",
       "    </tr>\n",
       "    <tr>\n",
       "      <th>5</th>\n",
       "      <td>294642</td>\n",
       "      <td>Чейнджеры</td>\n",
       "    </tr>\n",
       "    <tr>\n",
       "      <th>6</th>\n",
       "      <td>15259392</td>\n",
       "      <td>Плазменная резка</td>\n",
       "    </tr>\n",
       "    <tr>\n",
       "      <th>7</th>\n",
       "      <td>90907</td>\n",
       "      <td>Нормативные акты и документы (inactive)</td>\n",
       "    </tr>\n",
       "    <tr>\n",
       "      <th>8</th>\n",
       "      <td>90921</td>\n",
       "      <td>Антикварные и редкие книги (inactive)</td>\n",
       "    </tr>\n",
       "    <tr>\n",
       "      <th>9</th>\n",
       "      <td>6856242</td>\n",
       "      <td>Зарядные устройства для аккумуляторов</td>\n",
       "    </tr>\n",
       "  </tbody>\n",
       "</table>\n",
       "</div>\n",
       "    <div class=\"colab-df-buttons\">\n",
       "\n",
       "  <div class=\"colab-df-container\">\n",
       "    <button class=\"colab-df-convert\" onclick=\"convertToInteractive('df-50d8bb62-2be4-4979-b16d-4d133d6fd14f')\"\n",
       "            title=\"Convert this dataframe to an interactive table.\"\n",
       "            style=\"display:none;\">\n",
       "\n",
       "  <svg xmlns=\"http://www.w3.org/2000/svg\" height=\"24px\" viewBox=\"0 -960 960 960\">\n",
       "    <path d=\"M120-120v-720h720v720H120Zm60-500h600v-160H180v160Zm220 220h160v-160H400v160Zm0 220h160v-160H400v160ZM180-400h160v-160H180v160Zm440 0h160v-160H620v160ZM180-180h160v-160H180v160Zm440 0h160v-160H620v160Z\"/>\n",
       "  </svg>\n",
       "    </button>\n",
       "\n",
       "  <style>\n",
       "    .colab-df-container {\n",
       "      display:flex;\n",
       "      gap: 12px;\n",
       "    }\n",
       "\n",
       "    .colab-df-convert {\n",
       "      background-color: #E8F0FE;\n",
       "      border: none;\n",
       "      border-radius: 50%;\n",
       "      cursor: pointer;\n",
       "      display: none;\n",
       "      fill: #1967D2;\n",
       "      height: 32px;\n",
       "      padding: 0 0 0 0;\n",
       "      width: 32px;\n",
       "    }\n",
       "\n",
       "    .colab-df-convert:hover {\n",
       "      background-color: #E2EBFA;\n",
       "      box-shadow: 0px 1px 2px rgba(60, 64, 67, 0.3), 0px 1px 3px 1px rgba(60, 64, 67, 0.15);\n",
       "      fill: #174EA6;\n",
       "    }\n",
       "\n",
       "    .colab-df-buttons div {\n",
       "      margin-bottom: 4px;\n",
       "    }\n",
       "\n",
       "    [theme=dark] .colab-df-convert {\n",
       "      background-color: #3B4455;\n",
       "      fill: #D2E3FC;\n",
       "    }\n",
       "\n",
       "    [theme=dark] .colab-df-convert:hover {\n",
       "      background-color: #434B5C;\n",
       "      box-shadow: 0px 1px 3px 1px rgba(0, 0, 0, 0.15);\n",
       "      filter: drop-shadow(0px 1px 2px rgba(0, 0, 0, 0.3));\n",
       "      fill: #FFFFFF;\n",
       "    }\n",
       "  </style>\n",
       "\n",
       "    <script>\n",
       "      const buttonEl =\n",
       "        document.querySelector('#df-50d8bb62-2be4-4979-b16d-4d133d6fd14f button.colab-df-convert');\n",
       "      buttonEl.style.display =\n",
       "        google.colab.kernel.accessAllowed ? 'block' : 'none';\n",
       "\n",
       "      async function convertToInteractive(key) {\n",
       "        const element = document.querySelector('#df-50d8bb62-2be4-4979-b16d-4d133d6fd14f');\n",
       "        const dataTable =\n",
       "          await google.colab.kernel.invokeFunction('convertToInteractive',\n",
       "                                                    [key], {});\n",
       "        if (!dataTable) return;\n",
       "\n",
       "        const docLinkHtml = 'Like what you see? Visit the ' +\n",
       "          '<a target=\"_blank\" href=https://colab.research.google.com/notebooks/data_table.ipynb>data table notebook</a>'\n",
       "          + ' to learn more about interactive tables.';\n",
       "        element.innerHTML = '';\n",
       "        dataTable['output_type'] = 'display_data';\n",
       "        await google.colab.output.renderOutput(dataTable, element);\n",
       "        const docLink = document.createElement('div');\n",
       "        docLink.innerHTML = docLinkHtml;\n",
       "        element.appendChild(docLink);\n",
       "      }\n",
       "    </script>\n",
       "  </div>\n",
       "\n",
       "\n",
       "<div id=\"df-f22c7c52-4e32-42d9-824f-e9066e9cd686\">\n",
       "  <button class=\"colab-df-quickchart\" onclick=\"quickchart('df-f22c7c52-4e32-42d9-824f-e9066e9cd686')\"\n",
       "            title=\"Suggest charts\"\n",
       "            style=\"display:none;\">\n",
       "\n",
       "<svg xmlns=\"http://www.w3.org/2000/svg\" height=\"24px\"viewBox=\"0 0 24 24\"\n",
       "     width=\"24px\">\n",
       "    <g>\n",
       "        <path d=\"M19 3H5c-1.1 0-2 .9-2 2v14c0 1.1.9 2 2 2h14c1.1 0 2-.9 2-2V5c0-1.1-.9-2-2-2zM9 17H7v-7h2v7zm4 0h-2V7h2v10zm4 0h-2v-4h2v4z\"/>\n",
       "    </g>\n",
       "</svg>\n",
       "  </button>\n",
       "\n",
       "<style>\n",
       "  .colab-df-quickchart {\n",
       "      --bg-color: #E8F0FE;\n",
       "      --fill-color: #1967D2;\n",
       "      --hover-bg-color: #E2EBFA;\n",
       "      --hover-fill-color: #174EA6;\n",
       "      --disabled-fill-color: #AAA;\n",
       "      --disabled-bg-color: #DDD;\n",
       "  }\n",
       "\n",
       "  [theme=dark] .colab-df-quickchart {\n",
       "      --bg-color: #3B4455;\n",
       "      --fill-color: #D2E3FC;\n",
       "      --hover-bg-color: #434B5C;\n",
       "      --hover-fill-color: #FFFFFF;\n",
       "      --disabled-bg-color: #3B4455;\n",
       "      --disabled-fill-color: #666;\n",
       "  }\n",
       "\n",
       "  .colab-df-quickchart {\n",
       "    background-color: var(--bg-color);\n",
       "    border: none;\n",
       "    border-radius: 50%;\n",
       "    cursor: pointer;\n",
       "    display: none;\n",
       "    fill: var(--fill-color);\n",
       "    height: 32px;\n",
       "    padding: 0;\n",
       "    width: 32px;\n",
       "  }\n",
       "\n",
       "  .colab-df-quickchart:hover {\n",
       "    background-color: var(--hover-bg-color);\n",
       "    box-shadow: 0 1px 2px rgba(60, 64, 67, 0.3), 0 1px 3px 1px rgba(60, 64, 67, 0.15);\n",
       "    fill: var(--button-hover-fill-color);\n",
       "  }\n",
       "\n",
       "  .colab-df-quickchart-complete:disabled,\n",
       "  .colab-df-quickchart-complete:disabled:hover {\n",
       "    background-color: var(--disabled-bg-color);\n",
       "    fill: var(--disabled-fill-color);\n",
       "    box-shadow: none;\n",
       "  }\n",
       "\n",
       "  .colab-df-spinner {\n",
       "    border: 2px solid var(--fill-color);\n",
       "    border-color: transparent;\n",
       "    border-bottom-color: var(--fill-color);\n",
       "    animation:\n",
       "      spin 1s steps(1) infinite;\n",
       "  }\n",
       "\n",
       "  @keyframes spin {\n",
       "    0% {\n",
       "      border-color: transparent;\n",
       "      border-bottom-color: var(--fill-color);\n",
       "      border-left-color: var(--fill-color);\n",
       "    }\n",
       "    20% {\n",
       "      border-color: transparent;\n",
       "      border-left-color: var(--fill-color);\n",
       "      border-top-color: var(--fill-color);\n",
       "    }\n",
       "    30% {\n",
       "      border-color: transparent;\n",
       "      border-left-color: var(--fill-color);\n",
       "      border-top-color: var(--fill-color);\n",
       "      border-right-color: var(--fill-color);\n",
       "    }\n",
       "    40% {\n",
       "      border-color: transparent;\n",
       "      border-right-color: var(--fill-color);\n",
       "      border-top-color: var(--fill-color);\n",
       "    }\n",
       "    60% {\n",
       "      border-color: transparent;\n",
       "      border-right-color: var(--fill-color);\n",
       "    }\n",
       "    80% {\n",
       "      border-color: transparent;\n",
       "      border-right-color: var(--fill-color);\n",
       "      border-bottom-color: var(--fill-color);\n",
       "    }\n",
       "    90% {\n",
       "      border-color: transparent;\n",
       "      border-bottom-color: var(--fill-color);\n",
       "    }\n",
       "  }\n",
       "</style>\n",
       "\n",
       "  <script>\n",
       "    async function quickchart(key) {\n",
       "      const quickchartButtonEl =\n",
       "        document.querySelector('#' + key + ' button');\n",
       "      quickchartButtonEl.disabled = true;  // To prevent multiple clicks.\n",
       "      quickchartButtonEl.classList.add('colab-df-spinner');\n",
       "      try {\n",
       "        const charts = await google.colab.kernel.invokeFunction(\n",
       "            'suggestCharts', [key], {});\n",
       "      } catch (error) {\n",
       "        console.error('Error during call to suggestCharts:', error);\n",
       "      }\n",
       "      quickchartButtonEl.classList.remove('colab-df-spinner');\n",
       "      quickchartButtonEl.classList.add('colab-df-quickchart-complete');\n",
       "    }\n",
       "    (() => {\n",
       "      let quickchartButtonEl =\n",
       "        document.querySelector('#df-f22c7c52-4e32-42d9-824f-e9066e9cd686 button');\n",
       "      quickchartButtonEl.style.display =\n",
       "        google.colab.kernel.accessAllowed ? 'block' : 'none';\n",
       "    })();\n",
       "  </script>\n",
       "</div>\n",
       "    </div>\n",
       "  </div>\n"
      ],
      "text/plain": [
       "   Category                              Description\n",
       "0   1016160                                   Воланы\n",
       "1  16065434                   Катетеры урологические\n",
       "2  15450095                             Винные шкафы\n",
       "3     91230                                      Pop\n",
       "4    819169    Корректоры метаболизма хрящевой ткани\n",
       "5    294642                                Чейнджеры\n",
       "6  15259392                         Плазменная резка\n",
       "7     90907  Нормативные акты и документы (inactive)\n",
       "8     90921    Антикварные и редкие книги (inactive)\n",
       "9   6856242    Зарядные устройства для аккумуляторов"
      ]
     },
     "execution_count": 8,
     "metadata": {},
     "output_type": "execute_result"
    }
   ],
   "source": [
    "df_mapping.head(10)"
   ]
  },
  {
   "cell_type": "code",
   "execution_count": 10,
   "metadata": {
    "colab": {
     "base_uri": "https://localhost:8080/",
     "height": 53
    },
    "id": "Uhaala1lYoOy",
    "outputId": "aeb8abde-2b5c-43f2-8e1c-607841089a33"
   },
   "outputs": [
    {
     "data": {
      "text/html": [
       "<div>\n",
       "<style scoped>\n",
       "    .dataframe tbody tr th:only-of-type {\n",
       "        vertical-align: middle;\n",
       "    }\n",
       "\n",
       "    .dataframe tbody tr th {\n",
       "        vertical-align: top;\n",
       "    }\n",
       "\n",
       "    .dataframe thead th {\n",
       "        text-align: right;\n",
       "    }\n",
       "</style>\n",
       "<table border=\"1\" class=\"dataframe\">\n",
       "  <thead>\n",
       "    <tr style=\"text-align: right;\">\n",
       "      <th></th>\n",
       "      <th>Category</th>\n",
       "      <th>Description</th>\n",
       "    </tr>\n",
       "  </thead>\n",
       "  <tbody>\n",
       "  </tbody>\n",
       "</table>\n",
       "</div>"
      ],
      "text/plain": [
       "Empty DataFrame\n",
       "Columns: [Category, Description]\n",
       "Index: []"
      ]
     },
     "execution_count": 10,
     "metadata": {},
     "output_type": "execute_result"
    }
   ],
   "source": [
    "df_mapping[df_mapping['Category'] == '676374']"
   ]
  },
  {
   "cell_type": "code",
   "execution_count": null,
   "metadata": {
    "colab": {
     "base_uri": "https://localhost:8080/"
    },
    "id": "i6LNRyz7YoOz",
    "outputId": "12a90971-eda0-4995-c5dc-6ffd719989ec"
   },
   "outputs": [
    {
     "name": "stdout",
     "output_type": "stream",
     "text": [
      "<class 'pandas.core.frame.DataFrame'>\n",
      "RangeIndex: 3432 entries, 0 to 3431\n",
      "Data columns (total 2 columns):\n",
      " #   Column       Non-Null Count  Dtype \n",
      "---  ------       --------------  ----- \n",
      " 0   Category     3432 non-null   object\n",
      " 1   Description  3432 non-null   object\n",
      "dtypes: object(2)\n",
      "memory usage: 53.8+ KB\n"
     ]
    }
   ],
   "source": [
    "df_mapping.info()"
   ]
  },
  {
   "cell_type": "code",
   "execution_count": null,
   "metadata": {
    "colab": {
     "base_uri": "https://localhost:8080/",
     "height": 174
    },
    "id": "j6ojJagmYoO0",
    "outputId": "85fa831a-eef2-4359-e9e6-49bbe7647bf9"
   },
   "outputs": [
    {
     "data": {
      "text/html": [
       "\n",
       "  <div id=\"df-1a5ee31a-452d-45b1-8497-efe9903ea2fb\" class=\"colab-df-container\">\n",
       "    <div>\n",
       "<style scoped>\n",
       "    .dataframe tbody tr th:only-of-type {\n",
       "        vertical-align: middle;\n",
       "    }\n",
       "\n",
       "    .dataframe tbody tr th {\n",
       "        vertical-align: top;\n",
       "    }\n",
       "\n",
       "    .dataframe thead th {\n",
       "        text-align: right;\n",
       "    }\n",
       "</style>\n",
       "<table border=\"1\" class=\"dataframe\">\n",
       "  <thead>\n",
       "    <tr style=\"text-align: right;\">\n",
       "      <th></th>\n",
       "      <th>Category</th>\n",
       "      <th>Description</th>\n",
       "    </tr>\n",
       "  </thead>\n",
       "  <tbody>\n",
       "    <tr>\n",
       "      <th>count</th>\n",
       "      <td>3432</td>\n",
       "      <td>3432</td>\n",
       "    </tr>\n",
       "    <tr>\n",
       "      <th>unique</th>\n",
       "      <td>3432</td>\n",
       "      <td>3102</td>\n",
       "    </tr>\n",
       "    <tr>\n",
       "      <th>top</th>\n",
       "      <td>1016160</td>\n",
       "      <td>Аксессуары</td>\n",
       "    </tr>\n",
       "    <tr>\n",
       "      <th>freq</th>\n",
       "      <td>1</td>\n",
       "      <td>41</td>\n",
       "    </tr>\n",
       "  </tbody>\n",
       "</table>\n",
       "</div>\n",
       "    <div class=\"colab-df-buttons\">\n",
       "\n",
       "  <div class=\"colab-df-container\">\n",
       "    <button class=\"colab-df-convert\" onclick=\"convertToInteractive('df-1a5ee31a-452d-45b1-8497-efe9903ea2fb')\"\n",
       "            title=\"Convert this dataframe to an interactive table.\"\n",
       "            style=\"display:none;\">\n",
       "\n",
       "  <svg xmlns=\"http://www.w3.org/2000/svg\" height=\"24px\" viewBox=\"0 -960 960 960\">\n",
       "    <path d=\"M120-120v-720h720v720H120Zm60-500h600v-160H180v160Zm220 220h160v-160H400v160Zm0 220h160v-160H400v160ZM180-400h160v-160H180v160Zm440 0h160v-160H620v160ZM180-180h160v-160H180v160Zm440 0h160v-160H620v160Z\"/>\n",
       "  </svg>\n",
       "    </button>\n",
       "\n",
       "  <style>\n",
       "    .colab-df-container {\n",
       "      display:flex;\n",
       "      gap: 12px;\n",
       "    }\n",
       "\n",
       "    .colab-df-convert {\n",
       "      background-color: #E8F0FE;\n",
       "      border: none;\n",
       "      border-radius: 50%;\n",
       "      cursor: pointer;\n",
       "      display: none;\n",
       "      fill: #1967D2;\n",
       "      height: 32px;\n",
       "      padding: 0 0 0 0;\n",
       "      width: 32px;\n",
       "    }\n",
       "\n",
       "    .colab-df-convert:hover {\n",
       "      background-color: #E2EBFA;\n",
       "      box-shadow: 0px 1px 2px rgba(60, 64, 67, 0.3), 0px 1px 3px 1px rgba(60, 64, 67, 0.15);\n",
       "      fill: #174EA6;\n",
       "    }\n",
       "\n",
       "    .colab-df-buttons div {\n",
       "      margin-bottom: 4px;\n",
       "    }\n",
       "\n",
       "    [theme=dark] .colab-df-convert {\n",
       "      background-color: #3B4455;\n",
       "      fill: #D2E3FC;\n",
       "    }\n",
       "\n",
       "    [theme=dark] .colab-df-convert:hover {\n",
       "      background-color: #434B5C;\n",
       "      box-shadow: 0px 1px 3px 1px rgba(0, 0, 0, 0.15);\n",
       "      filter: drop-shadow(0px 1px 2px rgba(0, 0, 0, 0.3));\n",
       "      fill: #FFFFFF;\n",
       "    }\n",
       "  </style>\n",
       "\n",
       "    <script>\n",
       "      const buttonEl =\n",
       "        document.querySelector('#df-1a5ee31a-452d-45b1-8497-efe9903ea2fb button.colab-df-convert');\n",
       "      buttonEl.style.display =\n",
       "        google.colab.kernel.accessAllowed ? 'block' : 'none';\n",
       "\n",
       "      async function convertToInteractive(key) {\n",
       "        const element = document.querySelector('#df-1a5ee31a-452d-45b1-8497-efe9903ea2fb');\n",
       "        const dataTable =\n",
       "          await google.colab.kernel.invokeFunction('convertToInteractive',\n",
       "                                                    [key], {});\n",
       "        if (!dataTable) return;\n",
       "\n",
       "        const docLinkHtml = 'Like what you see? Visit the ' +\n",
       "          '<a target=\"_blank\" href=https://colab.research.google.com/notebooks/data_table.ipynb>data table notebook</a>'\n",
       "          + ' to learn more about interactive tables.';\n",
       "        element.innerHTML = '';\n",
       "        dataTable['output_type'] = 'display_data';\n",
       "        await google.colab.output.renderOutput(dataTable, element);\n",
       "        const docLink = document.createElement('div');\n",
       "        docLink.innerHTML = docLinkHtml;\n",
       "        element.appendChild(docLink);\n",
       "      }\n",
       "    </script>\n",
       "  </div>\n",
       "\n",
       "\n",
       "<div id=\"df-ae277c19-e5eb-410f-8b6c-05df57787fb6\">\n",
       "  <button class=\"colab-df-quickchart\" onclick=\"quickchart('df-ae277c19-e5eb-410f-8b6c-05df57787fb6')\"\n",
       "            title=\"Suggest charts\"\n",
       "            style=\"display:none;\">\n",
       "\n",
       "<svg xmlns=\"http://www.w3.org/2000/svg\" height=\"24px\"viewBox=\"0 0 24 24\"\n",
       "     width=\"24px\">\n",
       "    <g>\n",
       "        <path d=\"M19 3H5c-1.1 0-2 .9-2 2v14c0 1.1.9 2 2 2h14c1.1 0 2-.9 2-2V5c0-1.1-.9-2-2-2zM9 17H7v-7h2v7zm4 0h-2V7h2v10zm4 0h-2v-4h2v4z\"/>\n",
       "    </g>\n",
       "</svg>\n",
       "  </button>\n",
       "\n",
       "<style>\n",
       "  .colab-df-quickchart {\n",
       "      --bg-color: #E8F0FE;\n",
       "      --fill-color: #1967D2;\n",
       "      --hover-bg-color: #E2EBFA;\n",
       "      --hover-fill-color: #174EA6;\n",
       "      --disabled-fill-color: #AAA;\n",
       "      --disabled-bg-color: #DDD;\n",
       "  }\n",
       "\n",
       "  [theme=dark] .colab-df-quickchart {\n",
       "      --bg-color: #3B4455;\n",
       "      --fill-color: #D2E3FC;\n",
       "      --hover-bg-color: #434B5C;\n",
       "      --hover-fill-color: #FFFFFF;\n",
       "      --disabled-bg-color: #3B4455;\n",
       "      --disabled-fill-color: #666;\n",
       "  }\n",
       "\n",
       "  .colab-df-quickchart {\n",
       "    background-color: var(--bg-color);\n",
       "    border: none;\n",
       "    border-radius: 50%;\n",
       "    cursor: pointer;\n",
       "    display: none;\n",
       "    fill: var(--fill-color);\n",
       "    height: 32px;\n",
       "    padding: 0;\n",
       "    width: 32px;\n",
       "  }\n",
       "\n",
       "  .colab-df-quickchart:hover {\n",
       "    background-color: var(--hover-bg-color);\n",
       "    box-shadow: 0 1px 2px rgba(60, 64, 67, 0.3), 0 1px 3px 1px rgba(60, 64, 67, 0.15);\n",
       "    fill: var(--button-hover-fill-color);\n",
       "  }\n",
       "\n",
       "  .colab-df-quickchart-complete:disabled,\n",
       "  .colab-df-quickchart-complete:disabled:hover {\n",
       "    background-color: var(--disabled-bg-color);\n",
       "    fill: var(--disabled-fill-color);\n",
       "    box-shadow: none;\n",
       "  }\n",
       "\n",
       "  .colab-df-spinner {\n",
       "    border: 2px solid var(--fill-color);\n",
       "    border-color: transparent;\n",
       "    border-bottom-color: var(--fill-color);\n",
       "    animation:\n",
       "      spin 1s steps(1) infinite;\n",
       "  }\n",
       "\n",
       "  @keyframes spin {\n",
       "    0% {\n",
       "      border-color: transparent;\n",
       "      border-bottom-color: var(--fill-color);\n",
       "      border-left-color: var(--fill-color);\n",
       "    }\n",
       "    20% {\n",
       "      border-color: transparent;\n",
       "      border-left-color: var(--fill-color);\n",
       "      border-top-color: var(--fill-color);\n",
       "    }\n",
       "    30% {\n",
       "      border-color: transparent;\n",
       "      border-left-color: var(--fill-color);\n",
       "      border-top-color: var(--fill-color);\n",
       "      border-right-color: var(--fill-color);\n",
       "    }\n",
       "    40% {\n",
       "      border-color: transparent;\n",
       "      border-right-color: var(--fill-color);\n",
       "      border-top-color: var(--fill-color);\n",
       "    }\n",
       "    60% {\n",
       "      border-color: transparent;\n",
       "      border-right-color: var(--fill-color);\n",
       "    }\n",
       "    80% {\n",
       "      border-color: transparent;\n",
       "      border-right-color: var(--fill-color);\n",
       "      border-bottom-color: var(--fill-color);\n",
       "    }\n",
       "    90% {\n",
       "      border-color: transparent;\n",
       "      border-bottom-color: var(--fill-color);\n",
       "    }\n",
       "  }\n",
       "</style>\n",
       "\n",
       "  <script>\n",
       "    async function quickchart(key) {\n",
       "      const quickchartButtonEl =\n",
       "        document.querySelector('#' + key + ' button');\n",
       "      quickchartButtonEl.disabled = true;  // To prevent multiple clicks.\n",
       "      quickchartButtonEl.classList.add('colab-df-spinner');\n",
       "      try {\n",
       "        const charts = await google.colab.kernel.invokeFunction(\n",
       "            'suggestCharts', [key], {});\n",
       "      } catch (error) {\n",
       "        console.error('Error during call to suggestCharts:', error);\n",
       "      }\n",
       "      quickchartButtonEl.classList.remove('colab-df-spinner');\n",
       "      quickchartButtonEl.classList.add('colab-df-quickchart-complete');\n",
       "    }\n",
       "    (() => {\n",
       "      let quickchartButtonEl =\n",
       "        document.querySelector('#df-ae277c19-e5eb-410f-8b6c-05df57787fb6 button');\n",
       "      quickchartButtonEl.style.display =\n",
       "        google.colab.kernel.accessAllowed ? 'block' : 'none';\n",
       "    })();\n",
       "  </script>\n",
       "</div>\n",
       "    </div>\n",
       "  </div>\n"
      ],
      "text/plain": [
       "       Category Description\n",
       "count      3432        3432\n",
       "unique     3432        3102\n",
       "top     1016160  Аксессуары\n",
       "freq          1          41"
      ]
     },
     "execution_count": 11,
     "metadata": {},
     "output_type": "execute_result"
    }
   ],
   "source": [
    "df_mapping.describe()"
   ]
  },
  {
   "cell_type": "code",
   "execution_count": 11,
   "metadata": {
    "colab": {
     "base_uri": "https://localhost:8080/"
    },
    "id": "IE65Dve6YoO1",
    "outputId": "b2bcd214-af91-4004-d030-3d4a0ad185c1"
   },
   "outputs": [
    {
     "data": {
      "text/plain": [
       "1016160     1\n",
       "6374360     1\n",
       "14348801    1\n",
       "90963       1\n",
       "91246       1\n",
       "           ..\n",
       "15694869    1\n",
       "15697648    1\n",
       "15714105    1\n",
       "15714117    1\n",
       "121006      1\n",
       "Name: Category, Length: 3432, dtype: int64"
      ]
     },
     "execution_count": 11,
     "metadata": {},
     "output_type": "execute_result"
    }
   ],
   "source": [
    "df_mapping['Category'].value_counts()"
   ]
  },
  {
   "cell_type": "code",
   "execution_count": 12,
   "metadata": {
    "colab": {
     "base_uri": "https://localhost:8080/",
     "height": 206
    },
    "id": "M9Sb6qe0YoO1",
    "outputId": "92b2a7a8-36ba-4eb4-d309-0e1387fc277e"
   },
   "outputs": [
    {
     "data": {
      "text/html": [
       "<div>\n",
       "<style scoped>\n",
       "    .dataframe tbody tr th:only-of-type {\n",
       "        vertical-align: middle;\n",
       "    }\n",
       "\n",
       "    .dataframe tbody tr th {\n",
       "        vertical-align: top;\n",
       "    }\n",
       "\n",
       "    .dataframe thead th {\n",
       "        text-align: right;\n",
       "    }\n",
       "</style>\n",
       "<table border=\"1\" class=\"dataframe\">\n",
       "  <thead>\n",
       "    <tr style=\"text-align: right;\">\n",
       "      <th></th>\n",
       "      <th>Category</th>\n",
       "      <th>male</th>\n",
       "      <th>female</th>\n",
       "    </tr>\n",
       "  </thead>\n",
       "  <tbody>\n",
       "    <tr>\n",
       "      <th>0</th>\n",
       "      <td>90404</td>\n",
       "      <td>390</td>\n",
       "      <td>284</td>\n",
       "    </tr>\n",
       "    <tr>\n",
       "      <th>1</th>\n",
       "      <td>90403</td>\n",
       "      <td>845</td>\n",
       "      <td>435</td>\n",
       "    </tr>\n",
       "    <tr>\n",
       "      <th>2</th>\n",
       "      <td>90402</td>\n",
       "      <td>9406</td>\n",
       "      <td>4401</td>\n",
       "    </tr>\n",
       "    <tr>\n",
       "      <th>3</th>\n",
       "      <td>90698</td>\n",
       "      <td>1236</td>\n",
       "      <td>1751</td>\n",
       "    </tr>\n",
       "    <tr>\n",
       "      <th>4</th>\n",
       "      <td>7330336</td>\n",
       "      <td>5018</td>\n",
       "      <td>8031</td>\n",
       "    </tr>\n",
       "  </tbody>\n",
       "</table>\n",
       "</div>"
      ],
      "text/plain": [
       "   Category  male  female\n",
       "0     90404   390     284\n",
       "1     90403   845     435\n",
       "2     90402  9406    4401\n",
       "3     90698  1236    1751\n",
       "4   7330336  5018    8031"
      ]
     },
     "execution_count": 12,
     "metadata": {},
     "output_type": "execute_result"
    }
   ],
   "source": [
    "ds= pd.read_csv('df_category_path_count_dic.csv')\n",
    "ds.rename(columns={'id': 'Category'}, inplace=True)\n",
    "ds.head()"
   ]
  },
  {
   "cell_type": "code",
   "execution_count": 13,
   "metadata": {
    "colab": {
     "base_uri": "https://localhost:8080/"
    },
    "id": "v-WRmp-7nK-h",
    "outputId": "d9b3a2da-65d4-4025-ecd3-45008cff6493"
   },
   "outputs": [
    {
     "name": "stdout",
     "output_type": "stream",
     "text": [
      "<class 'pandas.core.frame.DataFrame'>\n",
      "RangeIndex: 3321 entries, 0 to 3320\n",
      "Data columns (total 3 columns):\n",
      " #   Column    Non-Null Count  Dtype\n",
      "---  ------    --------------  -----\n",
      " 0   Category  3321 non-null   int64\n",
      " 1   male      3321 non-null   int64\n",
      " 2   female    3321 non-null   int64\n",
      "dtypes: int64(3)\n",
      "memory usage: 78.0 KB\n"
     ]
    }
   ],
   "source": [
    "ds.info()"
   ]
  },
  {
   "cell_type": "code",
   "execution_count": 14,
   "metadata": {
    "id": "akQj__hDn-rx"
   },
   "outputs": [],
   "source": [
    "df_mapping[\"Category\"]=df_mapping[\"Category\"].astype('int64')"
   ]
  },
  {
   "cell_type": "code",
   "execution_count": 18,
   "metadata": {
    "colab": {
     "base_uri": "https://localhost:8080/"
    },
    "id": "EKT3S_JZo-r3",
    "outputId": "23925fad-0ede-45d5-bf54-6c144348265f"
   },
   "outputs": [
    {
     "name": "stdout",
     "output_type": "stream",
     "text": [
      "<class 'pandas.core.frame.DataFrame'>\n",
      "RangeIndex: 3432 entries, 0 to 3431\n",
      "Data columns (total 2 columns):\n",
      " #   Column       Non-Null Count  Dtype \n",
      "---  ------       --------------  ----- \n",
      " 0   Category     3432 non-null   int64 \n",
      " 1   Description  3432 non-null   object\n",
      "dtypes: int64(1), object(1)\n",
      "memory usage: 53.8+ KB\n"
     ]
    }
   ],
   "source": [
    "df_mapping.info()"
   ]
  },
  {
   "cell_type": "code",
   "execution_count": 16,
   "metadata": {
    "colab": {
     "base_uri": "https://localhost:8080/",
     "height": 206
    },
    "id": "HpISueuPgCE5",
    "outputId": "2d9b2ac9-52f5-41c3-eb2f-eaca5b0f4500"
   },
   "outputs": [
    {
     "data": {
      "text/html": [
       "<div>\n",
       "<style scoped>\n",
       "    .dataframe tbody tr th:only-of-type {\n",
       "        vertical-align: middle;\n",
       "    }\n",
       "\n",
       "    .dataframe tbody tr th {\n",
       "        vertical-align: top;\n",
       "    }\n",
       "\n",
       "    .dataframe thead th {\n",
       "        text-align: right;\n",
       "    }\n",
       "</style>\n",
       "<table border=\"1\" class=\"dataframe\">\n",
       "  <thead>\n",
       "    <tr style=\"text-align: right;\">\n",
       "      <th></th>\n",
       "      <th>Category</th>\n",
       "      <th>Description</th>\n",
       "      <th>male</th>\n",
       "      <th>female</th>\n",
       "    </tr>\n",
       "  </thead>\n",
       "  <tbody>\n",
       "    <tr>\n",
       "      <th>0</th>\n",
       "      <td>1016160</td>\n",
       "      <td>Воланы</td>\n",
       "      <td>10</td>\n",
       "      <td>25</td>\n",
       "    </tr>\n",
       "    <tr>\n",
       "      <th>1</th>\n",
       "      <td>16065434</td>\n",
       "      <td>Катетеры урологические</td>\n",
       "      <td>0</td>\n",
       "      <td>4</td>\n",
       "    </tr>\n",
       "    <tr>\n",
       "      <th>2</th>\n",
       "      <td>15450095</td>\n",
       "      <td>Винные шкафы</td>\n",
       "      <td>2</td>\n",
       "      <td>3</td>\n",
       "    </tr>\n",
       "    <tr>\n",
       "      <th>3</th>\n",
       "      <td>91230</td>\n",
       "      <td>Pop</td>\n",
       "      <td>6</td>\n",
       "      <td>5</td>\n",
       "    </tr>\n",
       "    <tr>\n",
       "      <th>4</th>\n",
       "      <td>819169</td>\n",
       "      <td>Корректоры метаболизма хрящевой ткани</td>\n",
       "      <td>108</td>\n",
       "      <td>191</td>\n",
       "    </tr>\n",
       "  </tbody>\n",
       "</table>\n",
       "</div>"
      ],
      "text/plain": [
       "   Category                            Description  male  female\n",
       "0   1016160                                 Воланы    10      25\n",
       "1  16065434                 Катетеры урологические     0       4\n",
       "2  15450095                           Винные шкафы     2       3\n",
       "3     91230                                    Pop     6       5\n",
       "4    819169  Корректоры метаболизма хрящевой ткани   108     191"
      ]
     },
     "execution_count": 16,
     "metadata": {},
     "output_type": "execute_result"
    }
   ],
   "source": [
    "df=df_mapping.merge(ds,on=['Category'])\n",
    "df.head()"
   ]
  },
  {
   "cell_type": "code",
   "execution_count": 17,
   "metadata": {
    "id": "pvPRu9Z9fV91"
   },
   "outputs": [],
   "source": [
    "# импорт библиотек\n",
    "import numpy as np\n",
    "import seaborn as sns\n",
    "import matplotlib.pyplot as plt\n",
    "import matplotlib.dates as mtd"
   ]
  },
  {
   "cell_type": "code",
   "execution_count": 20,
   "metadata": {},
   "outputs": [
    {
     "data": {
      "text/html": [
       "<div>\n",
       "<style scoped>\n",
       "    .dataframe tbody tr th:only-of-type {\n",
       "        vertical-align: middle;\n",
       "    }\n",
       "\n",
       "    .dataframe tbody tr th {\n",
       "        vertical-align: top;\n",
       "    }\n",
       "\n",
       "    .dataframe thead th {\n",
       "        text-align: right;\n",
       "    }\n",
       "</style>\n",
       "<table border=\"1\" class=\"dataframe\">\n",
       "  <thead>\n",
       "    <tr style=\"text-align: right;\">\n",
       "      <th></th>\n",
       "      <th>Category</th>\n",
       "      <th>male</th>\n",
       "      <th>female</th>\n",
       "    </tr>\n",
       "  </thead>\n",
       "  <tbody>\n",
       "    <tr>\n",
       "      <th>count</th>\n",
       "      <td>3.321000e+03</td>\n",
       "      <td>3321.000000</td>\n",
       "      <td>3321.000000</td>\n",
       "    </tr>\n",
       "    <tr>\n",
       "      <th>mean</th>\n",
       "      <td>7.939811e+06</td>\n",
       "      <td>519.743451</td>\n",
       "      <td>1283.258356</td>\n",
       "    </tr>\n",
       "    <tr>\n",
       "      <th>std</th>\n",
       "      <td>6.651241e+06</td>\n",
       "      <td>3051.711220</td>\n",
       "      <td>8935.878474</td>\n",
       "    </tr>\n",
       "    <tr>\n",
       "      <th>min</th>\n",
       "      <td>1.210000e+04</td>\n",
       "      <td>0.000000</td>\n",
       "      <td>0.000000</td>\n",
       "    </tr>\n",
       "    <tr>\n",
       "      <th>25%</th>\n",
       "      <td>2.783450e+05</td>\n",
       "      <td>17.000000</td>\n",
       "      <td>18.000000</td>\n",
       "    </tr>\n",
       "    <tr>\n",
       "      <th>50%</th>\n",
       "      <td>7.878040e+06</td>\n",
       "      <td>60.000000</td>\n",
       "      <td>94.000000</td>\n",
       "    </tr>\n",
       "    <tr>\n",
       "      <th>75%</th>\n",
       "      <td>1.422332e+07</td>\n",
       "      <td>204.000000</td>\n",
       "      <td>411.000000</td>\n",
       "    </tr>\n",
       "    <tr>\n",
       "      <th>max</th>\n",
       "      <td>8.475840e+07</td>\n",
       "      <td>91581.000000</td>\n",
       "      <td>230669.000000</td>\n",
       "    </tr>\n",
       "  </tbody>\n",
       "</table>\n",
       "</div>"
      ],
      "text/plain": [
       "           Category          male         female\n",
       "count  3.321000e+03   3321.000000    3321.000000\n",
       "mean   7.939811e+06    519.743451    1283.258356\n",
       "std    6.651241e+06   3051.711220    8935.878474\n",
       "min    1.210000e+04      0.000000       0.000000\n",
       "25%    2.783450e+05     17.000000      18.000000\n",
       "50%    7.878040e+06     60.000000      94.000000\n",
       "75%    1.422332e+07    204.000000     411.000000\n",
       "max    8.475840e+07  91581.000000  230669.000000"
      ]
     },
     "execution_count": 20,
     "metadata": {},
     "output_type": "execute_result"
    }
   ],
   "source": [
    "df.describe()"
   ]
  },
  {
   "cell_type": "code",
   "execution_count": 97,
   "metadata": {},
   "outputs": [
    {
     "name": "stdout",
     "output_type": "stream",
     "text": [
      "<class 'pandas.core.frame.DataFrame'>\n",
      "Int64Index: 3321 entries, 0 to 3320\n",
      "Data columns (total 4 columns):\n",
      " #   Column       Non-Null Count  Dtype \n",
      "---  ------       --------------  ----- \n",
      " 0   Category     3321 non-null   int64 \n",
      " 1   Description  3321 non-null   object\n",
      " 2   male         3321 non-null   int64 \n",
      " 3   female       3321 non-null   int64 \n",
      "dtypes: int64(3), object(1)\n",
      "memory usage: 258.8+ KB\n"
     ]
    }
   ],
   "source": [
    "df.info()"
   ]
  },
  {
   "cell_type": "code",
   "execution_count": 28,
   "metadata": {
    "colab": {
     "base_uri": "https://localhost:8080/",
     "height": 423
    },
    "id": "cTQUi0YXHF4_",
    "outputId": "293fba29-066f-48f7-90a2-8102e8c803f0"
   },
   "outputs": [
    {
     "data": {
      "text/html": [
       "<div>\n",
       "<style scoped>\n",
       "    .dataframe tbody tr th:only-of-type {\n",
       "        vertical-align: middle;\n",
       "    }\n",
       "\n",
       "    .dataframe tbody tr th {\n",
       "        vertical-align: top;\n",
       "    }\n",
       "\n",
       "    .dataframe thead th {\n",
       "        text-align: right;\n",
       "    }\n",
       "</style>\n",
       "<table border=\"1\" class=\"dataframe\">\n",
       "  <thead>\n",
       "    <tr style=\"text-align: right;\">\n",
       "      <th></th>\n",
       "      <th>Category</th>\n",
       "      <th>Description</th>\n",
       "      <th>male</th>\n",
       "      <th>female</th>\n",
       "    </tr>\n",
       "  </thead>\n",
       "  <tbody>\n",
       "    <tr>\n",
       "      <th>2679</th>\n",
       "      <td>91307</td>\n",
       "      <td>Продукты</td>\n",
       "      <td>91581</td>\n",
       "      <td>173974</td>\n",
       "    </tr>\n",
       "  </tbody>\n",
       "</table>\n",
       "</div>"
      ],
      "text/plain": [
       "      Category Description   male  female\n",
       "2679     91307    Продукты  91581  173974"
      ]
     },
     "execution_count": 28,
     "metadata": {},
     "output_type": "execute_result"
    }
   ],
   "source": [
    "max_male=df[df['male']==91581]\n",
    "max_male"
   ]
  },
  {
   "cell_type": "code",
   "execution_count": 31,
   "metadata": {},
   "outputs": [
    {
     "data": {
      "text/html": [
       "<div>\n",
       "<style scoped>\n",
       "    .dataframe tbody tr th:only-of-type {\n",
       "        vertical-align: middle;\n",
       "    }\n",
       "\n",
       "    .dataframe tbody tr th {\n",
       "        vertical-align: top;\n",
       "    }\n",
       "\n",
       "    .dataframe thead th {\n",
       "        text-align: right;\n",
       "    }\n",
       "</style>\n",
       "<table border=\"1\" class=\"dataframe\">\n",
       "  <thead>\n",
       "    <tr style=\"text-align: right;\">\n",
       "      <th></th>\n",
       "      <th>Category</th>\n",
       "      <th>Description</th>\n",
       "      <th>male</th>\n",
       "      <th>female</th>\n",
       "    </tr>\n",
       "  </thead>\n",
       "  <tbody>\n",
       "    <tr>\n",
       "      <th>1124</th>\n",
       "      <td>90509</td>\n",
       "      <td>Красота</td>\n",
       "      <td>39710</td>\n",
       "      <td>230669</td>\n",
       "    </tr>\n",
       "  </tbody>\n",
       "</table>\n",
       "</div>"
      ],
      "text/plain": [
       "      Category Description   male  female\n",
       "1124     90509     Красота  39710  230669"
      ]
     },
     "execution_count": 31,
     "metadata": {},
     "output_type": "execute_result"
    }
   ],
   "source": [
    "max_female=df[df['female']==230669]\n",
    "max_female"
   ]
  },
  {
   "cell_type": "code",
   "execution_count": 68,
   "metadata": {},
   "outputs": [],
   "source": [
    "df_male_max=df.nlargest(n=50, columns=['male'])\n",
    "df_female_max=df.nlargest(n=50, columns=['female'])\n",
    "df_male_min=df[df['male'] != 0].nsmallest(n=50, columns=['male'])\n",
    "df_female_min=df[df['female'] != 0].nsmallest(n=50, columns=['female'])"
   ]
  },
  {
   "cell_type": "code",
   "execution_count": 60,
   "metadata": {
    "colab": {
     "base_uri": "https://localhost:8080/",
     "height": 523
    },
    "id": "h8er6CgzAJWJ",
    "outputId": "f1ea7406-867b-4456-b96f-f30ba6378c42"
   },
   "outputs": [
    {
     "data": {
      "application/vnd.plotly.v1+json": {
       "config": {
        "plotlyServerURL": "https://plot.ly"
       },
       "data": [
        {
         "hovertemplate": "values=%{x}<br>male_max=%{y}<extra></extra>",
         "legendgroup": "",
         "marker": {
          "color": "#636efa"
         },
         "name": "",
         "orientation": "h",
         "showlegend": false,
         "type": "funnel",
         "x": [
          91581,
          66697,
          55527,
          47860,
          39710,
          38476,
          33015,
          30605,
          29648,
          22039,
          21640,
          21332,
          20568,
          19836,
          19151,
          17425,
          17395,
          16249,
          15977,
          13752,
          13231,
          12684,
          12081,
          11431,
          11381,
          10835,
          10126,
          9406,
          9392,
          9306,
          9244,
          9193,
          9032,
          8868,
          8424,
          8071,
          7958,
          7750,
          7667,
          7363,
          7289,
          6845,
          6716,
          6707,
          6440,
          6306,
          6269,
          6236,
          6076,
          6020
         ],
         "xaxis": "x",
         "y": [
          "Продукты",
          "Дом и дача",
          "Одежда, обувь и аксессуары",
          "Детские товары",
          "Красота",
          "Электроника",
          "Косметика, парфюмерия и уход",
          "Товары для животных",
          "Бытовая техника",
          "Бакалейные товары",
          "Телефоны",
          "Досуг и развлечения",
          "Товары для мам и малышей",
          "Строительство и ремонт",
          "Корма для кошек и собак",
          "Молочная гастрономия",
          "Компьютерная техника",
          "Игрушки и игры",
          "Обувь",
          "Здоровье",
          "Корма для кошек",
          "Мужская одежда",
          "Детская одежда",
          "Книги (inactive)",
          "Мобильные телефоны",
          "Лекарства",
          "Детское питание",
          "Авто",
          "Инструменты",
          "Фрукты, овощи и грибы",
          "Посуда и кухонные принадлежности",
          "Мебель",
          "Мелкая техника для кухни",
          "Кондитерские изделия",
          "Техника для дома",
          "Женская одежда",
          "Спорт и отдых",
          "Женская обувь",
          "Аудио- и видеотехника",
          "Мясная гастрономия",
          "Аксессуары для телефонов",
          "Бытовая химия",
          "Консервация",
          "Аксессуары",
          "Безалкогольные напитки",
          "Средства и предметы гигиены",
          "Чай, кофе, какао",
          "Уход за телом",
          "Уход за лицом",
          "Портативная техника"
         ],
         "yaxis": "y"
        }
       ],
       "layout": {
        "legend": {
         "tracegroupgap": 0
        },
        "margin": {
         "t": 60
        },
        "template": {
         "data": {
          "bar": [
           {
            "error_x": {
             "color": "#2a3f5f"
            },
            "error_y": {
             "color": "#2a3f5f"
            },
            "marker": {
             "line": {
              "color": "#E5ECF6",
              "width": 0.5
             },
             "pattern": {
              "fillmode": "overlay",
              "size": 10,
              "solidity": 0.2
             }
            },
            "type": "bar"
           }
          ],
          "barpolar": [
           {
            "marker": {
             "line": {
              "color": "#E5ECF6",
              "width": 0.5
             },
             "pattern": {
              "fillmode": "overlay",
              "size": 10,
              "solidity": 0.2
             }
            },
            "type": "barpolar"
           }
          ],
          "carpet": [
           {
            "aaxis": {
             "endlinecolor": "#2a3f5f",
             "gridcolor": "white",
             "linecolor": "white",
             "minorgridcolor": "white",
             "startlinecolor": "#2a3f5f"
            },
            "baxis": {
             "endlinecolor": "#2a3f5f",
             "gridcolor": "white",
             "linecolor": "white",
             "minorgridcolor": "white",
             "startlinecolor": "#2a3f5f"
            },
            "type": "carpet"
           }
          ],
          "choropleth": [
           {
            "colorbar": {
             "outlinewidth": 0,
             "ticks": ""
            },
            "type": "choropleth"
           }
          ],
          "contour": [
           {
            "colorbar": {
             "outlinewidth": 0,
             "ticks": ""
            },
            "colorscale": [
             [
              0,
              "#0d0887"
             ],
             [
              0.1111111111111111,
              "#46039f"
             ],
             [
              0.2222222222222222,
              "#7201a8"
             ],
             [
              0.3333333333333333,
              "#9c179e"
             ],
             [
              0.4444444444444444,
              "#bd3786"
             ],
             [
              0.5555555555555556,
              "#d8576b"
             ],
             [
              0.6666666666666666,
              "#ed7953"
             ],
             [
              0.7777777777777778,
              "#fb9f3a"
             ],
             [
              0.8888888888888888,
              "#fdca26"
             ],
             [
              1,
              "#f0f921"
             ]
            ],
            "type": "contour"
           }
          ],
          "contourcarpet": [
           {
            "colorbar": {
             "outlinewidth": 0,
             "ticks": ""
            },
            "type": "contourcarpet"
           }
          ],
          "heatmap": [
           {
            "colorbar": {
             "outlinewidth": 0,
             "ticks": ""
            },
            "colorscale": [
             [
              0,
              "#0d0887"
             ],
             [
              0.1111111111111111,
              "#46039f"
             ],
             [
              0.2222222222222222,
              "#7201a8"
             ],
             [
              0.3333333333333333,
              "#9c179e"
             ],
             [
              0.4444444444444444,
              "#bd3786"
             ],
             [
              0.5555555555555556,
              "#d8576b"
             ],
             [
              0.6666666666666666,
              "#ed7953"
             ],
             [
              0.7777777777777778,
              "#fb9f3a"
             ],
             [
              0.8888888888888888,
              "#fdca26"
             ],
             [
              1,
              "#f0f921"
             ]
            ],
            "type": "heatmap"
           }
          ],
          "heatmapgl": [
           {
            "colorbar": {
             "outlinewidth": 0,
             "ticks": ""
            },
            "colorscale": [
             [
              0,
              "#0d0887"
             ],
             [
              0.1111111111111111,
              "#46039f"
             ],
             [
              0.2222222222222222,
              "#7201a8"
             ],
             [
              0.3333333333333333,
              "#9c179e"
             ],
             [
              0.4444444444444444,
              "#bd3786"
             ],
             [
              0.5555555555555556,
              "#d8576b"
             ],
             [
              0.6666666666666666,
              "#ed7953"
             ],
             [
              0.7777777777777778,
              "#fb9f3a"
             ],
             [
              0.8888888888888888,
              "#fdca26"
             ],
             [
              1,
              "#f0f921"
             ]
            ],
            "type": "heatmapgl"
           }
          ],
          "histogram": [
           {
            "marker": {
             "pattern": {
              "fillmode": "overlay",
              "size": 10,
              "solidity": 0.2
             }
            },
            "type": "histogram"
           }
          ],
          "histogram2d": [
           {
            "colorbar": {
             "outlinewidth": 0,
             "ticks": ""
            },
            "colorscale": [
             [
              0,
              "#0d0887"
             ],
             [
              0.1111111111111111,
              "#46039f"
             ],
             [
              0.2222222222222222,
              "#7201a8"
             ],
             [
              0.3333333333333333,
              "#9c179e"
             ],
             [
              0.4444444444444444,
              "#bd3786"
             ],
             [
              0.5555555555555556,
              "#d8576b"
             ],
             [
              0.6666666666666666,
              "#ed7953"
             ],
             [
              0.7777777777777778,
              "#fb9f3a"
             ],
             [
              0.8888888888888888,
              "#fdca26"
             ],
             [
              1,
              "#f0f921"
             ]
            ],
            "type": "histogram2d"
           }
          ],
          "histogram2dcontour": [
           {
            "colorbar": {
             "outlinewidth": 0,
             "ticks": ""
            },
            "colorscale": [
             [
              0,
              "#0d0887"
             ],
             [
              0.1111111111111111,
              "#46039f"
             ],
             [
              0.2222222222222222,
              "#7201a8"
             ],
             [
              0.3333333333333333,
              "#9c179e"
             ],
             [
              0.4444444444444444,
              "#bd3786"
             ],
             [
              0.5555555555555556,
              "#d8576b"
             ],
             [
              0.6666666666666666,
              "#ed7953"
             ],
             [
              0.7777777777777778,
              "#fb9f3a"
             ],
             [
              0.8888888888888888,
              "#fdca26"
             ],
             [
              1,
              "#f0f921"
             ]
            ],
            "type": "histogram2dcontour"
           }
          ],
          "mesh3d": [
           {
            "colorbar": {
             "outlinewidth": 0,
             "ticks": ""
            },
            "type": "mesh3d"
           }
          ],
          "parcoords": [
           {
            "line": {
             "colorbar": {
              "outlinewidth": 0,
              "ticks": ""
             }
            },
            "type": "parcoords"
           }
          ],
          "pie": [
           {
            "automargin": true,
            "type": "pie"
           }
          ],
          "scatter": [
           {
            "marker": {
             "colorbar": {
              "outlinewidth": 0,
              "ticks": ""
             }
            },
            "type": "scatter"
           }
          ],
          "scatter3d": [
           {
            "line": {
             "colorbar": {
              "outlinewidth": 0,
              "ticks": ""
             }
            },
            "marker": {
             "colorbar": {
              "outlinewidth": 0,
              "ticks": ""
             }
            },
            "type": "scatter3d"
           }
          ],
          "scattercarpet": [
           {
            "marker": {
             "colorbar": {
              "outlinewidth": 0,
              "ticks": ""
             }
            },
            "type": "scattercarpet"
           }
          ],
          "scattergeo": [
           {
            "marker": {
             "colorbar": {
              "outlinewidth": 0,
              "ticks": ""
             }
            },
            "type": "scattergeo"
           }
          ],
          "scattergl": [
           {
            "marker": {
             "colorbar": {
              "outlinewidth": 0,
              "ticks": ""
             }
            },
            "type": "scattergl"
           }
          ],
          "scattermapbox": [
           {
            "marker": {
             "colorbar": {
              "outlinewidth": 0,
              "ticks": ""
             }
            },
            "type": "scattermapbox"
           }
          ],
          "scatterpolar": [
           {
            "marker": {
             "colorbar": {
              "outlinewidth": 0,
              "ticks": ""
             }
            },
            "type": "scatterpolar"
           }
          ],
          "scatterpolargl": [
           {
            "marker": {
             "colorbar": {
              "outlinewidth": 0,
              "ticks": ""
             }
            },
            "type": "scatterpolargl"
           }
          ],
          "scatterternary": [
           {
            "marker": {
             "colorbar": {
              "outlinewidth": 0,
              "ticks": ""
             }
            },
            "type": "scatterternary"
           }
          ],
          "surface": [
           {
            "colorbar": {
             "outlinewidth": 0,
             "ticks": ""
            },
            "colorscale": [
             [
              0,
              "#0d0887"
             ],
             [
              0.1111111111111111,
              "#46039f"
             ],
             [
              0.2222222222222222,
              "#7201a8"
             ],
             [
              0.3333333333333333,
              "#9c179e"
             ],
             [
              0.4444444444444444,
              "#bd3786"
             ],
             [
              0.5555555555555556,
              "#d8576b"
             ],
             [
              0.6666666666666666,
              "#ed7953"
             ],
             [
              0.7777777777777778,
              "#fb9f3a"
             ],
             [
              0.8888888888888888,
              "#fdca26"
             ],
             [
              1,
              "#f0f921"
             ]
            ],
            "type": "surface"
           }
          ],
          "table": [
           {
            "cells": {
             "fill": {
              "color": "#EBF0F8"
             },
             "line": {
              "color": "white"
             }
            },
            "header": {
             "fill": {
              "color": "#C8D4E3"
             },
             "line": {
              "color": "white"
             }
            },
            "type": "table"
           }
          ]
         },
         "layout": {
          "annotationdefaults": {
           "arrowcolor": "#2a3f5f",
           "arrowhead": 0,
           "arrowwidth": 1
          },
          "autotypenumbers": "strict",
          "coloraxis": {
           "colorbar": {
            "outlinewidth": 0,
            "ticks": ""
           }
          },
          "colorscale": {
           "diverging": [
            [
             0,
             "#8e0152"
            ],
            [
             0.1,
             "#c51b7d"
            ],
            [
             0.2,
             "#de77ae"
            ],
            [
             0.3,
             "#f1b6da"
            ],
            [
             0.4,
             "#fde0ef"
            ],
            [
             0.5,
             "#f7f7f7"
            ],
            [
             0.6,
             "#e6f5d0"
            ],
            [
             0.7,
             "#b8e186"
            ],
            [
             0.8,
             "#7fbc41"
            ],
            [
             0.9,
             "#4d9221"
            ],
            [
             1,
             "#276419"
            ]
           ],
           "sequential": [
            [
             0,
             "#0d0887"
            ],
            [
             0.1111111111111111,
             "#46039f"
            ],
            [
             0.2222222222222222,
             "#7201a8"
            ],
            [
             0.3333333333333333,
             "#9c179e"
            ],
            [
             0.4444444444444444,
             "#bd3786"
            ],
            [
             0.5555555555555556,
             "#d8576b"
            ],
            [
             0.6666666666666666,
             "#ed7953"
            ],
            [
             0.7777777777777778,
             "#fb9f3a"
            ],
            [
             0.8888888888888888,
             "#fdca26"
            ],
            [
             1,
             "#f0f921"
            ]
           ],
           "sequentialminus": [
            [
             0,
             "#0d0887"
            ],
            [
             0.1111111111111111,
             "#46039f"
            ],
            [
             0.2222222222222222,
             "#7201a8"
            ],
            [
             0.3333333333333333,
             "#9c179e"
            ],
            [
             0.4444444444444444,
             "#bd3786"
            ],
            [
             0.5555555555555556,
             "#d8576b"
            ],
            [
             0.6666666666666666,
             "#ed7953"
            ],
            [
             0.7777777777777778,
             "#fb9f3a"
            ],
            [
             0.8888888888888888,
             "#fdca26"
            ],
            [
             1,
             "#f0f921"
            ]
           ]
          },
          "colorway": [
           "#636efa",
           "#EF553B",
           "#00cc96",
           "#ab63fa",
           "#FFA15A",
           "#19d3f3",
           "#FF6692",
           "#B6E880",
           "#FF97FF",
           "#FECB52"
          ],
          "font": {
           "color": "#2a3f5f"
          },
          "geo": {
           "bgcolor": "white",
           "lakecolor": "white",
           "landcolor": "#E5ECF6",
           "showlakes": true,
           "showland": true,
           "subunitcolor": "white"
          },
          "hoverlabel": {
           "align": "left"
          },
          "hovermode": "closest",
          "mapbox": {
           "style": "light"
          },
          "paper_bgcolor": "white",
          "plot_bgcolor": "#E5ECF6",
          "polar": {
           "angularaxis": {
            "gridcolor": "white",
            "linecolor": "white",
            "ticks": ""
           },
           "bgcolor": "#E5ECF6",
           "radialaxis": {
            "gridcolor": "white",
            "linecolor": "white",
            "ticks": ""
           }
          },
          "scene": {
           "xaxis": {
            "backgroundcolor": "#E5ECF6",
            "gridcolor": "white",
            "gridwidth": 2,
            "linecolor": "white",
            "showbackground": true,
            "ticks": "",
            "zerolinecolor": "white"
           },
           "yaxis": {
            "backgroundcolor": "#E5ECF6",
            "gridcolor": "white",
            "gridwidth": 2,
            "linecolor": "white",
            "showbackground": true,
            "ticks": "",
            "zerolinecolor": "white"
           },
           "zaxis": {
            "backgroundcolor": "#E5ECF6",
            "gridcolor": "white",
            "gridwidth": 2,
            "linecolor": "white",
            "showbackground": true,
            "ticks": "",
            "zerolinecolor": "white"
           }
          },
          "shapedefaults": {
           "line": {
            "color": "#2a3f5f"
           }
          },
          "ternary": {
           "aaxis": {
            "gridcolor": "white",
            "linecolor": "white",
            "ticks": ""
           },
           "baxis": {
            "gridcolor": "white",
            "linecolor": "white",
            "ticks": ""
           },
           "bgcolor": "#E5ECF6",
           "caxis": {
            "gridcolor": "white",
            "linecolor": "white",
            "ticks": ""
           }
          },
          "title": {
           "x": 0.05
          },
          "xaxis": {
           "automargin": true,
           "gridcolor": "white",
           "linecolor": "white",
           "ticks": "",
           "title": {
            "standoff": 15
           },
           "zerolinecolor": "white",
           "zerolinewidth": 2
          },
          "yaxis": {
           "automargin": true,
           "gridcolor": "white",
           "linecolor": "white",
           "ticks": "",
           "title": {
            "standoff": 15
           },
           "zerolinecolor": "white",
           "zerolinewidth": 2
          }
         }
        },
        "xaxis": {
         "anchor": "y",
         "domain": [
          0,
          1
         ],
         "title": {
          "text": "values"
         }
        },
        "yaxis": {
         "anchor": "x",
         "domain": [
          0,
          1
         ],
         "title": {
          "text": "male_max"
         }
        }
       }
      },
      "text/html": [
       "<div>                            <div id=\"3b788ce6-ef2f-4acc-8112-25ed77080371\" class=\"plotly-graph-div\" style=\"height:525px; width:100%;\"></div>            <script type=\"text/javascript\">                require([\"plotly\"], function(Plotly) {                    window.PLOTLYENV=window.PLOTLYENV || {};                                    if (document.getElementById(\"3b788ce6-ef2f-4acc-8112-25ed77080371\")) {                    Plotly.newPlot(                        \"3b788ce6-ef2f-4acc-8112-25ed77080371\",                        [{\"hovertemplate\":\"values=%{x}<br>male_max=%{y}<extra></extra>\",\"legendgroup\":\"\",\"marker\":{\"color\":\"#636efa\"},\"name\":\"\",\"orientation\":\"h\",\"showlegend\":false,\"x\":[91581,66697,55527,47860,39710,38476,33015,30605,29648,22039,21640,21332,20568,19836,19151,17425,17395,16249,15977,13752,13231,12684,12081,11431,11381,10835,10126,9406,9392,9306,9244,9193,9032,8868,8424,8071,7958,7750,7667,7363,7289,6845,6716,6707,6440,6306,6269,6236,6076,6020],\"xaxis\":\"x\",\"y\":[\"\\u041f\\u0440\\u043e\\u0434\\u0443\\u043a\\u0442\\u044b\",\"\\u0414\\u043e\\u043c \\u0438 \\u0434\\u0430\\u0447\\u0430\",\"\\u041e\\u0434\\u0435\\u0436\\u0434\\u0430, \\u043e\\u0431\\u0443\\u0432\\u044c \\u0438 \\u0430\\u043a\\u0441\\u0435\\u0441\\u0441\\u0443\\u0430\\u0440\\u044b\",\"\\u0414\\u0435\\u0442\\u0441\\u043a\\u0438\\u0435 \\u0442\\u043e\\u0432\\u0430\\u0440\\u044b\",\"\\u041a\\u0440\\u0430\\u0441\\u043e\\u0442\\u0430\",\"\\u042d\\u043b\\u0435\\u043a\\u0442\\u0440\\u043e\\u043d\\u0438\\u043a\\u0430\",\"\\u041a\\u043e\\u0441\\u043c\\u0435\\u0442\\u0438\\u043a\\u0430, \\u043f\\u0430\\u0440\\u0444\\u044e\\u043c\\u0435\\u0440\\u0438\\u044f \\u0438 \\u0443\\u0445\\u043e\\u0434\",\"\\u0422\\u043e\\u0432\\u0430\\u0440\\u044b \\u0434\\u043b\\u044f \\u0436\\u0438\\u0432\\u043e\\u0442\\u043d\\u044b\\u0445\",\"\\u0411\\u044b\\u0442\\u043e\\u0432\\u0430\\u044f \\u0442\\u0435\\u0445\\u043d\\u0438\\u043a\\u0430\",\"\\u0411\\u0430\\u043a\\u0430\\u043b\\u0435\\u0439\\u043d\\u044b\\u0435 \\u0442\\u043e\\u0432\\u0430\\u0440\\u044b\",\"\\u0422\\u0435\\u043b\\u0435\\u0444\\u043e\\u043d\\u044b\",\"\\u0414\\u043e\\u0441\\u0443\\u0433 \\u0438 \\u0440\\u0430\\u0437\\u0432\\u043b\\u0435\\u0447\\u0435\\u043d\\u0438\\u044f\",\"\\u0422\\u043e\\u0432\\u0430\\u0440\\u044b \\u0434\\u043b\\u044f \\u043c\\u0430\\u043c \\u0438 \\u043c\\u0430\\u043b\\u044b\\u0448\\u0435\\u0439\",\"\\u0421\\u0442\\u0440\\u043e\\u0438\\u0442\\u0435\\u043b\\u044c\\u0441\\u0442\\u0432\\u043e \\u0438 \\u0440\\u0435\\u043c\\u043e\\u043d\\u0442\",\"\\u041a\\u043e\\u0440\\u043c\\u0430 \\u0434\\u043b\\u044f \\u043a\\u043e\\u0448\\u0435\\u043a \\u0438 \\u0441\\u043e\\u0431\\u0430\\u043a\",\"\\u041c\\u043e\\u043b\\u043e\\u0447\\u043d\\u0430\\u044f \\u0433\\u0430\\u0441\\u0442\\u0440\\u043e\\u043d\\u043e\\u043c\\u0438\\u044f\",\"\\u041a\\u043e\\u043c\\u043f\\u044c\\u044e\\u0442\\u0435\\u0440\\u043d\\u0430\\u044f \\u0442\\u0435\\u0445\\u043d\\u0438\\u043a\\u0430\",\"\\u0418\\u0433\\u0440\\u0443\\u0448\\u043a\\u0438 \\u0438 \\u0438\\u0433\\u0440\\u044b\",\"\\u041e\\u0431\\u0443\\u0432\\u044c\",\"\\u0417\\u0434\\u043e\\u0440\\u043e\\u0432\\u044c\\u0435\",\"\\u041a\\u043e\\u0440\\u043c\\u0430 \\u0434\\u043b\\u044f \\u043a\\u043e\\u0448\\u0435\\u043a\",\"\\u041c\\u0443\\u0436\\u0441\\u043a\\u0430\\u044f \\u043e\\u0434\\u0435\\u0436\\u0434\\u0430\",\"\\u0414\\u0435\\u0442\\u0441\\u043a\\u0430\\u044f \\u043e\\u0434\\u0435\\u0436\\u0434\\u0430\",\"\\u041a\\u043d\\u0438\\u0433\\u0438 (inactive)\",\"\\u041c\\u043e\\u0431\\u0438\\u043b\\u044c\\u043d\\u044b\\u0435 \\u0442\\u0435\\u043b\\u0435\\u0444\\u043e\\u043d\\u044b\",\"\\u041b\\u0435\\u043a\\u0430\\u0440\\u0441\\u0442\\u0432\\u0430\",\"\\u0414\\u0435\\u0442\\u0441\\u043a\\u043e\\u0435 \\u043f\\u0438\\u0442\\u0430\\u043d\\u0438\\u0435\",\"\\u0410\\u0432\\u0442\\u043e\",\"\\u0418\\u043d\\u0441\\u0442\\u0440\\u0443\\u043c\\u0435\\u043d\\u0442\\u044b\",\"\\u0424\\u0440\\u0443\\u043a\\u0442\\u044b, \\u043e\\u0432\\u043e\\u0449\\u0438 \\u0438 \\u0433\\u0440\\u0438\\u0431\\u044b\",\"\\u041f\\u043e\\u0441\\u0443\\u0434\\u0430 \\u0438 \\u043a\\u0443\\u0445\\u043e\\u043d\\u043d\\u044b\\u0435 \\u043f\\u0440\\u0438\\u043d\\u0430\\u0434\\u043b\\u0435\\u0436\\u043d\\u043e\\u0441\\u0442\\u0438\",\"\\u041c\\u0435\\u0431\\u0435\\u043b\\u044c\",\"\\u041c\\u0435\\u043b\\u043a\\u0430\\u044f \\u0442\\u0435\\u0445\\u043d\\u0438\\u043a\\u0430 \\u0434\\u043b\\u044f \\u043a\\u0443\\u0445\\u043d\\u0438\",\"\\u041a\\u043e\\u043d\\u0434\\u0438\\u0442\\u0435\\u0440\\u0441\\u043a\\u0438\\u0435 \\u0438\\u0437\\u0434\\u0435\\u043b\\u0438\\u044f\",\"\\u0422\\u0435\\u0445\\u043d\\u0438\\u043a\\u0430 \\u0434\\u043b\\u044f \\u0434\\u043e\\u043c\\u0430\",\"\\u0416\\u0435\\u043d\\u0441\\u043a\\u0430\\u044f \\u043e\\u0434\\u0435\\u0436\\u0434\\u0430\",\"\\u0421\\u043f\\u043e\\u0440\\u0442 \\u0438 \\u043e\\u0442\\u0434\\u044b\\u0445\",\"\\u0416\\u0435\\u043d\\u0441\\u043a\\u0430\\u044f \\u043e\\u0431\\u0443\\u0432\\u044c\",\"\\u0410\\u0443\\u0434\\u0438\\u043e- \\u0438 \\u0432\\u0438\\u0434\\u0435\\u043e\\u0442\\u0435\\u0445\\u043d\\u0438\\u043a\\u0430\",\"\\u041c\\u044f\\u0441\\u043d\\u0430\\u044f \\u0433\\u0430\\u0441\\u0442\\u0440\\u043e\\u043d\\u043e\\u043c\\u0438\\u044f\",\"\\u0410\\u043a\\u0441\\u0435\\u0441\\u0441\\u0443\\u0430\\u0440\\u044b \\u0434\\u043b\\u044f \\u0442\\u0435\\u043b\\u0435\\u0444\\u043e\\u043d\\u043e\\u0432\",\"\\u0411\\u044b\\u0442\\u043e\\u0432\\u0430\\u044f \\u0445\\u0438\\u043c\\u0438\\u044f\",\"\\u041a\\u043e\\u043d\\u0441\\u0435\\u0440\\u0432\\u0430\\u0446\\u0438\\u044f\",\"\\u0410\\u043a\\u0441\\u0435\\u0441\\u0441\\u0443\\u0430\\u0440\\u044b\",\"\\u0411\\u0435\\u0437\\u0430\\u043b\\u043a\\u043e\\u0433\\u043e\\u043b\\u044c\\u043d\\u044b\\u0435 \\u043d\\u0430\\u043f\\u0438\\u0442\\u043a\\u0438\",\"\\u0421\\u0440\\u0435\\u0434\\u0441\\u0442\\u0432\\u0430 \\u0438 \\u043f\\u0440\\u0435\\u0434\\u043c\\u0435\\u0442\\u044b \\u0433\\u0438\\u0433\\u0438\\u0435\\u043d\\u044b\",\"\\u0427\\u0430\\u0439, \\u043a\\u043e\\u0444\\u0435, \\u043a\\u0430\\u043a\\u0430\\u043e\",\"\\u0423\\u0445\\u043e\\u0434 \\u0437\\u0430 \\u0442\\u0435\\u043b\\u043e\\u043c\",\"\\u0423\\u0445\\u043e\\u0434 \\u0437\\u0430 \\u043b\\u0438\\u0446\\u043e\\u043c\",\"\\u041f\\u043e\\u0440\\u0442\\u0430\\u0442\\u0438\\u0432\\u043d\\u0430\\u044f \\u0442\\u0435\\u0445\\u043d\\u0438\\u043a\\u0430\"],\"yaxis\":\"y\",\"type\":\"funnel\"}],                        {\"template\":{\"data\":{\"bar\":[{\"error_x\":{\"color\":\"#2a3f5f\"},\"error_y\":{\"color\":\"#2a3f5f\"},\"marker\":{\"line\":{\"color\":\"#E5ECF6\",\"width\":0.5},\"pattern\":{\"fillmode\":\"overlay\",\"size\":10,\"solidity\":0.2}},\"type\":\"bar\"}],\"barpolar\":[{\"marker\":{\"line\":{\"color\":\"#E5ECF6\",\"width\":0.5},\"pattern\":{\"fillmode\":\"overlay\",\"size\":10,\"solidity\":0.2}},\"type\":\"barpolar\"}],\"carpet\":[{\"aaxis\":{\"endlinecolor\":\"#2a3f5f\",\"gridcolor\":\"white\",\"linecolor\":\"white\",\"minorgridcolor\":\"white\",\"startlinecolor\":\"#2a3f5f\"},\"baxis\":{\"endlinecolor\":\"#2a3f5f\",\"gridcolor\":\"white\",\"linecolor\":\"white\",\"minorgridcolor\":\"white\",\"startlinecolor\":\"#2a3f5f\"},\"type\":\"carpet\"}],\"choropleth\":[{\"colorbar\":{\"outlinewidth\":0,\"ticks\":\"\"},\"type\":\"choropleth\"}],\"contour\":[{\"colorbar\":{\"outlinewidth\":0,\"ticks\":\"\"},\"colorscale\":[[0.0,\"#0d0887\"],[0.1111111111111111,\"#46039f\"],[0.2222222222222222,\"#7201a8\"],[0.3333333333333333,\"#9c179e\"],[0.4444444444444444,\"#bd3786\"],[0.5555555555555556,\"#d8576b\"],[0.6666666666666666,\"#ed7953\"],[0.7777777777777778,\"#fb9f3a\"],[0.8888888888888888,\"#fdca26\"],[1.0,\"#f0f921\"]],\"type\":\"contour\"}],\"contourcarpet\":[{\"colorbar\":{\"outlinewidth\":0,\"ticks\":\"\"},\"type\":\"contourcarpet\"}],\"heatmap\":[{\"colorbar\":{\"outlinewidth\":0,\"ticks\":\"\"},\"colorscale\":[[0.0,\"#0d0887\"],[0.1111111111111111,\"#46039f\"],[0.2222222222222222,\"#7201a8\"],[0.3333333333333333,\"#9c179e\"],[0.4444444444444444,\"#bd3786\"],[0.5555555555555556,\"#d8576b\"],[0.6666666666666666,\"#ed7953\"],[0.7777777777777778,\"#fb9f3a\"],[0.8888888888888888,\"#fdca26\"],[1.0,\"#f0f921\"]],\"type\":\"heatmap\"}],\"heatmapgl\":[{\"colorbar\":{\"outlinewidth\":0,\"ticks\":\"\"},\"colorscale\":[[0.0,\"#0d0887\"],[0.1111111111111111,\"#46039f\"],[0.2222222222222222,\"#7201a8\"],[0.3333333333333333,\"#9c179e\"],[0.4444444444444444,\"#bd3786\"],[0.5555555555555556,\"#d8576b\"],[0.6666666666666666,\"#ed7953\"],[0.7777777777777778,\"#fb9f3a\"],[0.8888888888888888,\"#fdca26\"],[1.0,\"#f0f921\"]],\"type\":\"heatmapgl\"}],\"histogram\":[{\"marker\":{\"pattern\":{\"fillmode\":\"overlay\",\"size\":10,\"solidity\":0.2}},\"type\":\"histogram\"}],\"histogram2d\":[{\"colorbar\":{\"outlinewidth\":0,\"ticks\":\"\"},\"colorscale\":[[0.0,\"#0d0887\"],[0.1111111111111111,\"#46039f\"],[0.2222222222222222,\"#7201a8\"],[0.3333333333333333,\"#9c179e\"],[0.4444444444444444,\"#bd3786\"],[0.5555555555555556,\"#d8576b\"],[0.6666666666666666,\"#ed7953\"],[0.7777777777777778,\"#fb9f3a\"],[0.8888888888888888,\"#fdca26\"],[1.0,\"#f0f921\"]],\"type\":\"histogram2d\"}],\"histogram2dcontour\":[{\"colorbar\":{\"outlinewidth\":0,\"ticks\":\"\"},\"colorscale\":[[0.0,\"#0d0887\"],[0.1111111111111111,\"#46039f\"],[0.2222222222222222,\"#7201a8\"],[0.3333333333333333,\"#9c179e\"],[0.4444444444444444,\"#bd3786\"],[0.5555555555555556,\"#d8576b\"],[0.6666666666666666,\"#ed7953\"],[0.7777777777777778,\"#fb9f3a\"],[0.8888888888888888,\"#fdca26\"],[1.0,\"#f0f921\"]],\"type\":\"histogram2dcontour\"}],\"mesh3d\":[{\"colorbar\":{\"outlinewidth\":0,\"ticks\":\"\"},\"type\":\"mesh3d\"}],\"parcoords\":[{\"line\":{\"colorbar\":{\"outlinewidth\":0,\"ticks\":\"\"}},\"type\":\"parcoords\"}],\"pie\":[{\"automargin\":true,\"type\":\"pie\"}],\"scatter\":[{\"marker\":{\"colorbar\":{\"outlinewidth\":0,\"ticks\":\"\"}},\"type\":\"scatter\"}],\"scatter3d\":[{\"line\":{\"colorbar\":{\"outlinewidth\":0,\"ticks\":\"\"}},\"marker\":{\"colorbar\":{\"outlinewidth\":0,\"ticks\":\"\"}},\"type\":\"scatter3d\"}],\"scattercarpet\":[{\"marker\":{\"colorbar\":{\"outlinewidth\":0,\"ticks\":\"\"}},\"type\":\"scattercarpet\"}],\"scattergeo\":[{\"marker\":{\"colorbar\":{\"outlinewidth\":0,\"ticks\":\"\"}},\"type\":\"scattergeo\"}],\"scattergl\":[{\"marker\":{\"colorbar\":{\"outlinewidth\":0,\"ticks\":\"\"}},\"type\":\"scattergl\"}],\"scattermapbox\":[{\"marker\":{\"colorbar\":{\"outlinewidth\":0,\"ticks\":\"\"}},\"type\":\"scattermapbox\"}],\"scatterpolar\":[{\"marker\":{\"colorbar\":{\"outlinewidth\":0,\"ticks\":\"\"}},\"type\":\"scatterpolar\"}],\"scatterpolargl\":[{\"marker\":{\"colorbar\":{\"outlinewidth\":0,\"ticks\":\"\"}},\"type\":\"scatterpolargl\"}],\"scatterternary\":[{\"marker\":{\"colorbar\":{\"outlinewidth\":0,\"ticks\":\"\"}},\"type\":\"scatterternary\"}],\"surface\":[{\"colorbar\":{\"outlinewidth\":0,\"ticks\":\"\"},\"colorscale\":[[0.0,\"#0d0887\"],[0.1111111111111111,\"#46039f\"],[0.2222222222222222,\"#7201a8\"],[0.3333333333333333,\"#9c179e\"],[0.4444444444444444,\"#bd3786\"],[0.5555555555555556,\"#d8576b\"],[0.6666666666666666,\"#ed7953\"],[0.7777777777777778,\"#fb9f3a\"],[0.8888888888888888,\"#fdca26\"],[1.0,\"#f0f921\"]],\"type\":\"surface\"}],\"table\":[{\"cells\":{\"fill\":{\"color\":\"#EBF0F8\"},\"line\":{\"color\":\"white\"}},\"header\":{\"fill\":{\"color\":\"#C8D4E3\"},\"line\":{\"color\":\"white\"}},\"type\":\"table\"}]},\"layout\":{\"annotationdefaults\":{\"arrowcolor\":\"#2a3f5f\",\"arrowhead\":0,\"arrowwidth\":1},\"autotypenumbers\":\"strict\",\"coloraxis\":{\"colorbar\":{\"outlinewidth\":0,\"ticks\":\"\"}},\"colorscale\":{\"diverging\":[[0,\"#8e0152\"],[0.1,\"#c51b7d\"],[0.2,\"#de77ae\"],[0.3,\"#f1b6da\"],[0.4,\"#fde0ef\"],[0.5,\"#f7f7f7\"],[0.6,\"#e6f5d0\"],[0.7,\"#b8e186\"],[0.8,\"#7fbc41\"],[0.9,\"#4d9221\"],[1,\"#276419\"]],\"sequential\":[[0.0,\"#0d0887\"],[0.1111111111111111,\"#46039f\"],[0.2222222222222222,\"#7201a8\"],[0.3333333333333333,\"#9c179e\"],[0.4444444444444444,\"#bd3786\"],[0.5555555555555556,\"#d8576b\"],[0.6666666666666666,\"#ed7953\"],[0.7777777777777778,\"#fb9f3a\"],[0.8888888888888888,\"#fdca26\"],[1.0,\"#f0f921\"]],\"sequentialminus\":[[0.0,\"#0d0887\"],[0.1111111111111111,\"#46039f\"],[0.2222222222222222,\"#7201a8\"],[0.3333333333333333,\"#9c179e\"],[0.4444444444444444,\"#bd3786\"],[0.5555555555555556,\"#d8576b\"],[0.6666666666666666,\"#ed7953\"],[0.7777777777777778,\"#fb9f3a\"],[0.8888888888888888,\"#fdca26\"],[1.0,\"#f0f921\"]]},\"colorway\":[\"#636efa\",\"#EF553B\",\"#00cc96\",\"#ab63fa\",\"#FFA15A\",\"#19d3f3\",\"#FF6692\",\"#B6E880\",\"#FF97FF\",\"#FECB52\"],\"font\":{\"color\":\"#2a3f5f\"},\"geo\":{\"bgcolor\":\"white\",\"lakecolor\":\"white\",\"landcolor\":\"#E5ECF6\",\"showlakes\":true,\"showland\":true,\"subunitcolor\":\"white\"},\"hoverlabel\":{\"align\":\"left\"},\"hovermode\":\"closest\",\"mapbox\":{\"style\":\"light\"},\"paper_bgcolor\":\"white\",\"plot_bgcolor\":\"#E5ECF6\",\"polar\":{\"angularaxis\":{\"gridcolor\":\"white\",\"linecolor\":\"white\",\"ticks\":\"\"},\"bgcolor\":\"#E5ECF6\",\"radialaxis\":{\"gridcolor\":\"white\",\"linecolor\":\"white\",\"ticks\":\"\"}},\"scene\":{\"xaxis\":{\"backgroundcolor\":\"#E5ECF6\",\"gridcolor\":\"white\",\"gridwidth\":2,\"linecolor\":\"white\",\"showbackground\":true,\"ticks\":\"\",\"zerolinecolor\":\"white\"},\"yaxis\":{\"backgroundcolor\":\"#E5ECF6\",\"gridcolor\":\"white\",\"gridwidth\":2,\"linecolor\":\"white\",\"showbackground\":true,\"ticks\":\"\",\"zerolinecolor\":\"white\"},\"zaxis\":{\"backgroundcolor\":\"#E5ECF6\",\"gridcolor\":\"white\",\"gridwidth\":2,\"linecolor\":\"white\",\"showbackground\":true,\"ticks\":\"\",\"zerolinecolor\":\"white\"}},\"shapedefaults\":{\"line\":{\"color\":\"#2a3f5f\"}},\"ternary\":{\"aaxis\":{\"gridcolor\":\"white\",\"linecolor\":\"white\",\"ticks\":\"\"},\"baxis\":{\"gridcolor\":\"white\",\"linecolor\":\"white\",\"ticks\":\"\"},\"bgcolor\":\"#E5ECF6\",\"caxis\":{\"gridcolor\":\"white\",\"linecolor\":\"white\",\"ticks\":\"\"}},\"title\":{\"x\":0.05},\"xaxis\":{\"automargin\":true,\"gridcolor\":\"white\",\"linecolor\":\"white\",\"ticks\":\"\",\"title\":{\"standoff\":15},\"zerolinecolor\":\"white\",\"zerolinewidth\":2},\"yaxis\":{\"automargin\":true,\"gridcolor\":\"white\",\"linecolor\":\"white\",\"ticks\":\"\",\"title\":{\"standoff\":15},\"zerolinecolor\":\"white\",\"zerolinewidth\":2}}},\"xaxis\":{\"anchor\":\"y\",\"domain\":[0.0,1.0],\"title\":{\"text\":\"values\"}},\"yaxis\":{\"anchor\":\"x\",\"domain\":[0.0,1.0],\"title\":{\"text\":\"male_max\"}},\"legend\":{\"tracegroupgap\":0},\"margin\":{\"t\":60}},                        {\"responsive\": true}                    ).then(function(){\n",
       "                            \n",
       "var gd = document.getElementById('3b788ce6-ef2f-4acc-8112-25ed77080371');\n",
       "var x = new MutationObserver(function (mutations, observer) {{\n",
       "        var display = window.getComputedStyle(gd).display;\n",
       "        if (!display || display === 'none') {{\n",
       "            console.log([gd, 'removed!']);\n",
       "            Plotly.purge(gd);\n",
       "            observer.disconnect();\n",
       "        }}\n",
       "}});\n",
       "\n",
       "// Listen for the removal of the full notebook cells\n",
       "var notebookContainer = gd.closest('#notebook-container');\n",
       "if (notebookContainer) {{\n",
       "    x.observe(notebookContainer, {childList: true});\n",
       "}}\n",
       "\n",
       "// Listen for the clearing of the current output cell\n",
       "var outputEl = gd.closest('.output');\n",
       "if (outputEl) {{\n",
       "    x.observe(outputEl, {childList: true});\n",
       "}}\n",
       "\n",
       "                        })                };                });            </script>        </div>"
      ]
     },
     "metadata": {},
     "output_type": "display_data"
    }
   ],
   "source": [
    "import plotly.express as px\n",
    "data = dict(values=df_male_max['male'],male_max=df_male_max['Description'])\n",
    "fig = px.funnel(data, y='male_max',x='values')\n",
    "fig.show()"
   ]
  },
  {
   "cell_type": "code",
   "execution_count": 92,
   "metadata": {},
   "outputs": [
    {
     "data": {
      "application/vnd.plotly.v1+json": {
       "config": {
        "plotlyServerURL": "https://plot.ly"
       },
       "data": [
        {
         "hovertemplate": "values=%{x}<br>female_max=%{y}<extra></extra>",
         "legendgroup": "230669",
         "marker": {
          "color": "#636efa"
         },
         "name": "230669",
         "orientation": "h",
         "showlegend": true,
         "type": "funnel",
         "x": [
          230669
         ],
         "xaxis": "x",
         "y": [
          "Красота"
         ],
         "yaxis": "y"
        },
        {
         "hovertemplate": "values=%{x}<br>female_max=%{y}<extra></extra>",
         "legendgroup": "210020",
         "marker": {
          "color": "#EF553B"
         },
         "name": "210020",
         "orientation": "h",
         "showlegend": true,
         "type": "funnel",
         "x": [
          210020
         ],
         "xaxis": "x",
         "y": [
          "Косметика, парфюмерия и уход"
         ],
         "yaxis": "y"
        },
        {
         "hovertemplate": "values=%{x}<br>female_max=%{y}<extra></extra>",
         "legendgroup": "196815",
         "marker": {
          "color": "#00cc96"
         },
         "name": "196815",
         "orientation": "h",
         "showlegend": true,
         "type": "funnel",
         "x": [
          196815
         ],
         "xaxis": "x",
         "y": [
          "Одежда, обувь и аксессуары"
         ],
         "yaxis": "y"
        },
        {
         "hovertemplate": "values=%{x}<br>female_max=%{y}<extra></extra>",
         "legendgroup": "173974",
         "marker": {
          "color": "#ab63fa"
         },
         "name": "173974",
         "orientation": "h",
         "showlegend": true,
         "type": "funnel",
         "x": [
          173974
         ],
         "xaxis": "x",
         "y": [
          "Продукты"
         ],
         "yaxis": "y"
        },
        {
         "hovertemplate": "values=%{x}<br>female_max=%{y}<extra></extra>",
         "legendgroup": "151891",
         "marker": {
          "color": "#FFA15A"
         },
         "name": "151891",
         "orientation": "h",
         "showlegend": true,
         "type": "funnel",
         "x": [
          151891
         ],
         "xaxis": "x",
         "y": [
          "Детские товары"
         ],
         "yaxis": "y"
        },
        {
         "hovertemplate": "values=%{x}<br>female_max=%{y}<extra></extra>",
         "legendgroup": "118183",
         "marker": {
          "color": "#19d3f3"
         },
         "name": "118183",
         "orientation": "h",
         "showlegend": true,
         "type": "funnel",
         "x": [
          118183
         ],
         "xaxis": "x",
         "y": [
          "Товары для животных"
         ],
         "yaxis": "y"
        },
        {
         "hovertemplate": "values=%{x}<br>female_max=%{y}<extra></extra>",
         "legendgroup": "109594",
         "marker": {
          "color": "#FF6692"
         },
         "name": "109594",
         "orientation": "h",
         "showlegend": true,
         "type": "funnel",
         "x": [
          109594
         ],
         "xaxis": "x",
         "y": [
          "Дом и дача"
         ],
         "yaxis": "y"
        },
        {
         "hovertemplate": "values=%{x}<br>female_max=%{y}<extra></extra>",
         "legendgroup": "74084",
         "marker": {
          "color": "#B6E880"
         },
         "name": "74084",
         "orientation": "h",
         "showlegend": true,
         "type": "funnel",
         "x": [
          74084
         ],
         "xaxis": "x",
         "y": [
          "Корма для кошек и собак"
         ],
         "yaxis": "y"
        },
        {
         "hovertemplate": "values=%{x}<br>female_max=%{y}<extra></extra>",
         "legendgroup": "65196",
         "marker": {
          "color": "#FF97FF"
         },
         "name": "65196",
         "orientation": "h",
         "showlegend": true,
         "type": "funnel",
         "x": [
          65196
         ],
         "xaxis": "x",
         "y": [
          "Товары для мам и малышей"
         ],
         "yaxis": "y"
        },
        {
         "hovertemplate": "values=%{x}<br>female_max=%{y}<extra></extra>",
         "legendgroup": "57072",
         "marker": {
          "color": "#FECB52"
         },
         "name": "57072",
         "orientation": "h",
         "showlegend": true,
         "type": "funnel",
         "x": [
          57072
         ],
         "xaxis": "x",
         "y": [
          "Обувь"
         ],
         "yaxis": "y"
        },
        {
         "hovertemplate": "values=%{x}<br>female_max=%{y}<extra></extra>",
         "legendgroup": "54363",
         "marker": {
          "color": "#636efa"
         },
         "name": "54363",
         "orientation": "h",
         "showlegend": true,
         "type": "funnel",
         "x": [
          54363
         ],
         "xaxis": "x",
         "y": [
          "Детская одежда"
         ],
         "yaxis": "y"
        },
        {
         "hovertemplate": "values=%{x}<br>female_max=%{y}<extra></extra>",
         "legendgroup": "54109",
         "marker": {
          "color": "#EF553B"
         },
         "name": "54109",
         "orientation": "h",
         "showlegend": true,
         "type": "funnel",
         "x": [
          54109
         ],
         "xaxis": "x",
         "y": [
          "Корма для кошек"
         ],
         "yaxis": "y"
        },
        {
         "hovertemplate": "values=%{x}<br>female_max=%{y}<extra></extra>",
         "legendgroup": "49732",
         "marker": {
          "color": "#00cc96"
         },
         "name": "49732",
         "orientation": "h",
         "showlegend": true,
         "type": "funnel",
         "x": [
          49732
         ],
         "xaxis": "x",
         "y": [
          "Уход за лицом"
         ],
         "yaxis": "y"
        },
        {
         "hovertemplate": "values=%{x}<br>female_max=%{y}<extra></extra>",
         "legendgroup": "48124",
         "marker": {
          "color": "#ab63fa"
         },
         "name": "48124",
         "orientation": "h",
         "showlegend": true,
         "type": "funnel",
         "x": [
          48124
         ],
         "xaxis": "x",
         "y": [
          "Женская одежда"
         ],
         "yaxis": "y"
        },
        {
         "hovertemplate": "values=%{x}<br>female_max=%{y}<extra></extra>",
         "legendgroup": "46989",
         "marker": {
          "color": "#FFA15A"
         },
         "name": "46989",
         "orientation": "h",
         "showlegend": true,
         "type": "funnel",
         "x": [
          46989
         ],
         "xaxis": "x",
         "y": [
          "Макияж"
         ],
         "yaxis": "y"
        },
        {
         "hovertemplate": "values=%{x}<br>female_max=%{y}<extra></extra>",
         "legendgroup": "45989",
         "marker": {
          "color": "#19d3f3"
         },
         "name": "45989",
         "orientation": "h",
         "showlegend": true,
         "type": "funnel",
         "x": [
          45989
         ],
         "xaxis": "x",
         "y": [
          "Досуг и развлечения"
         ],
         "yaxis": "y"
        },
        {
         "hovertemplate": "values=%{x}<br>female_max=%{y}<extra></extra>",
         "legendgroup": "44805",
         "marker": {
          "color": "#FF6692"
         },
         "name": "44805",
         "orientation": "h",
         "showlegend": true,
         "type": "funnel",
         "x": [
          44805
         ],
         "xaxis": "x",
         "y": [
          "Игрушки и игры"
         ],
         "yaxis": "y"
        },
        {
         "hovertemplate": "values=%{x}<br>female_max=%{y}<extra></extra>",
         "legendgroup": "38783",
         "marker": {
          "color": "#B6E880"
         },
         "name": "38783",
         "orientation": "h",
         "showlegend": true,
         "type": "funnel",
         "x": [
          38783
         ],
         "xaxis": "x",
         "y": [
          "Бакалейные товары"
         ],
         "yaxis": "y"
        },
        {
         "hovertemplate": "values=%{x}<br>female_max=%{y}<extra></extra>",
         "legendgroup": "36428",
         "marker": {
          "color": "#FF97FF"
         },
         "name": "36428",
         "orientation": "h",
         "showlegend": true,
         "type": "funnel",
         "x": [
          36428
         ],
         "xaxis": "x",
         "y": [
          "Женская обувь"
         ],
         "yaxis": "y"
        },
        {
         "hovertemplate": "values=%{x}<br>female_max=%{y}<extra></extra>",
         "legendgroup": "35361",
         "marker": {
          "color": "#FECB52"
         },
         "name": "35361",
         "orientation": "h",
         "showlegend": true,
         "type": "funnel",
         "x": [
          35361
         ],
         "xaxis": "x",
         "y": [
          "Молочная гастрономия"
         ],
         "yaxis": "y"
        },
        {
         "hovertemplate": "values=%{x}<br>female_max=%{y}<extra></extra>",
         "legendgroup": "34196",
         "marker": {
          "color": "#636efa"
         },
         "name": "34196",
         "orientation": "h",
         "showlegend": true,
         "type": "funnel",
         "x": [
          34196
         ],
         "xaxis": "x",
         "y": [
          "Бытовая техника"
         ],
         "yaxis": "y"
        },
        {
         "hovertemplate": "values=%{x}<br>female_max=%{y}<extra></extra>",
         "legendgroup": "34158",
         "marker": {
          "color": "#EF553B"
         },
         "name": "34158",
         "orientation": "h",
         "showlegend": true,
         "type": "funnel",
         "x": [
          34158
         ],
         "xaxis": "x",
         "y": [
          "Уход за волосами"
         ],
         "yaxis": "y"
        },
        {
         "hovertemplate": "values=%{x}<br>female_max=%{y}<extra></extra>",
         "legendgroup": "33841",
         "marker": {
          "color": "#00cc96"
         },
         "name": "33841",
         "orientation": "h",
         "showlegend": true,
         "type": "funnel",
         "x": [
          33841
         ],
         "xaxis": "x",
         "y": [
          "Уход за телом"
         ],
         "yaxis": "y"
        },
        {
         "hovertemplate": "values=%{x}<br>female_max=%{y}<extra></extra>",
         "legendgroup": "33585",
         "marker": {
          "color": "#ab63fa"
         },
         "name": "33585",
         "orientation": "h",
         "showlegend": true,
         "type": "funnel",
         "x": [
          33585
         ],
         "xaxis": "x",
         "y": [
          "Детское питание"
         ],
         "yaxis": "y"
        },
        {
         "hovertemplate": "values=%{x}<br>female_max=%{y}<extra></extra>",
         "legendgroup": "32529",
         "marker": {
          "color": "#FFA15A"
         },
         "name": "32529",
         "orientation": "h",
         "showlegend": true,
         "type": "funnel",
         "x": [
          32529
         ],
         "xaxis": "x",
         "y": [
          "Здоровье"
         ],
         "yaxis": "y"
        },
        {
         "hovertemplate": "values=%{x}<br>female_max=%{y}<extra></extra>",
         "legendgroup": "27310",
         "marker": {
          "color": "#19d3f3"
         },
         "name": "27310",
         "orientation": "h",
         "showlegend": true,
         "type": "funnel",
         "x": [
          27310
         ],
         "xaxis": "x",
         "y": [
          "Книги (inactive)"
         ],
         "yaxis": "y"
        },
        {
         "hovertemplate": "values=%{x}<br>female_max=%{y}<extra></extra>",
         "legendgroup": "26592",
         "marker": {
          "color": "#FF6692"
         },
         "name": "26592",
         "orientation": "h",
         "showlegend": true,
         "type": "funnel",
         "x": [
          26592
         ],
         "xaxis": "x",
         "y": [
          "Электроника"
         ],
         "yaxis": "y"
        },
        {
         "hovertemplate": "values=%{x}<br>female_max=%{y}<extra></extra>",
         "legendgroup": "24070",
         "marker": {
          "color": "#B6E880"
         },
         "name": "24070",
         "orientation": "h",
         "showlegend": true,
         "type": "funnel",
         "x": [
          24070
         ],
         "xaxis": "x",
         "y": [
          "Лекарства"
         ],
         "yaxis": "y"
        },
        {
         "hovertemplate": "values=%{x}<br>female_max=%{y}<extra></extra>",
         "legendgroup": "23713",
         "marker": {
          "color": "#FF97FF"
         },
         "name": "23713",
         "orientation": "h",
         "showlegend": true,
         "type": "funnel",
         "x": [
          23713
         ],
         "xaxis": "x",
         "y": [
          "Уход за ногтями"
         ],
         "yaxis": "y"
        },
        {
         "hovertemplate": "values=%{x}<br>female_max=%{y}<extra></extra>",
         "legendgroup": "22300",
         "marker": {
          "color": "#FECB52"
         },
         "name": "22300",
         "orientation": "h",
         "showlegend": true,
         "type": "funnel",
         "x": [
          22300
         ],
         "xaxis": "x",
         "y": [
          "Аксессуары"
         ],
         "yaxis": "y"
        },
        {
         "hovertemplate": "values=%{x}<br>female_max=%{y}<extra></extra>",
         "legendgroup": "20572",
         "marker": {
          "color": "#636efa"
         },
         "name": "20572",
         "orientation": "h",
         "showlegend": true,
         "type": "funnel",
         "x": [
          20572
         ],
         "xaxis": "x",
         "y": [
          "Для девочек"
         ],
         "yaxis": "y"
        },
        {
         "hovertemplate": "values=%{x}<br>female_max=%{y}<extra></extra>",
         "legendgroup": "19975",
         "marker": {
          "color": "#EF553B"
         },
         "name": "19975",
         "orientation": "h",
         "showlegend": true,
         "type": "funnel",
         "x": [
          19975
         ],
         "xaxis": "x",
         "y": [
          "Корма для собак"
         ],
         "yaxis": "y"
        },
        {
         "hovertemplate": "values=%{x}<br>female_max=%{y}<extra></extra>",
         "legendgroup": "19853",
         "marker": {
          "color": "#00cc96"
         },
         "name": "19853",
         "orientation": "h",
         "showlegend": true,
         "type": "funnel",
         "x": [
          19853
         ],
         "xaxis": "x",
         "y": [
          "Средства и предметы гигиены"
         ],
         "yaxis": "y"
        },
        {
         "hovertemplate": "values=%{x}<br>female_max=%{y}<extra></extra>",
         "legendgroup": "19149",
         "marker": {
          "color": "#ab63fa"
         },
         "name": "19149",
         "orientation": "h",
         "showlegend": true,
         "type": "funnel",
         "x": [
          19149
         ],
         "xaxis": "x",
         "y": [
          "Кондитерские изделия"
         ],
         "yaxis": "y"
        },
        {
         "hovertemplate": "values=%{x}<br>female_max=%{y}<extra></extra>",
         "legendgroup": "18300",
         "marker": {
          "color": "#FFA15A"
         },
         "name": "18300",
         "orientation": "h",
         "showlegend": true,
         "type": "funnel",
         "x": [
          18300
         ],
         "xaxis": "x",
         "y": [
          "Фрукты, овощи и грибы"
         ],
         "yaxis": "y"
        },
        {
         "hovertemplate": "values=%{x}<br>female_max=%{y}<extra></extra>",
         "legendgroup": "17870",
         "marker": {
          "color": "#19d3f3"
         },
         "name": "17870",
         "orientation": "h",
         "showlegend": true,
         "type": "funnel",
         "x": [
          17870
         ],
         "xaxis": "x",
         "y": [
          "Бытовая химия"
         ],
         "yaxis": "y"
        },
        {
         "hovertemplate": "values=%{x}<br>female_max=%{y}<extra></extra>",
         "legendgroup": "17070",
         "marker": {
          "color": "#FF6692"
         },
         "name": "17070",
         "orientation": "h",
         "showlegend": true,
         "type": "funnel",
         "x": [
          17070
         ],
         "xaxis": "x",
         "y": [
          "Посуда и кухонные принадлежности"
         ],
         "yaxis": "y"
        },
        {
         "hovertemplate": "values=%{x}<br>female_max=%{y}<extra></extra>",
         "legendgroup": "15962",
         "marker": {
          "color": "#B6E880"
         },
         "name": "15962",
         "orientation": "h",
         "showlegend": true,
         "type": "funnel",
         "x": [
          15962
         ],
         "xaxis": "x",
         "y": [
          "Пюре"
         ],
         "yaxis": "y"
        },
        {
         "hovertemplate": "values=%{x}<br>female_max=%{y}<extra></extra>",
         "legendgroup": "15942",
         "marker": {
          "color": "#FF97FF"
         },
         "name": "15942",
         "orientation": "h",
         "showlegend": true,
         "type": "funnel",
         "x": [
          15942
         ],
         "xaxis": "x",
         "y": [
          "Подгузники и приучение к горшку"
         ],
         "yaxis": "y"
        },
        {
         "hovertemplate": "values=%{x}<br>female_max=%{y}<extra></extra>",
         "legendgroup": "15581",
         "marker": {
          "color": "#FECB52"
         },
         "name": "15581",
         "orientation": "h",
         "showlegend": true,
         "type": "funnel",
         "x": [
          15581
         ],
         "xaxis": "x",
         "y": [
          "Телефоны"
         ],
         "yaxis": "y"
        },
        {
         "hovertemplate": "values=%{x}<br>female_max=%{y}<extra></extra>",
         "legendgroup": "14993",
         "marker": {
          "color": "#636efa"
         },
         "name": "14993",
         "orientation": "h",
         "showlegend": true,
         "type": "funnel",
         "x": [
          14993
         ],
         "xaxis": "x",
         "y": [
          "Парфюмерия"
         ],
         "yaxis": "y"
        },
        {
         "hovertemplate": "values=%{x}<br>female_max=%{y}<extra></extra>",
         "legendgroup": "14944",
         "marker": {
          "color": "#EF553B"
         },
         "name": "14944",
         "orientation": "h",
         "showlegend": true,
         "type": "funnel",
         "x": [
          14944
         ],
         "xaxis": "x",
         "y": [
          "Мужская одежда"
         ],
         "yaxis": "y"
        },
        {
         "hovertemplate": "values=%{x}<br>female_max=%{y}<extra></extra>",
         "legendgroup": "14869",
         "marker": {
          "color": "#00cc96"
         },
         "name": "14869",
         "orientation": "h",
         "showlegend": true,
         "type": "funnel",
         "x": [
          14869
         ],
         "xaxis": "x",
         "y": [
          "Мебель"
         ],
         "yaxis": "y"
        },
        {
         "hovertemplate": "values=%{x}<br>female_max=%{y}<extra></extra>",
         "legendgroup": "14844",
         "marker": {
          "color": "#ab63fa"
         },
         "name": "14844",
         "orientation": "h",
         "showlegend": true,
         "type": "funnel",
         "x": [
          14844
         ],
         "xaxis": "x",
         "y": [
          "Для лица"
         ],
         "yaxis": "y"
        },
        {
         "hovertemplate": "values=%{x}<br>female_max=%{y}<extra></extra>",
         "legendgroup": "14754",
         "marker": {
          "color": "#FFA15A"
         },
         "name": "14754",
         "orientation": "h",
         "showlegend": true,
         "type": "funnel",
         "x": [
          14754
         ],
         "xaxis": "x",
         "y": [
          "Хобби и творчество"
         ],
         "yaxis": "y"
        },
        {
         "hovertemplate": "values=%{x}<br>female_max=%{y}<extra></extra>",
         "legendgroup": "14017",
         "marker": {
          "color": "#19d3f3"
         },
         "name": "14017",
         "orientation": "h",
         "showlegend": true,
         "type": "funnel",
         "x": [
          14017
         ],
         "xaxis": "x",
         "y": [
          "Для мальчиков"
         ],
         "yaxis": "y"
        },
        {
         "hovertemplate": "values=%{x}<br>female_max=%{y}<extra></extra>",
         "legendgroup": "13684",
         "marker": {
          "color": "#FF6692"
         },
         "name": "13684",
         "orientation": "h",
         "showlegend": true,
         "type": "funnel",
         "x": [
          13684
         ],
         "xaxis": "x",
         "y": [
          "Строительство и ремонт"
         ],
         "yaxis": "y"
        },
        {
         "hovertemplate": "values=%{x}<br>female_max=%{y}<extra></extra>",
         "legendgroup": "13679",
         "marker": {
          "color": "#B6E880"
         },
         "name": "13679",
         "orientation": "h",
         "showlegend": true,
         "type": "funnel",
         "x": [
          13679
         ],
         "xaxis": "x",
         "y": [
          "Развитие и обучение"
         ],
         "yaxis": "y"
        },
        {
         "hovertemplate": "values=%{x}<br>female_max=%{y}<extra></extra>",
         "legendgroup": "13044",
         "marker": {
          "color": "#FF97FF"
         },
         "name": "13044",
         "orientation": "h",
         "showlegend": true,
         "type": "funnel",
         "x": [
          13044
         ],
         "xaxis": "x",
         "y": [
          "Мясная гастрономия"
         ],
         "yaxis": "y"
        },
        {
         "hovertemplate": "values=%{x}<br>female_max=%{y}<extra></extra>",
         "legendgroup": "12387",
         "marker": {
          "color": "#FECB52"
         },
         "name": "12387",
         "orientation": "h",
         "showlegend": true,
         "type": "funnel",
         "x": [
          12387
         ],
         "xaxis": "x",
         "y": [
          "Для глаз"
         ],
         "yaxis": "y"
        }
       ],
       "layout": {
        "legend": {
         "title": {
          "text": "values"
         },
         "tracegroupgap": 0
        },
        "margin": {
         "t": 60
        },
        "template": {
         "data": {
          "bar": [
           {
            "error_x": {
             "color": "#2a3f5f"
            },
            "error_y": {
             "color": "#2a3f5f"
            },
            "marker": {
             "line": {
              "color": "#E5ECF6",
              "width": 0.5
             },
             "pattern": {
              "fillmode": "overlay",
              "size": 10,
              "solidity": 0.2
             }
            },
            "type": "bar"
           }
          ],
          "barpolar": [
           {
            "marker": {
             "line": {
              "color": "#E5ECF6",
              "width": 0.5
             },
             "pattern": {
              "fillmode": "overlay",
              "size": 10,
              "solidity": 0.2
             }
            },
            "type": "barpolar"
           }
          ],
          "carpet": [
           {
            "aaxis": {
             "endlinecolor": "#2a3f5f",
             "gridcolor": "white",
             "linecolor": "white",
             "minorgridcolor": "white",
             "startlinecolor": "#2a3f5f"
            },
            "baxis": {
             "endlinecolor": "#2a3f5f",
             "gridcolor": "white",
             "linecolor": "white",
             "minorgridcolor": "white",
             "startlinecolor": "#2a3f5f"
            },
            "type": "carpet"
           }
          ],
          "choropleth": [
           {
            "colorbar": {
             "outlinewidth": 0,
             "ticks": ""
            },
            "type": "choropleth"
           }
          ],
          "contour": [
           {
            "colorbar": {
             "outlinewidth": 0,
             "ticks": ""
            },
            "colorscale": [
             [
              0,
              "#0d0887"
             ],
             [
              0.1111111111111111,
              "#46039f"
             ],
             [
              0.2222222222222222,
              "#7201a8"
             ],
             [
              0.3333333333333333,
              "#9c179e"
             ],
             [
              0.4444444444444444,
              "#bd3786"
             ],
             [
              0.5555555555555556,
              "#d8576b"
             ],
             [
              0.6666666666666666,
              "#ed7953"
             ],
             [
              0.7777777777777778,
              "#fb9f3a"
             ],
             [
              0.8888888888888888,
              "#fdca26"
             ],
             [
              1,
              "#f0f921"
             ]
            ],
            "type": "contour"
           }
          ],
          "contourcarpet": [
           {
            "colorbar": {
             "outlinewidth": 0,
             "ticks": ""
            },
            "type": "contourcarpet"
           }
          ],
          "heatmap": [
           {
            "colorbar": {
             "outlinewidth": 0,
             "ticks": ""
            },
            "colorscale": [
             [
              0,
              "#0d0887"
             ],
             [
              0.1111111111111111,
              "#46039f"
             ],
             [
              0.2222222222222222,
              "#7201a8"
             ],
             [
              0.3333333333333333,
              "#9c179e"
             ],
             [
              0.4444444444444444,
              "#bd3786"
             ],
             [
              0.5555555555555556,
              "#d8576b"
             ],
             [
              0.6666666666666666,
              "#ed7953"
             ],
             [
              0.7777777777777778,
              "#fb9f3a"
             ],
             [
              0.8888888888888888,
              "#fdca26"
             ],
             [
              1,
              "#f0f921"
             ]
            ],
            "type": "heatmap"
           }
          ],
          "heatmapgl": [
           {
            "colorbar": {
             "outlinewidth": 0,
             "ticks": ""
            },
            "colorscale": [
             [
              0,
              "#0d0887"
             ],
             [
              0.1111111111111111,
              "#46039f"
             ],
             [
              0.2222222222222222,
              "#7201a8"
             ],
             [
              0.3333333333333333,
              "#9c179e"
             ],
             [
              0.4444444444444444,
              "#bd3786"
             ],
             [
              0.5555555555555556,
              "#d8576b"
             ],
             [
              0.6666666666666666,
              "#ed7953"
             ],
             [
              0.7777777777777778,
              "#fb9f3a"
             ],
             [
              0.8888888888888888,
              "#fdca26"
             ],
             [
              1,
              "#f0f921"
             ]
            ],
            "type": "heatmapgl"
           }
          ],
          "histogram": [
           {
            "marker": {
             "pattern": {
              "fillmode": "overlay",
              "size": 10,
              "solidity": 0.2
             }
            },
            "type": "histogram"
           }
          ],
          "histogram2d": [
           {
            "colorbar": {
             "outlinewidth": 0,
             "ticks": ""
            },
            "colorscale": [
             [
              0,
              "#0d0887"
             ],
             [
              0.1111111111111111,
              "#46039f"
             ],
             [
              0.2222222222222222,
              "#7201a8"
             ],
             [
              0.3333333333333333,
              "#9c179e"
             ],
             [
              0.4444444444444444,
              "#bd3786"
             ],
             [
              0.5555555555555556,
              "#d8576b"
             ],
             [
              0.6666666666666666,
              "#ed7953"
             ],
             [
              0.7777777777777778,
              "#fb9f3a"
             ],
             [
              0.8888888888888888,
              "#fdca26"
             ],
             [
              1,
              "#f0f921"
             ]
            ],
            "type": "histogram2d"
           }
          ],
          "histogram2dcontour": [
           {
            "colorbar": {
             "outlinewidth": 0,
             "ticks": ""
            },
            "colorscale": [
             [
              0,
              "#0d0887"
             ],
             [
              0.1111111111111111,
              "#46039f"
             ],
             [
              0.2222222222222222,
              "#7201a8"
             ],
             [
              0.3333333333333333,
              "#9c179e"
             ],
             [
              0.4444444444444444,
              "#bd3786"
             ],
             [
              0.5555555555555556,
              "#d8576b"
             ],
             [
              0.6666666666666666,
              "#ed7953"
             ],
             [
              0.7777777777777778,
              "#fb9f3a"
             ],
             [
              0.8888888888888888,
              "#fdca26"
             ],
             [
              1,
              "#f0f921"
             ]
            ],
            "type": "histogram2dcontour"
           }
          ],
          "mesh3d": [
           {
            "colorbar": {
             "outlinewidth": 0,
             "ticks": ""
            },
            "type": "mesh3d"
           }
          ],
          "parcoords": [
           {
            "line": {
             "colorbar": {
              "outlinewidth": 0,
              "ticks": ""
             }
            },
            "type": "parcoords"
           }
          ],
          "pie": [
           {
            "automargin": true,
            "type": "pie"
           }
          ],
          "scatter": [
           {
            "marker": {
             "colorbar": {
              "outlinewidth": 0,
              "ticks": ""
             }
            },
            "type": "scatter"
           }
          ],
          "scatter3d": [
           {
            "line": {
             "colorbar": {
              "outlinewidth": 0,
              "ticks": ""
             }
            },
            "marker": {
             "colorbar": {
              "outlinewidth": 0,
              "ticks": ""
             }
            },
            "type": "scatter3d"
           }
          ],
          "scattercarpet": [
           {
            "marker": {
             "colorbar": {
              "outlinewidth": 0,
              "ticks": ""
             }
            },
            "type": "scattercarpet"
           }
          ],
          "scattergeo": [
           {
            "marker": {
             "colorbar": {
              "outlinewidth": 0,
              "ticks": ""
             }
            },
            "type": "scattergeo"
           }
          ],
          "scattergl": [
           {
            "marker": {
             "colorbar": {
              "outlinewidth": 0,
              "ticks": ""
             }
            },
            "type": "scattergl"
           }
          ],
          "scattermapbox": [
           {
            "marker": {
             "colorbar": {
              "outlinewidth": 0,
              "ticks": ""
             }
            },
            "type": "scattermapbox"
           }
          ],
          "scatterpolar": [
           {
            "marker": {
             "colorbar": {
              "outlinewidth": 0,
              "ticks": ""
             }
            },
            "type": "scatterpolar"
           }
          ],
          "scatterpolargl": [
           {
            "marker": {
             "colorbar": {
              "outlinewidth": 0,
              "ticks": ""
             }
            },
            "type": "scatterpolargl"
           }
          ],
          "scatterternary": [
           {
            "marker": {
             "colorbar": {
              "outlinewidth": 0,
              "ticks": ""
             }
            },
            "type": "scatterternary"
           }
          ],
          "surface": [
           {
            "colorbar": {
             "outlinewidth": 0,
             "ticks": ""
            },
            "colorscale": [
             [
              0,
              "#0d0887"
             ],
             [
              0.1111111111111111,
              "#46039f"
             ],
             [
              0.2222222222222222,
              "#7201a8"
             ],
             [
              0.3333333333333333,
              "#9c179e"
             ],
             [
              0.4444444444444444,
              "#bd3786"
             ],
             [
              0.5555555555555556,
              "#d8576b"
             ],
             [
              0.6666666666666666,
              "#ed7953"
             ],
             [
              0.7777777777777778,
              "#fb9f3a"
             ],
             [
              0.8888888888888888,
              "#fdca26"
             ],
             [
              1,
              "#f0f921"
             ]
            ],
            "type": "surface"
           }
          ],
          "table": [
           {
            "cells": {
             "fill": {
              "color": "#EBF0F8"
             },
             "line": {
              "color": "white"
             }
            },
            "header": {
             "fill": {
              "color": "#C8D4E3"
             },
             "line": {
              "color": "white"
             }
            },
            "type": "table"
           }
          ]
         },
         "layout": {
          "annotationdefaults": {
           "arrowcolor": "#2a3f5f",
           "arrowhead": 0,
           "arrowwidth": 1
          },
          "autotypenumbers": "strict",
          "coloraxis": {
           "colorbar": {
            "outlinewidth": 0,
            "ticks": ""
           }
          },
          "colorscale": {
           "diverging": [
            [
             0,
             "#8e0152"
            ],
            [
             0.1,
             "#c51b7d"
            ],
            [
             0.2,
             "#de77ae"
            ],
            [
             0.3,
             "#f1b6da"
            ],
            [
             0.4,
             "#fde0ef"
            ],
            [
             0.5,
             "#f7f7f7"
            ],
            [
             0.6,
             "#e6f5d0"
            ],
            [
             0.7,
             "#b8e186"
            ],
            [
             0.8,
             "#7fbc41"
            ],
            [
             0.9,
             "#4d9221"
            ],
            [
             1,
             "#276419"
            ]
           ],
           "sequential": [
            [
             0,
             "#0d0887"
            ],
            [
             0.1111111111111111,
             "#46039f"
            ],
            [
             0.2222222222222222,
             "#7201a8"
            ],
            [
             0.3333333333333333,
             "#9c179e"
            ],
            [
             0.4444444444444444,
             "#bd3786"
            ],
            [
             0.5555555555555556,
             "#d8576b"
            ],
            [
             0.6666666666666666,
             "#ed7953"
            ],
            [
             0.7777777777777778,
             "#fb9f3a"
            ],
            [
             0.8888888888888888,
             "#fdca26"
            ],
            [
             1,
             "#f0f921"
            ]
           ],
           "sequentialminus": [
            [
             0,
             "#0d0887"
            ],
            [
             0.1111111111111111,
             "#46039f"
            ],
            [
             0.2222222222222222,
             "#7201a8"
            ],
            [
             0.3333333333333333,
             "#9c179e"
            ],
            [
             0.4444444444444444,
             "#bd3786"
            ],
            [
             0.5555555555555556,
             "#d8576b"
            ],
            [
             0.6666666666666666,
             "#ed7953"
            ],
            [
             0.7777777777777778,
             "#fb9f3a"
            ],
            [
             0.8888888888888888,
             "#fdca26"
            ],
            [
             1,
             "#f0f921"
            ]
           ]
          },
          "colorway": [
           "#636efa",
           "#EF553B",
           "#00cc96",
           "#ab63fa",
           "#FFA15A",
           "#19d3f3",
           "#FF6692",
           "#B6E880",
           "#FF97FF",
           "#FECB52"
          ],
          "font": {
           "color": "#2a3f5f"
          },
          "geo": {
           "bgcolor": "white",
           "lakecolor": "white",
           "landcolor": "#E5ECF6",
           "showlakes": true,
           "showland": true,
           "subunitcolor": "white"
          },
          "hoverlabel": {
           "align": "left"
          },
          "hovermode": "closest",
          "mapbox": {
           "style": "light"
          },
          "paper_bgcolor": "white",
          "plot_bgcolor": "#E5ECF6",
          "polar": {
           "angularaxis": {
            "gridcolor": "white",
            "linecolor": "white",
            "ticks": ""
           },
           "bgcolor": "#E5ECF6",
           "radialaxis": {
            "gridcolor": "white",
            "linecolor": "white",
            "ticks": ""
           }
          },
          "scene": {
           "xaxis": {
            "backgroundcolor": "#E5ECF6",
            "gridcolor": "white",
            "gridwidth": 2,
            "linecolor": "white",
            "showbackground": true,
            "ticks": "",
            "zerolinecolor": "white"
           },
           "yaxis": {
            "backgroundcolor": "#E5ECF6",
            "gridcolor": "white",
            "gridwidth": 2,
            "linecolor": "white",
            "showbackground": true,
            "ticks": "",
            "zerolinecolor": "white"
           },
           "zaxis": {
            "backgroundcolor": "#E5ECF6",
            "gridcolor": "white",
            "gridwidth": 2,
            "linecolor": "white",
            "showbackground": true,
            "ticks": "",
            "zerolinecolor": "white"
           }
          },
          "shapedefaults": {
           "line": {
            "color": "#2a3f5f"
           }
          },
          "ternary": {
           "aaxis": {
            "gridcolor": "white",
            "linecolor": "white",
            "ticks": ""
           },
           "baxis": {
            "gridcolor": "white",
            "linecolor": "white",
            "ticks": ""
           },
           "bgcolor": "#E5ECF6",
           "caxis": {
            "gridcolor": "white",
            "linecolor": "white",
            "ticks": ""
           }
          },
          "title": {
           "x": 0.05
          },
          "xaxis": {
           "automargin": true,
           "gridcolor": "white",
           "linecolor": "white",
           "ticks": "",
           "title": {
            "standoff": 15
           },
           "zerolinecolor": "white",
           "zerolinewidth": 2
          },
          "yaxis": {
           "automargin": true,
           "gridcolor": "white",
           "linecolor": "white",
           "ticks": "",
           "title": {
            "standoff": 15
           },
           "zerolinecolor": "white",
           "zerolinewidth": 2
          }
         }
        },
        "xaxis": {
         "anchor": "y",
         "categoryarray": [
          230669,
          210020,
          196815,
          173974,
          151891,
          118183,
          109594,
          74084,
          65196,
          57072,
          54363,
          54109,
          49732,
          48124,
          46989,
          45989,
          44805,
          38783,
          36428,
          35361,
          34196,
          34158,
          33841,
          33585,
          32529,
          27310,
          26592,
          24070,
          23713,
          22300,
          20572,
          19975,
          19853,
          19149,
          18300,
          17870,
          17070,
          15962,
          15942,
          15581,
          14993,
          14944,
          14869,
          14844,
          14754,
          14017,
          13684,
          13679,
          13044,
          12387
         ],
         "categoryorder": "array",
         "domain": [
          0,
          1
         ],
         "title": {
          "text": "values"
         }
        },
        "yaxis": {
         "anchor": "x",
         "domain": [
          0,
          1
         ],
         "title": {
          "text": "female_max"
         }
        }
       }
      },
      "text/html": [
       "<div>                            <div id=\"87dfe21c-17c9-4685-8e47-8313bbfcc4af\" class=\"plotly-graph-div\" style=\"height:525px; width:100%;\"></div>            <script type=\"text/javascript\">                require([\"plotly\"], function(Plotly) {                    window.PLOTLYENV=window.PLOTLYENV || {};                                    if (document.getElementById(\"87dfe21c-17c9-4685-8e47-8313bbfcc4af\")) {                    Plotly.newPlot(                        \"87dfe21c-17c9-4685-8e47-8313bbfcc4af\",                        [{\"hovertemplate\":\"values=%{x}<br>female_max=%{y}<extra></extra>\",\"legendgroup\":\"230669\",\"marker\":{\"color\":\"#636efa\"},\"name\":\"230669\",\"orientation\":\"h\",\"showlegend\":true,\"x\":[230669],\"xaxis\":\"x\",\"y\":[\"\\u041a\\u0440\\u0430\\u0441\\u043e\\u0442\\u0430\"],\"yaxis\":\"y\",\"type\":\"funnel\"},{\"hovertemplate\":\"values=%{x}<br>female_max=%{y}<extra></extra>\",\"legendgroup\":\"210020\",\"marker\":{\"color\":\"#EF553B\"},\"name\":\"210020\",\"orientation\":\"h\",\"showlegend\":true,\"x\":[210020],\"xaxis\":\"x\",\"y\":[\"\\u041a\\u043e\\u0441\\u043c\\u0435\\u0442\\u0438\\u043a\\u0430, \\u043f\\u0430\\u0440\\u0444\\u044e\\u043c\\u0435\\u0440\\u0438\\u044f \\u0438 \\u0443\\u0445\\u043e\\u0434\"],\"yaxis\":\"y\",\"type\":\"funnel\"},{\"hovertemplate\":\"values=%{x}<br>female_max=%{y}<extra></extra>\",\"legendgroup\":\"196815\",\"marker\":{\"color\":\"#00cc96\"},\"name\":\"196815\",\"orientation\":\"h\",\"showlegend\":true,\"x\":[196815],\"xaxis\":\"x\",\"y\":[\"\\u041e\\u0434\\u0435\\u0436\\u0434\\u0430, \\u043e\\u0431\\u0443\\u0432\\u044c \\u0438 \\u0430\\u043a\\u0441\\u0435\\u0441\\u0441\\u0443\\u0430\\u0440\\u044b\"],\"yaxis\":\"y\",\"type\":\"funnel\"},{\"hovertemplate\":\"values=%{x}<br>female_max=%{y}<extra></extra>\",\"legendgroup\":\"173974\",\"marker\":{\"color\":\"#ab63fa\"},\"name\":\"173974\",\"orientation\":\"h\",\"showlegend\":true,\"x\":[173974],\"xaxis\":\"x\",\"y\":[\"\\u041f\\u0440\\u043e\\u0434\\u0443\\u043a\\u0442\\u044b\"],\"yaxis\":\"y\",\"type\":\"funnel\"},{\"hovertemplate\":\"values=%{x}<br>female_max=%{y}<extra></extra>\",\"legendgroup\":\"151891\",\"marker\":{\"color\":\"#FFA15A\"},\"name\":\"151891\",\"orientation\":\"h\",\"showlegend\":true,\"x\":[151891],\"xaxis\":\"x\",\"y\":[\"\\u0414\\u0435\\u0442\\u0441\\u043a\\u0438\\u0435 \\u0442\\u043e\\u0432\\u0430\\u0440\\u044b\"],\"yaxis\":\"y\",\"type\":\"funnel\"},{\"hovertemplate\":\"values=%{x}<br>female_max=%{y}<extra></extra>\",\"legendgroup\":\"118183\",\"marker\":{\"color\":\"#19d3f3\"},\"name\":\"118183\",\"orientation\":\"h\",\"showlegend\":true,\"x\":[118183],\"xaxis\":\"x\",\"y\":[\"\\u0422\\u043e\\u0432\\u0430\\u0440\\u044b \\u0434\\u043b\\u044f \\u0436\\u0438\\u0432\\u043e\\u0442\\u043d\\u044b\\u0445\"],\"yaxis\":\"y\",\"type\":\"funnel\"},{\"hovertemplate\":\"values=%{x}<br>female_max=%{y}<extra></extra>\",\"legendgroup\":\"109594\",\"marker\":{\"color\":\"#FF6692\"},\"name\":\"109594\",\"orientation\":\"h\",\"showlegend\":true,\"x\":[109594],\"xaxis\":\"x\",\"y\":[\"\\u0414\\u043e\\u043c \\u0438 \\u0434\\u0430\\u0447\\u0430\"],\"yaxis\":\"y\",\"type\":\"funnel\"},{\"hovertemplate\":\"values=%{x}<br>female_max=%{y}<extra></extra>\",\"legendgroup\":\"74084\",\"marker\":{\"color\":\"#B6E880\"},\"name\":\"74084\",\"orientation\":\"h\",\"showlegend\":true,\"x\":[74084],\"xaxis\":\"x\",\"y\":[\"\\u041a\\u043e\\u0440\\u043c\\u0430 \\u0434\\u043b\\u044f \\u043a\\u043e\\u0448\\u0435\\u043a \\u0438 \\u0441\\u043e\\u0431\\u0430\\u043a\"],\"yaxis\":\"y\",\"type\":\"funnel\"},{\"hovertemplate\":\"values=%{x}<br>female_max=%{y}<extra></extra>\",\"legendgroup\":\"65196\",\"marker\":{\"color\":\"#FF97FF\"},\"name\":\"65196\",\"orientation\":\"h\",\"showlegend\":true,\"x\":[65196],\"xaxis\":\"x\",\"y\":[\"\\u0422\\u043e\\u0432\\u0430\\u0440\\u044b \\u0434\\u043b\\u044f \\u043c\\u0430\\u043c \\u0438 \\u043c\\u0430\\u043b\\u044b\\u0448\\u0435\\u0439\"],\"yaxis\":\"y\",\"type\":\"funnel\"},{\"hovertemplate\":\"values=%{x}<br>female_max=%{y}<extra></extra>\",\"legendgroup\":\"57072\",\"marker\":{\"color\":\"#FECB52\"},\"name\":\"57072\",\"orientation\":\"h\",\"showlegend\":true,\"x\":[57072],\"xaxis\":\"x\",\"y\":[\"\\u041e\\u0431\\u0443\\u0432\\u044c\"],\"yaxis\":\"y\",\"type\":\"funnel\"},{\"hovertemplate\":\"values=%{x}<br>female_max=%{y}<extra></extra>\",\"legendgroup\":\"54363\",\"marker\":{\"color\":\"#636efa\"},\"name\":\"54363\",\"orientation\":\"h\",\"showlegend\":true,\"x\":[54363],\"xaxis\":\"x\",\"y\":[\"\\u0414\\u0435\\u0442\\u0441\\u043a\\u0430\\u044f \\u043e\\u0434\\u0435\\u0436\\u0434\\u0430\"],\"yaxis\":\"y\",\"type\":\"funnel\"},{\"hovertemplate\":\"values=%{x}<br>female_max=%{y}<extra></extra>\",\"legendgroup\":\"54109\",\"marker\":{\"color\":\"#EF553B\"},\"name\":\"54109\",\"orientation\":\"h\",\"showlegend\":true,\"x\":[54109],\"xaxis\":\"x\",\"y\":[\"\\u041a\\u043e\\u0440\\u043c\\u0430 \\u0434\\u043b\\u044f \\u043a\\u043e\\u0448\\u0435\\u043a\"],\"yaxis\":\"y\",\"type\":\"funnel\"},{\"hovertemplate\":\"values=%{x}<br>female_max=%{y}<extra></extra>\",\"legendgroup\":\"49732\",\"marker\":{\"color\":\"#00cc96\"},\"name\":\"49732\",\"orientation\":\"h\",\"showlegend\":true,\"x\":[49732],\"xaxis\":\"x\",\"y\":[\"\\u0423\\u0445\\u043e\\u0434 \\u0437\\u0430 \\u043b\\u0438\\u0446\\u043e\\u043c\"],\"yaxis\":\"y\",\"type\":\"funnel\"},{\"hovertemplate\":\"values=%{x}<br>female_max=%{y}<extra></extra>\",\"legendgroup\":\"48124\",\"marker\":{\"color\":\"#ab63fa\"},\"name\":\"48124\",\"orientation\":\"h\",\"showlegend\":true,\"x\":[48124],\"xaxis\":\"x\",\"y\":[\"\\u0416\\u0435\\u043d\\u0441\\u043a\\u0430\\u044f \\u043e\\u0434\\u0435\\u0436\\u0434\\u0430\"],\"yaxis\":\"y\",\"type\":\"funnel\"},{\"hovertemplate\":\"values=%{x}<br>female_max=%{y}<extra></extra>\",\"legendgroup\":\"46989\",\"marker\":{\"color\":\"#FFA15A\"},\"name\":\"46989\",\"orientation\":\"h\",\"showlegend\":true,\"x\":[46989],\"xaxis\":\"x\",\"y\":[\"\\u041c\\u0430\\u043a\\u0438\\u044f\\u0436\"],\"yaxis\":\"y\",\"type\":\"funnel\"},{\"hovertemplate\":\"values=%{x}<br>female_max=%{y}<extra></extra>\",\"legendgroup\":\"45989\",\"marker\":{\"color\":\"#19d3f3\"},\"name\":\"45989\",\"orientation\":\"h\",\"showlegend\":true,\"x\":[45989],\"xaxis\":\"x\",\"y\":[\"\\u0414\\u043e\\u0441\\u0443\\u0433 \\u0438 \\u0440\\u0430\\u0437\\u0432\\u043b\\u0435\\u0447\\u0435\\u043d\\u0438\\u044f\"],\"yaxis\":\"y\",\"type\":\"funnel\"},{\"hovertemplate\":\"values=%{x}<br>female_max=%{y}<extra></extra>\",\"legendgroup\":\"44805\",\"marker\":{\"color\":\"#FF6692\"},\"name\":\"44805\",\"orientation\":\"h\",\"showlegend\":true,\"x\":[44805],\"xaxis\":\"x\",\"y\":[\"\\u0418\\u0433\\u0440\\u0443\\u0448\\u043a\\u0438 \\u0438 \\u0438\\u0433\\u0440\\u044b\"],\"yaxis\":\"y\",\"type\":\"funnel\"},{\"hovertemplate\":\"values=%{x}<br>female_max=%{y}<extra></extra>\",\"legendgroup\":\"38783\",\"marker\":{\"color\":\"#B6E880\"},\"name\":\"38783\",\"orientation\":\"h\",\"showlegend\":true,\"x\":[38783],\"xaxis\":\"x\",\"y\":[\"\\u0411\\u0430\\u043a\\u0430\\u043b\\u0435\\u0439\\u043d\\u044b\\u0435 \\u0442\\u043e\\u0432\\u0430\\u0440\\u044b\"],\"yaxis\":\"y\",\"type\":\"funnel\"},{\"hovertemplate\":\"values=%{x}<br>female_max=%{y}<extra></extra>\",\"legendgroup\":\"36428\",\"marker\":{\"color\":\"#FF97FF\"},\"name\":\"36428\",\"orientation\":\"h\",\"showlegend\":true,\"x\":[36428],\"xaxis\":\"x\",\"y\":[\"\\u0416\\u0435\\u043d\\u0441\\u043a\\u0430\\u044f \\u043e\\u0431\\u0443\\u0432\\u044c\"],\"yaxis\":\"y\",\"type\":\"funnel\"},{\"hovertemplate\":\"values=%{x}<br>female_max=%{y}<extra></extra>\",\"legendgroup\":\"35361\",\"marker\":{\"color\":\"#FECB52\"},\"name\":\"35361\",\"orientation\":\"h\",\"showlegend\":true,\"x\":[35361],\"xaxis\":\"x\",\"y\":[\"\\u041c\\u043e\\u043b\\u043e\\u0447\\u043d\\u0430\\u044f \\u0433\\u0430\\u0441\\u0442\\u0440\\u043e\\u043d\\u043e\\u043c\\u0438\\u044f\"],\"yaxis\":\"y\",\"type\":\"funnel\"},{\"hovertemplate\":\"values=%{x}<br>female_max=%{y}<extra></extra>\",\"legendgroup\":\"34196\",\"marker\":{\"color\":\"#636efa\"},\"name\":\"34196\",\"orientation\":\"h\",\"showlegend\":true,\"x\":[34196],\"xaxis\":\"x\",\"y\":[\"\\u0411\\u044b\\u0442\\u043e\\u0432\\u0430\\u044f \\u0442\\u0435\\u0445\\u043d\\u0438\\u043a\\u0430\"],\"yaxis\":\"y\",\"type\":\"funnel\"},{\"hovertemplate\":\"values=%{x}<br>female_max=%{y}<extra></extra>\",\"legendgroup\":\"34158\",\"marker\":{\"color\":\"#EF553B\"},\"name\":\"34158\",\"orientation\":\"h\",\"showlegend\":true,\"x\":[34158],\"xaxis\":\"x\",\"y\":[\"\\u0423\\u0445\\u043e\\u0434 \\u0437\\u0430 \\u0432\\u043e\\u043b\\u043e\\u0441\\u0430\\u043c\\u0438\"],\"yaxis\":\"y\",\"type\":\"funnel\"},{\"hovertemplate\":\"values=%{x}<br>female_max=%{y}<extra></extra>\",\"legendgroup\":\"33841\",\"marker\":{\"color\":\"#00cc96\"},\"name\":\"33841\",\"orientation\":\"h\",\"showlegend\":true,\"x\":[33841],\"xaxis\":\"x\",\"y\":[\"\\u0423\\u0445\\u043e\\u0434 \\u0437\\u0430 \\u0442\\u0435\\u043b\\u043e\\u043c\"],\"yaxis\":\"y\",\"type\":\"funnel\"},{\"hovertemplate\":\"values=%{x}<br>female_max=%{y}<extra></extra>\",\"legendgroup\":\"33585\",\"marker\":{\"color\":\"#ab63fa\"},\"name\":\"33585\",\"orientation\":\"h\",\"showlegend\":true,\"x\":[33585],\"xaxis\":\"x\",\"y\":[\"\\u0414\\u0435\\u0442\\u0441\\u043a\\u043e\\u0435 \\u043f\\u0438\\u0442\\u0430\\u043d\\u0438\\u0435\"],\"yaxis\":\"y\",\"type\":\"funnel\"},{\"hovertemplate\":\"values=%{x}<br>female_max=%{y}<extra></extra>\",\"legendgroup\":\"32529\",\"marker\":{\"color\":\"#FFA15A\"},\"name\":\"32529\",\"orientation\":\"h\",\"showlegend\":true,\"x\":[32529],\"xaxis\":\"x\",\"y\":[\"\\u0417\\u0434\\u043e\\u0440\\u043e\\u0432\\u044c\\u0435\"],\"yaxis\":\"y\",\"type\":\"funnel\"},{\"hovertemplate\":\"values=%{x}<br>female_max=%{y}<extra></extra>\",\"legendgroup\":\"27310\",\"marker\":{\"color\":\"#19d3f3\"},\"name\":\"27310\",\"orientation\":\"h\",\"showlegend\":true,\"x\":[27310],\"xaxis\":\"x\",\"y\":[\"\\u041a\\u043d\\u0438\\u0433\\u0438 (inactive)\"],\"yaxis\":\"y\",\"type\":\"funnel\"},{\"hovertemplate\":\"values=%{x}<br>female_max=%{y}<extra></extra>\",\"legendgroup\":\"26592\",\"marker\":{\"color\":\"#FF6692\"},\"name\":\"26592\",\"orientation\":\"h\",\"showlegend\":true,\"x\":[26592],\"xaxis\":\"x\",\"y\":[\"\\u042d\\u043b\\u0435\\u043a\\u0442\\u0440\\u043e\\u043d\\u0438\\u043a\\u0430\"],\"yaxis\":\"y\",\"type\":\"funnel\"},{\"hovertemplate\":\"values=%{x}<br>female_max=%{y}<extra></extra>\",\"legendgroup\":\"24070\",\"marker\":{\"color\":\"#B6E880\"},\"name\":\"24070\",\"orientation\":\"h\",\"showlegend\":true,\"x\":[24070],\"xaxis\":\"x\",\"y\":[\"\\u041b\\u0435\\u043a\\u0430\\u0440\\u0441\\u0442\\u0432\\u0430\"],\"yaxis\":\"y\",\"type\":\"funnel\"},{\"hovertemplate\":\"values=%{x}<br>female_max=%{y}<extra></extra>\",\"legendgroup\":\"23713\",\"marker\":{\"color\":\"#FF97FF\"},\"name\":\"23713\",\"orientation\":\"h\",\"showlegend\":true,\"x\":[23713],\"xaxis\":\"x\",\"y\":[\"\\u0423\\u0445\\u043e\\u0434 \\u0437\\u0430 \\u043d\\u043e\\u0433\\u0442\\u044f\\u043c\\u0438\"],\"yaxis\":\"y\",\"type\":\"funnel\"},{\"hovertemplate\":\"values=%{x}<br>female_max=%{y}<extra></extra>\",\"legendgroup\":\"22300\",\"marker\":{\"color\":\"#FECB52\"},\"name\":\"22300\",\"orientation\":\"h\",\"showlegend\":true,\"x\":[22300],\"xaxis\":\"x\",\"y\":[\"\\u0410\\u043a\\u0441\\u0435\\u0441\\u0441\\u0443\\u0430\\u0440\\u044b\"],\"yaxis\":\"y\",\"type\":\"funnel\"},{\"hovertemplate\":\"values=%{x}<br>female_max=%{y}<extra></extra>\",\"legendgroup\":\"20572\",\"marker\":{\"color\":\"#636efa\"},\"name\":\"20572\",\"orientation\":\"h\",\"showlegend\":true,\"x\":[20572],\"xaxis\":\"x\",\"y\":[\"\\u0414\\u043b\\u044f \\u0434\\u0435\\u0432\\u043e\\u0447\\u0435\\u043a\"],\"yaxis\":\"y\",\"type\":\"funnel\"},{\"hovertemplate\":\"values=%{x}<br>female_max=%{y}<extra></extra>\",\"legendgroup\":\"19975\",\"marker\":{\"color\":\"#EF553B\"},\"name\":\"19975\",\"orientation\":\"h\",\"showlegend\":true,\"x\":[19975],\"xaxis\":\"x\",\"y\":[\"\\u041a\\u043e\\u0440\\u043c\\u0430 \\u0434\\u043b\\u044f \\u0441\\u043e\\u0431\\u0430\\u043a\"],\"yaxis\":\"y\",\"type\":\"funnel\"},{\"hovertemplate\":\"values=%{x}<br>female_max=%{y}<extra></extra>\",\"legendgroup\":\"19853\",\"marker\":{\"color\":\"#00cc96\"},\"name\":\"19853\",\"orientation\":\"h\",\"showlegend\":true,\"x\":[19853],\"xaxis\":\"x\",\"y\":[\"\\u0421\\u0440\\u0435\\u0434\\u0441\\u0442\\u0432\\u0430 \\u0438 \\u043f\\u0440\\u0435\\u0434\\u043c\\u0435\\u0442\\u044b \\u0433\\u0438\\u0433\\u0438\\u0435\\u043d\\u044b\"],\"yaxis\":\"y\",\"type\":\"funnel\"},{\"hovertemplate\":\"values=%{x}<br>female_max=%{y}<extra></extra>\",\"legendgroup\":\"19149\",\"marker\":{\"color\":\"#ab63fa\"},\"name\":\"19149\",\"orientation\":\"h\",\"showlegend\":true,\"x\":[19149],\"xaxis\":\"x\",\"y\":[\"\\u041a\\u043e\\u043d\\u0434\\u0438\\u0442\\u0435\\u0440\\u0441\\u043a\\u0438\\u0435 \\u0438\\u0437\\u0434\\u0435\\u043b\\u0438\\u044f\"],\"yaxis\":\"y\",\"type\":\"funnel\"},{\"hovertemplate\":\"values=%{x}<br>female_max=%{y}<extra></extra>\",\"legendgroup\":\"18300\",\"marker\":{\"color\":\"#FFA15A\"},\"name\":\"18300\",\"orientation\":\"h\",\"showlegend\":true,\"x\":[18300],\"xaxis\":\"x\",\"y\":[\"\\u0424\\u0440\\u0443\\u043a\\u0442\\u044b, \\u043e\\u0432\\u043e\\u0449\\u0438 \\u0438 \\u0433\\u0440\\u0438\\u0431\\u044b\"],\"yaxis\":\"y\",\"type\":\"funnel\"},{\"hovertemplate\":\"values=%{x}<br>female_max=%{y}<extra></extra>\",\"legendgroup\":\"17870\",\"marker\":{\"color\":\"#19d3f3\"},\"name\":\"17870\",\"orientation\":\"h\",\"showlegend\":true,\"x\":[17870],\"xaxis\":\"x\",\"y\":[\"\\u0411\\u044b\\u0442\\u043e\\u0432\\u0430\\u044f \\u0445\\u0438\\u043c\\u0438\\u044f\"],\"yaxis\":\"y\",\"type\":\"funnel\"},{\"hovertemplate\":\"values=%{x}<br>female_max=%{y}<extra></extra>\",\"legendgroup\":\"17070\",\"marker\":{\"color\":\"#FF6692\"},\"name\":\"17070\",\"orientation\":\"h\",\"showlegend\":true,\"x\":[17070],\"xaxis\":\"x\",\"y\":[\"\\u041f\\u043e\\u0441\\u0443\\u0434\\u0430 \\u0438 \\u043a\\u0443\\u0445\\u043e\\u043d\\u043d\\u044b\\u0435 \\u043f\\u0440\\u0438\\u043d\\u0430\\u0434\\u043b\\u0435\\u0436\\u043d\\u043e\\u0441\\u0442\\u0438\"],\"yaxis\":\"y\",\"type\":\"funnel\"},{\"hovertemplate\":\"values=%{x}<br>female_max=%{y}<extra></extra>\",\"legendgroup\":\"15962\",\"marker\":{\"color\":\"#B6E880\"},\"name\":\"15962\",\"orientation\":\"h\",\"showlegend\":true,\"x\":[15962],\"xaxis\":\"x\",\"y\":[\"\\u041f\\u044e\\u0440\\u0435\"],\"yaxis\":\"y\",\"type\":\"funnel\"},{\"hovertemplate\":\"values=%{x}<br>female_max=%{y}<extra></extra>\",\"legendgroup\":\"15942\",\"marker\":{\"color\":\"#FF97FF\"},\"name\":\"15942\",\"orientation\":\"h\",\"showlegend\":true,\"x\":[15942],\"xaxis\":\"x\",\"y\":[\"\\u041f\\u043e\\u0434\\u0433\\u0443\\u0437\\u043d\\u0438\\u043a\\u0438 \\u0438 \\u043f\\u0440\\u0438\\u0443\\u0447\\u0435\\u043d\\u0438\\u0435 \\u043a \\u0433\\u043e\\u0440\\u0448\\u043a\\u0443\"],\"yaxis\":\"y\",\"type\":\"funnel\"},{\"hovertemplate\":\"values=%{x}<br>female_max=%{y}<extra></extra>\",\"legendgroup\":\"15581\",\"marker\":{\"color\":\"#FECB52\"},\"name\":\"15581\",\"orientation\":\"h\",\"showlegend\":true,\"x\":[15581],\"xaxis\":\"x\",\"y\":[\"\\u0422\\u0435\\u043b\\u0435\\u0444\\u043e\\u043d\\u044b\"],\"yaxis\":\"y\",\"type\":\"funnel\"},{\"hovertemplate\":\"values=%{x}<br>female_max=%{y}<extra></extra>\",\"legendgroup\":\"14993\",\"marker\":{\"color\":\"#636efa\"},\"name\":\"14993\",\"orientation\":\"h\",\"showlegend\":true,\"x\":[14993],\"xaxis\":\"x\",\"y\":[\"\\u041f\\u0430\\u0440\\u0444\\u044e\\u043c\\u0435\\u0440\\u0438\\u044f\"],\"yaxis\":\"y\",\"type\":\"funnel\"},{\"hovertemplate\":\"values=%{x}<br>female_max=%{y}<extra></extra>\",\"legendgroup\":\"14944\",\"marker\":{\"color\":\"#EF553B\"},\"name\":\"14944\",\"orientation\":\"h\",\"showlegend\":true,\"x\":[14944],\"xaxis\":\"x\",\"y\":[\"\\u041c\\u0443\\u0436\\u0441\\u043a\\u0430\\u044f \\u043e\\u0434\\u0435\\u0436\\u0434\\u0430\"],\"yaxis\":\"y\",\"type\":\"funnel\"},{\"hovertemplate\":\"values=%{x}<br>female_max=%{y}<extra></extra>\",\"legendgroup\":\"14869\",\"marker\":{\"color\":\"#00cc96\"},\"name\":\"14869\",\"orientation\":\"h\",\"showlegend\":true,\"x\":[14869],\"xaxis\":\"x\",\"y\":[\"\\u041c\\u0435\\u0431\\u0435\\u043b\\u044c\"],\"yaxis\":\"y\",\"type\":\"funnel\"},{\"hovertemplate\":\"values=%{x}<br>female_max=%{y}<extra></extra>\",\"legendgroup\":\"14844\",\"marker\":{\"color\":\"#ab63fa\"},\"name\":\"14844\",\"orientation\":\"h\",\"showlegend\":true,\"x\":[14844],\"xaxis\":\"x\",\"y\":[\"\\u0414\\u043b\\u044f \\u043b\\u0438\\u0446\\u0430\"],\"yaxis\":\"y\",\"type\":\"funnel\"},{\"hovertemplate\":\"values=%{x}<br>female_max=%{y}<extra></extra>\",\"legendgroup\":\"14754\",\"marker\":{\"color\":\"#FFA15A\"},\"name\":\"14754\",\"orientation\":\"h\",\"showlegend\":true,\"x\":[14754],\"xaxis\":\"x\",\"y\":[\"\\u0425\\u043e\\u0431\\u0431\\u0438 \\u0438 \\u0442\\u0432\\u043e\\u0440\\u0447\\u0435\\u0441\\u0442\\u0432\\u043e\"],\"yaxis\":\"y\",\"type\":\"funnel\"},{\"hovertemplate\":\"values=%{x}<br>female_max=%{y}<extra></extra>\",\"legendgroup\":\"14017\",\"marker\":{\"color\":\"#19d3f3\"},\"name\":\"14017\",\"orientation\":\"h\",\"showlegend\":true,\"x\":[14017],\"xaxis\":\"x\",\"y\":[\"\\u0414\\u043b\\u044f \\u043c\\u0430\\u043b\\u044c\\u0447\\u0438\\u043a\\u043e\\u0432\"],\"yaxis\":\"y\",\"type\":\"funnel\"},{\"hovertemplate\":\"values=%{x}<br>female_max=%{y}<extra></extra>\",\"legendgroup\":\"13684\",\"marker\":{\"color\":\"#FF6692\"},\"name\":\"13684\",\"orientation\":\"h\",\"showlegend\":true,\"x\":[13684],\"xaxis\":\"x\",\"y\":[\"\\u0421\\u0442\\u0440\\u043e\\u0438\\u0442\\u0435\\u043b\\u044c\\u0441\\u0442\\u0432\\u043e \\u0438 \\u0440\\u0435\\u043c\\u043e\\u043d\\u0442\"],\"yaxis\":\"y\",\"type\":\"funnel\"},{\"hovertemplate\":\"values=%{x}<br>female_max=%{y}<extra></extra>\",\"legendgroup\":\"13679\",\"marker\":{\"color\":\"#B6E880\"},\"name\":\"13679\",\"orientation\":\"h\",\"showlegend\":true,\"x\":[13679],\"xaxis\":\"x\",\"y\":[\"\\u0420\\u0430\\u0437\\u0432\\u0438\\u0442\\u0438\\u0435 \\u0438 \\u043e\\u0431\\u0443\\u0447\\u0435\\u043d\\u0438\\u0435\"],\"yaxis\":\"y\",\"type\":\"funnel\"},{\"hovertemplate\":\"values=%{x}<br>female_max=%{y}<extra></extra>\",\"legendgroup\":\"13044\",\"marker\":{\"color\":\"#FF97FF\"},\"name\":\"13044\",\"orientation\":\"h\",\"showlegend\":true,\"x\":[13044],\"xaxis\":\"x\",\"y\":[\"\\u041c\\u044f\\u0441\\u043d\\u0430\\u044f \\u0433\\u0430\\u0441\\u0442\\u0440\\u043e\\u043d\\u043e\\u043c\\u0438\\u044f\"],\"yaxis\":\"y\",\"type\":\"funnel\"},{\"hovertemplate\":\"values=%{x}<br>female_max=%{y}<extra></extra>\",\"legendgroup\":\"12387\",\"marker\":{\"color\":\"#FECB52\"},\"name\":\"12387\",\"orientation\":\"h\",\"showlegend\":true,\"x\":[12387],\"xaxis\":\"x\",\"y\":[\"\\u0414\\u043b\\u044f \\u0433\\u043b\\u0430\\u0437\"],\"yaxis\":\"y\",\"type\":\"funnel\"}],                        {\"template\":{\"data\":{\"bar\":[{\"error_x\":{\"color\":\"#2a3f5f\"},\"error_y\":{\"color\":\"#2a3f5f\"},\"marker\":{\"line\":{\"color\":\"#E5ECF6\",\"width\":0.5},\"pattern\":{\"fillmode\":\"overlay\",\"size\":10,\"solidity\":0.2}},\"type\":\"bar\"}],\"barpolar\":[{\"marker\":{\"line\":{\"color\":\"#E5ECF6\",\"width\":0.5},\"pattern\":{\"fillmode\":\"overlay\",\"size\":10,\"solidity\":0.2}},\"type\":\"barpolar\"}],\"carpet\":[{\"aaxis\":{\"endlinecolor\":\"#2a3f5f\",\"gridcolor\":\"white\",\"linecolor\":\"white\",\"minorgridcolor\":\"white\",\"startlinecolor\":\"#2a3f5f\"},\"baxis\":{\"endlinecolor\":\"#2a3f5f\",\"gridcolor\":\"white\",\"linecolor\":\"white\",\"minorgridcolor\":\"white\",\"startlinecolor\":\"#2a3f5f\"},\"type\":\"carpet\"}],\"choropleth\":[{\"colorbar\":{\"outlinewidth\":0,\"ticks\":\"\"},\"type\":\"choropleth\"}],\"contour\":[{\"colorbar\":{\"outlinewidth\":0,\"ticks\":\"\"},\"colorscale\":[[0.0,\"#0d0887\"],[0.1111111111111111,\"#46039f\"],[0.2222222222222222,\"#7201a8\"],[0.3333333333333333,\"#9c179e\"],[0.4444444444444444,\"#bd3786\"],[0.5555555555555556,\"#d8576b\"],[0.6666666666666666,\"#ed7953\"],[0.7777777777777778,\"#fb9f3a\"],[0.8888888888888888,\"#fdca26\"],[1.0,\"#f0f921\"]],\"type\":\"contour\"}],\"contourcarpet\":[{\"colorbar\":{\"outlinewidth\":0,\"ticks\":\"\"},\"type\":\"contourcarpet\"}],\"heatmap\":[{\"colorbar\":{\"outlinewidth\":0,\"ticks\":\"\"},\"colorscale\":[[0.0,\"#0d0887\"],[0.1111111111111111,\"#46039f\"],[0.2222222222222222,\"#7201a8\"],[0.3333333333333333,\"#9c179e\"],[0.4444444444444444,\"#bd3786\"],[0.5555555555555556,\"#d8576b\"],[0.6666666666666666,\"#ed7953\"],[0.7777777777777778,\"#fb9f3a\"],[0.8888888888888888,\"#fdca26\"],[1.0,\"#f0f921\"]],\"type\":\"heatmap\"}],\"heatmapgl\":[{\"colorbar\":{\"outlinewidth\":0,\"ticks\":\"\"},\"colorscale\":[[0.0,\"#0d0887\"],[0.1111111111111111,\"#46039f\"],[0.2222222222222222,\"#7201a8\"],[0.3333333333333333,\"#9c179e\"],[0.4444444444444444,\"#bd3786\"],[0.5555555555555556,\"#d8576b\"],[0.6666666666666666,\"#ed7953\"],[0.7777777777777778,\"#fb9f3a\"],[0.8888888888888888,\"#fdca26\"],[1.0,\"#f0f921\"]],\"type\":\"heatmapgl\"}],\"histogram\":[{\"marker\":{\"pattern\":{\"fillmode\":\"overlay\",\"size\":10,\"solidity\":0.2}},\"type\":\"histogram\"}],\"histogram2d\":[{\"colorbar\":{\"outlinewidth\":0,\"ticks\":\"\"},\"colorscale\":[[0.0,\"#0d0887\"],[0.1111111111111111,\"#46039f\"],[0.2222222222222222,\"#7201a8\"],[0.3333333333333333,\"#9c179e\"],[0.4444444444444444,\"#bd3786\"],[0.5555555555555556,\"#d8576b\"],[0.6666666666666666,\"#ed7953\"],[0.7777777777777778,\"#fb9f3a\"],[0.8888888888888888,\"#fdca26\"],[1.0,\"#f0f921\"]],\"type\":\"histogram2d\"}],\"histogram2dcontour\":[{\"colorbar\":{\"outlinewidth\":0,\"ticks\":\"\"},\"colorscale\":[[0.0,\"#0d0887\"],[0.1111111111111111,\"#46039f\"],[0.2222222222222222,\"#7201a8\"],[0.3333333333333333,\"#9c179e\"],[0.4444444444444444,\"#bd3786\"],[0.5555555555555556,\"#d8576b\"],[0.6666666666666666,\"#ed7953\"],[0.7777777777777778,\"#fb9f3a\"],[0.8888888888888888,\"#fdca26\"],[1.0,\"#f0f921\"]],\"type\":\"histogram2dcontour\"}],\"mesh3d\":[{\"colorbar\":{\"outlinewidth\":0,\"ticks\":\"\"},\"type\":\"mesh3d\"}],\"parcoords\":[{\"line\":{\"colorbar\":{\"outlinewidth\":0,\"ticks\":\"\"}},\"type\":\"parcoords\"}],\"pie\":[{\"automargin\":true,\"type\":\"pie\"}],\"scatter\":[{\"marker\":{\"colorbar\":{\"outlinewidth\":0,\"ticks\":\"\"}},\"type\":\"scatter\"}],\"scatter3d\":[{\"line\":{\"colorbar\":{\"outlinewidth\":0,\"ticks\":\"\"}},\"marker\":{\"colorbar\":{\"outlinewidth\":0,\"ticks\":\"\"}},\"type\":\"scatter3d\"}],\"scattercarpet\":[{\"marker\":{\"colorbar\":{\"outlinewidth\":0,\"ticks\":\"\"}},\"type\":\"scattercarpet\"}],\"scattergeo\":[{\"marker\":{\"colorbar\":{\"outlinewidth\":0,\"ticks\":\"\"}},\"type\":\"scattergeo\"}],\"scattergl\":[{\"marker\":{\"colorbar\":{\"outlinewidth\":0,\"ticks\":\"\"}},\"type\":\"scattergl\"}],\"scattermapbox\":[{\"marker\":{\"colorbar\":{\"outlinewidth\":0,\"ticks\":\"\"}},\"type\":\"scattermapbox\"}],\"scatterpolar\":[{\"marker\":{\"colorbar\":{\"outlinewidth\":0,\"ticks\":\"\"}},\"type\":\"scatterpolar\"}],\"scatterpolargl\":[{\"marker\":{\"colorbar\":{\"outlinewidth\":0,\"ticks\":\"\"}},\"type\":\"scatterpolargl\"}],\"scatterternary\":[{\"marker\":{\"colorbar\":{\"outlinewidth\":0,\"ticks\":\"\"}},\"type\":\"scatterternary\"}],\"surface\":[{\"colorbar\":{\"outlinewidth\":0,\"ticks\":\"\"},\"colorscale\":[[0.0,\"#0d0887\"],[0.1111111111111111,\"#46039f\"],[0.2222222222222222,\"#7201a8\"],[0.3333333333333333,\"#9c179e\"],[0.4444444444444444,\"#bd3786\"],[0.5555555555555556,\"#d8576b\"],[0.6666666666666666,\"#ed7953\"],[0.7777777777777778,\"#fb9f3a\"],[0.8888888888888888,\"#fdca26\"],[1.0,\"#f0f921\"]],\"type\":\"surface\"}],\"table\":[{\"cells\":{\"fill\":{\"color\":\"#EBF0F8\"},\"line\":{\"color\":\"white\"}},\"header\":{\"fill\":{\"color\":\"#C8D4E3\"},\"line\":{\"color\":\"white\"}},\"type\":\"table\"}]},\"layout\":{\"annotationdefaults\":{\"arrowcolor\":\"#2a3f5f\",\"arrowhead\":0,\"arrowwidth\":1},\"autotypenumbers\":\"strict\",\"coloraxis\":{\"colorbar\":{\"outlinewidth\":0,\"ticks\":\"\"}},\"colorscale\":{\"diverging\":[[0,\"#8e0152\"],[0.1,\"#c51b7d\"],[0.2,\"#de77ae\"],[0.3,\"#f1b6da\"],[0.4,\"#fde0ef\"],[0.5,\"#f7f7f7\"],[0.6,\"#e6f5d0\"],[0.7,\"#b8e186\"],[0.8,\"#7fbc41\"],[0.9,\"#4d9221\"],[1,\"#276419\"]],\"sequential\":[[0.0,\"#0d0887\"],[0.1111111111111111,\"#46039f\"],[0.2222222222222222,\"#7201a8\"],[0.3333333333333333,\"#9c179e\"],[0.4444444444444444,\"#bd3786\"],[0.5555555555555556,\"#d8576b\"],[0.6666666666666666,\"#ed7953\"],[0.7777777777777778,\"#fb9f3a\"],[0.8888888888888888,\"#fdca26\"],[1.0,\"#f0f921\"]],\"sequentialminus\":[[0.0,\"#0d0887\"],[0.1111111111111111,\"#46039f\"],[0.2222222222222222,\"#7201a8\"],[0.3333333333333333,\"#9c179e\"],[0.4444444444444444,\"#bd3786\"],[0.5555555555555556,\"#d8576b\"],[0.6666666666666666,\"#ed7953\"],[0.7777777777777778,\"#fb9f3a\"],[0.8888888888888888,\"#fdca26\"],[1.0,\"#f0f921\"]]},\"colorway\":[\"#636efa\",\"#EF553B\",\"#00cc96\",\"#ab63fa\",\"#FFA15A\",\"#19d3f3\",\"#FF6692\",\"#B6E880\",\"#FF97FF\",\"#FECB52\"],\"font\":{\"color\":\"#2a3f5f\"},\"geo\":{\"bgcolor\":\"white\",\"lakecolor\":\"white\",\"landcolor\":\"#E5ECF6\",\"showlakes\":true,\"showland\":true,\"subunitcolor\":\"white\"},\"hoverlabel\":{\"align\":\"left\"},\"hovermode\":\"closest\",\"mapbox\":{\"style\":\"light\"},\"paper_bgcolor\":\"white\",\"plot_bgcolor\":\"#E5ECF6\",\"polar\":{\"angularaxis\":{\"gridcolor\":\"white\",\"linecolor\":\"white\",\"ticks\":\"\"},\"bgcolor\":\"#E5ECF6\",\"radialaxis\":{\"gridcolor\":\"white\",\"linecolor\":\"white\",\"ticks\":\"\"}},\"scene\":{\"xaxis\":{\"backgroundcolor\":\"#E5ECF6\",\"gridcolor\":\"white\",\"gridwidth\":2,\"linecolor\":\"white\",\"showbackground\":true,\"ticks\":\"\",\"zerolinecolor\":\"white\"},\"yaxis\":{\"backgroundcolor\":\"#E5ECF6\",\"gridcolor\":\"white\",\"gridwidth\":2,\"linecolor\":\"white\",\"showbackground\":true,\"ticks\":\"\",\"zerolinecolor\":\"white\"},\"zaxis\":{\"backgroundcolor\":\"#E5ECF6\",\"gridcolor\":\"white\",\"gridwidth\":2,\"linecolor\":\"white\",\"showbackground\":true,\"ticks\":\"\",\"zerolinecolor\":\"white\"}},\"shapedefaults\":{\"line\":{\"color\":\"#2a3f5f\"}},\"ternary\":{\"aaxis\":{\"gridcolor\":\"white\",\"linecolor\":\"white\",\"ticks\":\"\"},\"baxis\":{\"gridcolor\":\"white\",\"linecolor\":\"white\",\"ticks\":\"\"},\"bgcolor\":\"#E5ECF6\",\"caxis\":{\"gridcolor\":\"white\",\"linecolor\":\"white\",\"ticks\":\"\"}},\"title\":{\"x\":0.05},\"xaxis\":{\"automargin\":true,\"gridcolor\":\"white\",\"linecolor\":\"white\",\"ticks\":\"\",\"title\":{\"standoff\":15},\"zerolinecolor\":\"white\",\"zerolinewidth\":2},\"yaxis\":{\"automargin\":true,\"gridcolor\":\"white\",\"linecolor\":\"white\",\"ticks\":\"\",\"title\":{\"standoff\":15},\"zerolinecolor\":\"white\",\"zerolinewidth\":2}}},\"xaxis\":{\"anchor\":\"y\",\"domain\":[0.0,1.0],\"title\":{\"text\":\"values\"},\"categoryorder\":\"array\",\"categoryarray\":[230669,210020,196815,173974,151891,118183,109594,74084,65196,57072,54363,54109,49732,48124,46989,45989,44805,38783,36428,35361,34196,34158,33841,33585,32529,27310,26592,24070,23713,22300,20572,19975,19853,19149,18300,17870,17070,15962,15942,15581,14993,14944,14869,14844,14754,14017,13684,13679,13044,12387]},\"yaxis\":{\"anchor\":\"x\",\"domain\":[0.0,1.0],\"title\":{\"text\":\"female_max\"}},\"legend\":{\"title\":{\"text\":\"values\"},\"tracegroupgap\":0},\"margin\":{\"t\":60}},                        {\"responsive\": true}                    ).then(function(){\n",
       "                            \n",
       "var gd = document.getElementById('87dfe21c-17c9-4685-8e47-8313bbfcc4af');\n",
       "var x = new MutationObserver(function (mutations, observer) {{\n",
       "        var display = window.getComputedStyle(gd).display;\n",
       "        if (!display || display === 'none') {{\n",
       "            console.log([gd, 'removed!']);\n",
       "            Plotly.purge(gd);\n",
       "            observer.disconnect();\n",
       "        }}\n",
       "}});\n",
       "\n",
       "// Listen for the removal of the full notebook cells\n",
       "var notebookContainer = gd.closest('#notebook-container');\n",
       "if (notebookContainer) {{\n",
       "    x.observe(notebookContainer, {childList: true});\n",
       "}}\n",
       "\n",
       "// Listen for the clearing of the current output cell\n",
       "var outputEl = gd.closest('.output');\n",
       "if (outputEl) {{\n",
       "    x.observe(outputEl, {childList: true});\n",
       "}}\n",
       "\n",
       "                        })                };                });            </script>        </div>"
      ]
     },
     "metadata": {},
     "output_type": "display_data"
    }
   ],
   "source": [
    "import plotly.express as px\n",
    "data = dict(values=df_female_max['female'],female_max=df_female_max['Description'])\n",
    "fig = px.funnel(data, y='female_max',x='values', color='values')\n",
    "fig.show()"
   ]
  },
  {
   "cell_type": "code",
   "execution_count": 93,
   "metadata": {},
   "outputs": [
    {
     "data": {
      "application/vnd.plotly.v1+json": {
       "config": {
        "plotlyServerURL": "https://plot.ly"
       },
       "data": [
        {
         "hovertemplate": "values=%{x}<br>female_max=%{y}<extra></extra>",
         "legendgroup": "",
         "marker": {
          "color": "#636efa"
         },
         "name": "",
         "orientation": "h",
         "showlegend": false,
         "type": "funnel",
         "x": [
          39710,
          33015,
          55527,
          91581,
          47860,
          30605,
          66697,
          19151,
          20568,
          15977,
          12081,
          13231,
          6076,
          8071,
          5215,
          21332,
          16249,
          22039,
          7750,
          17425,
          29648,
          5090,
          6236,
          10126,
          13752,
          11431,
          38476,
          10835,
          2506,
          6707,
          4250,
          5920,
          6306,
          8868,
          9306,
          6845,
          9244,
          4571,
          5482,
          21640,
          4950,
          12684,
          9193,
          1613,
          3542,
          3201,
          19836,
          3692,
          7363,
          1346
         ],
         "xaxis": "x",
         "y": [
          "Красота",
          "Косметика, парфюмерия и уход",
          "Одежда, обувь и аксессуары",
          "Продукты",
          "Детские товары",
          "Товары для животных",
          "Дом и дача",
          "Корма для кошек и собак",
          "Товары для мам и малышей",
          "Обувь",
          "Детская одежда",
          "Корма для кошек",
          "Уход за лицом",
          "Женская одежда",
          "Макияж",
          "Досуг и развлечения",
          "Игрушки и игры",
          "Бакалейные товары",
          "Женская обувь",
          "Молочная гастрономия",
          "Бытовая техника",
          "Уход за волосами",
          "Уход за телом",
          "Детское питание",
          "Здоровье",
          "Книги (inactive)",
          "Электроника",
          "Лекарства",
          "Уход за ногтями",
          "Аксессуары",
          "Для девочек",
          "Корма для собак",
          "Средства и предметы гигиены",
          "Кондитерские изделия",
          "Фрукты, овощи и грибы",
          "Бытовая химия",
          "Посуда и кухонные принадлежности",
          "Пюре",
          "Подгузники и приучение к горшку",
          "Телефоны",
          "Парфюмерия",
          "Мужская одежда",
          "Мебель",
          "Для лица",
          "Хобби и творчество",
          "Для мальчиков",
          "Строительство и ремонт",
          "Развитие и обучение",
          "Мясная гастрономия",
          "Для глаз"
         ],
         "yaxis": "y"
        }
       ],
       "layout": {
        "legend": {
         "tracegroupgap": 0
        },
        "margin": {
         "t": 60
        },
        "template": {
         "data": {
          "bar": [
           {
            "error_x": {
             "color": "#2a3f5f"
            },
            "error_y": {
             "color": "#2a3f5f"
            },
            "marker": {
             "line": {
              "color": "#E5ECF6",
              "width": 0.5
             },
             "pattern": {
              "fillmode": "overlay",
              "size": 10,
              "solidity": 0.2
             }
            },
            "type": "bar"
           }
          ],
          "barpolar": [
           {
            "marker": {
             "line": {
              "color": "#E5ECF6",
              "width": 0.5
             },
             "pattern": {
              "fillmode": "overlay",
              "size": 10,
              "solidity": 0.2
             }
            },
            "type": "barpolar"
           }
          ],
          "carpet": [
           {
            "aaxis": {
             "endlinecolor": "#2a3f5f",
             "gridcolor": "white",
             "linecolor": "white",
             "minorgridcolor": "white",
             "startlinecolor": "#2a3f5f"
            },
            "baxis": {
             "endlinecolor": "#2a3f5f",
             "gridcolor": "white",
             "linecolor": "white",
             "minorgridcolor": "white",
             "startlinecolor": "#2a3f5f"
            },
            "type": "carpet"
           }
          ],
          "choropleth": [
           {
            "colorbar": {
             "outlinewidth": 0,
             "ticks": ""
            },
            "type": "choropleth"
           }
          ],
          "contour": [
           {
            "colorbar": {
             "outlinewidth": 0,
             "ticks": ""
            },
            "colorscale": [
             [
              0,
              "#0d0887"
             ],
             [
              0.1111111111111111,
              "#46039f"
             ],
             [
              0.2222222222222222,
              "#7201a8"
             ],
             [
              0.3333333333333333,
              "#9c179e"
             ],
             [
              0.4444444444444444,
              "#bd3786"
             ],
             [
              0.5555555555555556,
              "#d8576b"
             ],
             [
              0.6666666666666666,
              "#ed7953"
             ],
             [
              0.7777777777777778,
              "#fb9f3a"
             ],
             [
              0.8888888888888888,
              "#fdca26"
             ],
             [
              1,
              "#f0f921"
             ]
            ],
            "type": "contour"
           }
          ],
          "contourcarpet": [
           {
            "colorbar": {
             "outlinewidth": 0,
             "ticks": ""
            },
            "type": "contourcarpet"
           }
          ],
          "heatmap": [
           {
            "colorbar": {
             "outlinewidth": 0,
             "ticks": ""
            },
            "colorscale": [
             [
              0,
              "#0d0887"
             ],
             [
              0.1111111111111111,
              "#46039f"
             ],
             [
              0.2222222222222222,
              "#7201a8"
             ],
             [
              0.3333333333333333,
              "#9c179e"
             ],
             [
              0.4444444444444444,
              "#bd3786"
             ],
             [
              0.5555555555555556,
              "#d8576b"
             ],
             [
              0.6666666666666666,
              "#ed7953"
             ],
             [
              0.7777777777777778,
              "#fb9f3a"
             ],
             [
              0.8888888888888888,
              "#fdca26"
             ],
             [
              1,
              "#f0f921"
             ]
            ],
            "type": "heatmap"
           }
          ],
          "heatmapgl": [
           {
            "colorbar": {
             "outlinewidth": 0,
             "ticks": ""
            },
            "colorscale": [
             [
              0,
              "#0d0887"
             ],
             [
              0.1111111111111111,
              "#46039f"
             ],
             [
              0.2222222222222222,
              "#7201a8"
             ],
             [
              0.3333333333333333,
              "#9c179e"
             ],
             [
              0.4444444444444444,
              "#bd3786"
             ],
             [
              0.5555555555555556,
              "#d8576b"
             ],
             [
              0.6666666666666666,
              "#ed7953"
             ],
             [
              0.7777777777777778,
              "#fb9f3a"
             ],
             [
              0.8888888888888888,
              "#fdca26"
             ],
             [
              1,
              "#f0f921"
             ]
            ],
            "type": "heatmapgl"
           }
          ],
          "histogram": [
           {
            "marker": {
             "pattern": {
              "fillmode": "overlay",
              "size": 10,
              "solidity": 0.2
             }
            },
            "type": "histogram"
           }
          ],
          "histogram2d": [
           {
            "colorbar": {
             "outlinewidth": 0,
             "ticks": ""
            },
            "colorscale": [
             [
              0,
              "#0d0887"
             ],
             [
              0.1111111111111111,
              "#46039f"
             ],
             [
              0.2222222222222222,
              "#7201a8"
             ],
             [
              0.3333333333333333,
              "#9c179e"
             ],
             [
              0.4444444444444444,
              "#bd3786"
             ],
             [
              0.5555555555555556,
              "#d8576b"
             ],
             [
              0.6666666666666666,
              "#ed7953"
             ],
             [
              0.7777777777777778,
              "#fb9f3a"
             ],
             [
              0.8888888888888888,
              "#fdca26"
             ],
             [
              1,
              "#f0f921"
             ]
            ],
            "type": "histogram2d"
           }
          ],
          "histogram2dcontour": [
           {
            "colorbar": {
             "outlinewidth": 0,
             "ticks": ""
            },
            "colorscale": [
             [
              0,
              "#0d0887"
             ],
             [
              0.1111111111111111,
              "#46039f"
             ],
             [
              0.2222222222222222,
              "#7201a8"
             ],
             [
              0.3333333333333333,
              "#9c179e"
             ],
             [
              0.4444444444444444,
              "#bd3786"
             ],
             [
              0.5555555555555556,
              "#d8576b"
             ],
             [
              0.6666666666666666,
              "#ed7953"
             ],
             [
              0.7777777777777778,
              "#fb9f3a"
             ],
             [
              0.8888888888888888,
              "#fdca26"
             ],
             [
              1,
              "#f0f921"
             ]
            ],
            "type": "histogram2dcontour"
           }
          ],
          "mesh3d": [
           {
            "colorbar": {
             "outlinewidth": 0,
             "ticks": ""
            },
            "type": "mesh3d"
           }
          ],
          "parcoords": [
           {
            "line": {
             "colorbar": {
              "outlinewidth": 0,
              "ticks": ""
             }
            },
            "type": "parcoords"
           }
          ],
          "pie": [
           {
            "automargin": true,
            "type": "pie"
           }
          ],
          "scatter": [
           {
            "marker": {
             "colorbar": {
              "outlinewidth": 0,
              "ticks": ""
             }
            },
            "type": "scatter"
           }
          ],
          "scatter3d": [
           {
            "line": {
             "colorbar": {
              "outlinewidth": 0,
              "ticks": ""
             }
            },
            "marker": {
             "colorbar": {
              "outlinewidth": 0,
              "ticks": ""
             }
            },
            "type": "scatter3d"
           }
          ],
          "scattercarpet": [
           {
            "marker": {
             "colorbar": {
              "outlinewidth": 0,
              "ticks": ""
             }
            },
            "type": "scattercarpet"
           }
          ],
          "scattergeo": [
           {
            "marker": {
             "colorbar": {
              "outlinewidth": 0,
              "ticks": ""
             }
            },
            "type": "scattergeo"
           }
          ],
          "scattergl": [
           {
            "marker": {
             "colorbar": {
              "outlinewidth": 0,
              "ticks": ""
             }
            },
            "type": "scattergl"
           }
          ],
          "scattermapbox": [
           {
            "marker": {
             "colorbar": {
              "outlinewidth": 0,
              "ticks": ""
             }
            },
            "type": "scattermapbox"
           }
          ],
          "scatterpolar": [
           {
            "marker": {
             "colorbar": {
              "outlinewidth": 0,
              "ticks": ""
             }
            },
            "type": "scatterpolar"
           }
          ],
          "scatterpolargl": [
           {
            "marker": {
             "colorbar": {
              "outlinewidth": 0,
              "ticks": ""
             }
            },
            "type": "scatterpolargl"
           }
          ],
          "scatterternary": [
           {
            "marker": {
             "colorbar": {
              "outlinewidth": 0,
              "ticks": ""
             }
            },
            "type": "scatterternary"
           }
          ],
          "surface": [
           {
            "colorbar": {
             "outlinewidth": 0,
             "ticks": ""
            },
            "colorscale": [
             [
              0,
              "#0d0887"
             ],
             [
              0.1111111111111111,
              "#46039f"
             ],
             [
              0.2222222222222222,
              "#7201a8"
             ],
             [
              0.3333333333333333,
              "#9c179e"
             ],
             [
              0.4444444444444444,
              "#bd3786"
             ],
             [
              0.5555555555555556,
              "#d8576b"
             ],
             [
              0.6666666666666666,
              "#ed7953"
             ],
             [
              0.7777777777777778,
              "#fb9f3a"
             ],
             [
              0.8888888888888888,
              "#fdca26"
             ],
             [
              1,
              "#f0f921"
             ]
            ],
            "type": "surface"
           }
          ],
          "table": [
           {
            "cells": {
             "fill": {
              "color": "#EBF0F8"
             },
             "line": {
              "color": "white"
             }
            },
            "header": {
             "fill": {
              "color": "#C8D4E3"
             },
             "line": {
              "color": "white"
             }
            },
            "type": "table"
           }
          ]
         },
         "layout": {
          "annotationdefaults": {
           "arrowcolor": "#2a3f5f",
           "arrowhead": 0,
           "arrowwidth": 1
          },
          "autotypenumbers": "strict",
          "coloraxis": {
           "colorbar": {
            "outlinewidth": 0,
            "ticks": ""
           }
          },
          "colorscale": {
           "diverging": [
            [
             0,
             "#8e0152"
            ],
            [
             0.1,
             "#c51b7d"
            ],
            [
             0.2,
             "#de77ae"
            ],
            [
             0.3,
             "#f1b6da"
            ],
            [
             0.4,
             "#fde0ef"
            ],
            [
             0.5,
             "#f7f7f7"
            ],
            [
             0.6,
             "#e6f5d0"
            ],
            [
             0.7,
             "#b8e186"
            ],
            [
             0.8,
             "#7fbc41"
            ],
            [
             0.9,
             "#4d9221"
            ],
            [
             1,
             "#276419"
            ]
           ],
           "sequential": [
            [
             0,
             "#0d0887"
            ],
            [
             0.1111111111111111,
             "#46039f"
            ],
            [
             0.2222222222222222,
             "#7201a8"
            ],
            [
             0.3333333333333333,
             "#9c179e"
            ],
            [
             0.4444444444444444,
             "#bd3786"
            ],
            [
             0.5555555555555556,
             "#d8576b"
            ],
            [
             0.6666666666666666,
             "#ed7953"
            ],
            [
             0.7777777777777778,
             "#fb9f3a"
            ],
            [
             0.8888888888888888,
             "#fdca26"
            ],
            [
             1,
             "#f0f921"
            ]
           ],
           "sequentialminus": [
            [
             0,
             "#0d0887"
            ],
            [
             0.1111111111111111,
             "#46039f"
            ],
            [
             0.2222222222222222,
             "#7201a8"
            ],
            [
             0.3333333333333333,
             "#9c179e"
            ],
            [
             0.4444444444444444,
             "#bd3786"
            ],
            [
             0.5555555555555556,
             "#d8576b"
            ],
            [
             0.6666666666666666,
             "#ed7953"
            ],
            [
             0.7777777777777778,
             "#fb9f3a"
            ],
            [
             0.8888888888888888,
             "#fdca26"
            ],
            [
             1,
             "#f0f921"
            ]
           ]
          },
          "colorway": [
           "#636efa",
           "#EF553B",
           "#00cc96",
           "#ab63fa",
           "#FFA15A",
           "#19d3f3",
           "#FF6692",
           "#B6E880",
           "#FF97FF",
           "#FECB52"
          ],
          "font": {
           "color": "#2a3f5f"
          },
          "geo": {
           "bgcolor": "white",
           "lakecolor": "white",
           "landcolor": "#E5ECF6",
           "showlakes": true,
           "showland": true,
           "subunitcolor": "white"
          },
          "hoverlabel": {
           "align": "left"
          },
          "hovermode": "closest",
          "mapbox": {
           "style": "light"
          },
          "paper_bgcolor": "white",
          "plot_bgcolor": "#E5ECF6",
          "polar": {
           "angularaxis": {
            "gridcolor": "white",
            "linecolor": "white",
            "ticks": ""
           },
           "bgcolor": "#E5ECF6",
           "radialaxis": {
            "gridcolor": "white",
            "linecolor": "white",
            "ticks": ""
           }
          },
          "scene": {
           "xaxis": {
            "backgroundcolor": "#E5ECF6",
            "gridcolor": "white",
            "gridwidth": 2,
            "linecolor": "white",
            "showbackground": true,
            "ticks": "",
            "zerolinecolor": "white"
           },
           "yaxis": {
            "backgroundcolor": "#E5ECF6",
            "gridcolor": "white",
            "gridwidth": 2,
            "linecolor": "white",
            "showbackground": true,
            "ticks": "",
            "zerolinecolor": "white"
           },
           "zaxis": {
            "backgroundcolor": "#E5ECF6",
            "gridcolor": "white",
            "gridwidth": 2,
            "linecolor": "white",
            "showbackground": true,
            "ticks": "",
            "zerolinecolor": "white"
           }
          },
          "shapedefaults": {
           "line": {
            "color": "#2a3f5f"
           }
          },
          "ternary": {
           "aaxis": {
            "gridcolor": "white",
            "linecolor": "white",
            "ticks": ""
           },
           "baxis": {
            "gridcolor": "white",
            "linecolor": "white",
            "ticks": ""
           },
           "bgcolor": "#E5ECF6",
           "caxis": {
            "gridcolor": "white",
            "linecolor": "white",
            "ticks": ""
           }
          },
          "title": {
           "x": 0.05
          },
          "xaxis": {
           "automargin": true,
           "gridcolor": "white",
           "linecolor": "white",
           "ticks": "",
           "title": {
            "standoff": 15
           },
           "zerolinecolor": "white",
           "zerolinewidth": 2
          },
          "yaxis": {
           "automargin": true,
           "gridcolor": "white",
           "linecolor": "white",
           "ticks": "",
           "title": {
            "standoff": 15
           },
           "zerolinecolor": "white",
           "zerolinewidth": 2
          }
         }
        },
        "xaxis": {
         "anchor": "y",
         "domain": [
          0,
          1
         ],
         "title": {
          "text": "values"
         }
        },
        "yaxis": {
         "anchor": "x",
         "domain": [
          0,
          1
         ],
         "title": {
          "text": "female_max"
         }
        }
       }
      },
      "text/html": [
       "<div>                            <div id=\"f9914881-513f-4efa-a35f-20d977a0d4fa\" class=\"plotly-graph-div\" style=\"height:525px; width:100%;\"></div>            <script type=\"text/javascript\">                require([\"plotly\"], function(Plotly) {                    window.PLOTLYENV=window.PLOTLYENV || {};                                    if (document.getElementById(\"f9914881-513f-4efa-a35f-20d977a0d4fa\")) {                    Plotly.newPlot(                        \"f9914881-513f-4efa-a35f-20d977a0d4fa\",                        [{\"hovertemplate\":\"values=%{x}<br>female_max=%{y}<extra></extra>\",\"legendgroup\":\"\",\"marker\":{\"color\":\"#636efa\"},\"name\":\"\",\"orientation\":\"h\",\"showlegend\":false,\"x\":[39710,33015,55527,91581,47860,30605,66697,19151,20568,15977,12081,13231,6076,8071,5215,21332,16249,22039,7750,17425,29648,5090,6236,10126,13752,11431,38476,10835,2506,6707,4250,5920,6306,8868,9306,6845,9244,4571,5482,21640,4950,12684,9193,1613,3542,3201,19836,3692,7363,1346],\"xaxis\":\"x\",\"y\":[\"\\u041a\\u0440\\u0430\\u0441\\u043e\\u0442\\u0430\",\"\\u041a\\u043e\\u0441\\u043c\\u0435\\u0442\\u0438\\u043a\\u0430, \\u043f\\u0430\\u0440\\u0444\\u044e\\u043c\\u0435\\u0440\\u0438\\u044f \\u0438 \\u0443\\u0445\\u043e\\u0434\",\"\\u041e\\u0434\\u0435\\u0436\\u0434\\u0430, \\u043e\\u0431\\u0443\\u0432\\u044c \\u0438 \\u0430\\u043a\\u0441\\u0435\\u0441\\u0441\\u0443\\u0430\\u0440\\u044b\",\"\\u041f\\u0440\\u043e\\u0434\\u0443\\u043a\\u0442\\u044b\",\"\\u0414\\u0435\\u0442\\u0441\\u043a\\u0438\\u0435 \\u0442\\u043e\\u0432\\u0430\\u0440\\u044b\",\"\\u0422\\u043e\\u0432\\u0430\\u0440\\u044b \\u0434\\u043b\\u044f \\u0436\\u0438\\u0432\\u043e\\u0442\\u043d\\u044b\\u0445\",\"\\u0414\\u043e\\u043c \\u0438 \\u0434\\u0430\\u0447\\u0430\",\"\\u041a\\u043e\\u0440\\u043c\\u0430 \\u0434\\u043b\\u044f \\u043a\\u043e\\u0448\\u0435\\u043a \\u0438 \\u0441\\u043e\\u0431\\u0430\\u043a\",\"\\u0422\\u043e\\u0432\\u0430\\u0440\\u044b \\u0434\\u043b\\u044f \\u043c\\u0430\\u043c \\u0438 \\u043c\\u0430\\u043b\\u044b\\u0448\\u0435\\u0439\",\"\\u041e\\u0431\\u0443\\u0432\\u044c\",\"\\u0414\\u0435\\u0442\\u0441\\u043a\\u0430\\u044f \\u043e\\u0434\\u0435\\u0436\\u0434\\u0430\",\"\\u041a\\u043e\\u0440\\u043c\\u0430 \\u0434\\u043b\\u044f \\u043a\\u043e\\u0448\\u0435\\u043a\",\"\\u0423\\u0445\\u043e\\u0434 \\u0437\\u0430 \\u043b\\u0438\\u0446\\u043e\\u043c\",\"\\u0416\\u0435\\u043d\\u0441\\u043a\\u0430\\u044f \\u043e\\u0434\\u0435\\u0436\\u0434\\u0430\",\"\\u041c\\u0430\\u043a\\u0438\\u044f\\u0436\",\"\\u0414\\u043e\\u0441\\u0443\\u0433 \\u0438 \\u0440\\u0430\\u0437\\u0432\\u043b\\u0435\\u0447\\u0435\\u043d\\u0438\\u044f\",\"\\u0418\\u0433\\u0440\\u0443\\u0448\\u043a\\u0438 \\u0438 \\u0438\\u0433\\u0440\\u044b\",\"\\u0411\\u0430\\u043a\\u0430\\u043b\\u0435\\u0439\\u043d\\u044b\\u0435 \\u0442\\u043e\\u0432\\u0430\\u0440\\u044b\",\"\\u0416\\u0435\\u043d\\u0441\\u043a\\u0430\\u044f \\u043e\\u0431\\u0443\\u0432\\u044c\",\"\\u041c\\u043e\\u043b\\u043e\\u0447\\u043d\\u0430\\u044f \\u0433\\u0430\\u0441\\u0442\\u0440\\u043e\\u043d\\u043e\\u043c\\u0438\\u044f\",\"\\u0411\\u044b\\u0442\\u043e\\u0432\\u0430\\u044f \\u0442\\u0435\\u0445\\u043d\\u0438\\u043a\\u0430\",\"\\u0423\\u0445\\u043e\\u0434 \\u0437\\u0430 \\u0432\\u043e\\u043b\\u043e\\u0441\\u0430\\u043c\\u0438\",\"\\u0423\\u0445\\u043e\\u0434 \\u0437\\u0430 \\u0442\\u0435\\u043b\\u043e\\u043c\",\"\\u0414\\u0435\\u0442\\u0441\\u043a\\u043e\\u0435 \\u043f\\u0438\\u0442\\u0430\\u043d\\u0438\\u0435\",\"\\u0417\\u0434\\u043e\\u0440\\u043e\\u0432\\u044c\\u0435\",\"\\u041a\\u043d\\u0438\\u0433\\u0438 (inactive)\",\"\\u042d\\u043b\\u0435\\u043a\\u0442\\u0440\\u043e\\u043d\\u0438\\u043a\\u0430\",\"\\u041b\\u0435\\u043a\\u0430\\u0440\\u0441\\u0442\\u0432\\u0430\",\"\\u0423\\u0445\\u043e\\u0434 \\u0437\\u0430 \\u043d\\u043e\\u0433\\u0442\\u044f\\u043c\\u0438\",\"\\u0410\\u043a\\u0441\\u0435\\u0441\\u0441\\u0443\\u0430\\u0440\\u044b\",\"\\u0414\\u043b\\u044f \\u0434\\u0435\\u0432\\u043e\\u0447\\u0435\\u043a\",\"\\u041a\\u043e\\u0440\\u043c\\u0430 \\u0434\\u043b\\u044f \\u0441\\u043e\\u0431\\u0430\\u043a\",\"\\u0421\\u0440\\u0435\\u0434\\u0441\\u0442\\u0432\\u0430 \\u0438 \\u043f\\u0440\\u0435\\u0434\\u043c\\u0435\\u0442\\u044b \\u0433\\u0438\\u0433\\u0438\\u0435\\u043d\\u044b\",\"\\u041a\\u043e\\u043d\\u0434\\u0438\\u0442\\u0435\\u0440\\u0441\\u043a\\u0438\\u0435 \\u0438\\u0437\\u0434\\u0435\\u043b\\u0438\\u044f\",\"\\u0424\\u0440\\u0443\\u043a\\u0442\\u044b, \\u043e\\u0432\\u043e\\u0449\\u0438 \\u0438 \\u0433\\u0440\\u0438\\u0431\\u044b\",\"\\u0411\\u044b\\u0442\\u043e\\u0432\\u0430\\u044f \\u0445\\u0438\\u043c\\u0438\\u044f\",\"\\u041f\\u043e\\u0441\\u0443\\u0434\\u0430 \\u0438 \\u043a\\u0443\\u0445\\u043e\\u043d\\u043d\\u044b\\u0435 \\u043f\\u0440\\u0438\\u043d\\u0430\\u0434\\u043b\\u0435\\u0436\\u043d\\u043e\\u0441\\u0442\\u0438\",\"\\u041f\\u044e\\u0440\\u0435\",\"\\u041f\\u043e\\u0434\\u0433\\u0443\\u0437\\u043d\\u0438\\u043a\\u0438 \\u0438 \\u043f\\u0440\\u0438\\u0443\\u0447\\u0435\\u043d\\u0438\\u0435 \\u043a \\u0433\\u043e\\u0440\\u0448\\u043a\\u0443\",\"\\u0422\\u0435\\u043b\\u0435\\u0444\\u043e\\u043d\\u044b\",\"\\u041f\\u0430\\u0440\\u0444\\u044e\\u043c\\u0435\\u0440\\u0438\\u044f\",\"\\u041c\\u0443\\u0436\\u0441\\u043a\\u0430\\u044f \\u043e\\u0434\\u0435\\u0436\\u0434\\u0430\",\"\\u041c\\u0435\\u0431\\u0435\\u043b\\u044c\",\"\\u0414\\u043b\\u044f \\u043b\\u0438\\u0446\\u0430\",\"\\u0425\\u043e\\u0431\\u0431\\u0438 \\u0438 \\u0442\\u0432\\u043e\\u0440\\u0447\\u0435\\u0441\\u0442\\u0432\\u043e\",\"\\u0414\\u043b\\u044f \\u043c\\u0430\\u043b\\u044c\\u0447\\u0438\\u043a\\u043e\\u0432\",\"\\u0421\\u0442\\u0440\\u043e\\u0438\\u0442\\u0435\\u043b\\u044c\\u0441\\u0442\\u0432\\u043e \\u0438 \\u0440\\u0435\\u043c\\u043e\\u043d\\u0442\",\"\\u0420\\u0430\\u0437\\u0432\\u0438\\u0442\\u0438\\u0435 \\u0438 \\u043e\\u0431\\u0443\\u0447\\u0435\\u043d\\u0438\\u0435\",\"\\u041c\\u044f\\u0441\\u043d\\u0430\\u044f \\u0433\\u0430\\u0441\\u0442\\u0440\\u043e\\u043d\\u043e\\u043c\\u0438\\u044f\",\"\\u0414\\u043b\\u044f \\u0433\\u043b\\u0430\\u0437\"],\"yaxis\":\"y\",\"type\":\"funnel\"}],                        {\"template\":{\"data\":{\"bar\":[{\"error_x\":{\"color\":\"#2a3f5f\"},\"error_y\":{\"color\":\"#2a3f5f\"},\"marker\":{\"line\":{\"color\":\"#E5ECF6\",\"width\":0.5},\"pattern\":{\"fillmode\":\"overlay\",\"size\":10,\"solidity\":0.2}},\"type\":\"bar\"}],\"barpolar\":[{\"marker\":{\"line\":{\"color\":\"#E5ECF6\",\"width\":0.5},\"pattern\":{\"fillmode\":\"overlay\",\"size\":10,\"solidity\":0.2}},\"type\":\"barpolar\"}],\"carpet\":[{\"aaxis\":{\"endlinecolor\":\"#2a3f5f\",\"gridcolor\":\"white\",\"linecolor\":\"white\",\"minorgridcolor\":\"white\",\"startlinecolor\":\"#2a3f5f\"},\"baxis\":{\"endlinecolor\":\"#2a3f5f\",\"gridcolor\":\"white\",\"linecolor\":\"white\",\"minorgridcolor\":\"white\",\"startlinecolor\":\"#2a3f5f\"},\"type\":\"carpet\"}],\"choropleth\":[{\"colorbar\":{\"outlinewidth\":0,\"ticks\":\"\"},\"type\":\"choropleth\"}],\"contour\":[{\"colorbar\":{\"outlinewidth\":0,\"ticks\":\"\"},\"colorscale\":[[0.0,\"#0d0887\"],[0.1111111111111111,\"#46039f\"],[0.2222222222222222,\"#7201a8\"],[0.3333333333333333,\"#9c179e\"],[0.4444444444444444,\"#bd3786\"],[0.5555555555555556,\"#d8576b\"],[0.6666666666666666,\"#ed7953\"],[0.7777777777777778,\"#fb9f3a\"],[0.8888888888888888,\"#fdca26\"],[1.0,\"#f0f921\"]],\"type\":\"contour\"}],\"contourcarpet\":[{\"colorbar\":{\"outlinewidth\":0,\"ticks\":\"\"},\"type\":\"contourcarpet\"}],\"heatmap\":[{\"colorbar\":{\"outlinewidth\":0,\"ticks\":\"\"},\"colorscale\":[[0.0,\"#0d0887\"],[0.1111111111111111,\"#46039f\"],[0.2222222222222222,\"#7201a8\"],[0.3333333333333333,\"#9c179e\"],[0.4444444444444444,\"#bd3786\"],[0.5555555555555556,\"#d8576b\"],[0.6666666666666666,\"#ed7953\"],[0.7777777777777778,\"#fb9f3a\"],[0.8888888888888888,\"#fdca26\"],[1.0,\"#f0f921\"]],\"type\":\"heatmap\"}],\"heatmapgl\":[{\"colorbar\":{\"outlinewidth\":0,\"ticks\":\"\"},\"colorscale\":[[0.0,\"#0d0887\"],[0.1111111111111111,\"#46039f\"],[0.2222222222222222,\"#7201a8\"],[0.3333333333333333,\"#9c179e\"],[0.4444444444444444,\"#bd3786\"],[0.5555555555555556,\"#d8576b\"],[0.6666666666666666,\"#ed7953\"],[0.7777777777777778,\"#fb9f3a\"],[0.8888888888888888,\"#fdca26\"],[1.0,\"#f0f921\"]],\"type\":\"heatmapgl\"}],\"histogram\":[{\"marker\":{\"pattern\":{\"fillmode\":\"overlay\",\"size\":10,\"solidity\":0.2}},\"type\":\"histogram\"}],\"histogram2d\":[{\"colorbar\":{\"outlinewidth\":0,\"ticks\":\"\"},\"colorscale\":[[0.0,\"#0d0887\"],[0.1111111111111111,\"#46039f\"],[0.2222222222222222,\"#7201a8\"],[0.3333333333333333,\"#9c179e\"],[0.4444444444444444,\"#bd3786\"],[0.5555555555555556,\"#d8576b\"],[0.6666666666666666,\"#ed7953\"],[0.7777777777777778,\"#fb9f3a\"],[0.8888888888888888,\"#fdca26\"],[1.0,\"#f0f921\"]],\"type\":\"histogram2d\"}],\"histogram2dcontour\":[{\"colorbar\":{\"outlinewidth\":0,\"ticks\":\"\"},\"colorscale\":[[0.0,\"#0d0887\"],[0.1111111111111111,\"#46039f\"],[0.2222222222222222,\"#7201a8\"],[0.3333333333333333,\"#9c179e\"],[0.4444444444444444,\"#bd3786\"],[0.5555555555555556,\"#d8576b\"],[0.6666666666666666,\"#ed7953\"],[0.7777777777777778,\"#fb9f3a\"],[0.8888888888888888,\"#fdca26\"],[1.0,\"#f0f921\"]],\"type\":\"histogram2dcontour\"}],\"mesh3d\":[{\"colorbar\":{\"outlinewidth\":0,\"ticks\":\"\"},\"type\":\"mesh3d\"}],\"parcoords\":[{\"line\":{\"colorbar\":{\"outlinewidth\":0,\"ticks\":\"\"}},\"type\":\"parcoords\"}],\"pie\":[{\"automargin\":true,\"type\":\"pie\"}],\"scatter\":[{\"marker\":{\"colorbar\":{\"outlinewidth\":0,\"ticks\":\"\"}},\"type\":\"scatter\"}],\"scatter3d\":[{\"line\":{\"colorbar\":{\"outlinewidth\":0,\"ticks\":\"\"}},\"marker\":{\"colorbar\":{\"outlinewidth\":0,\"ticks\":\"\"}},\"type\":\"scatter3d\"}],\"scattercarpet\":[{\"marker\":{\"colorbar\":{\"outlinewidth\":0,\"ticks\":\"\"}},\"type\":\"scattercarpet\"}],\"scattergeo\":[{\"marker\":{\"colorbar\":{\"outlinewidth\":0,\"ticks\":\"\"}},\"type\":\"scattergeo\"}],\"scattergl\":[{\"marker\":{\"colorbar\":{\"outlinewidth\":0,\"ticks\":\"\"}},\"type\":\"scattergl\"}],\"scattermapbox\":[{\"marker\":{\"colorbar\":{\"outlinewidth\":0,\"ticks\":\"\"}},\"type\":\"scattermapbox\"}],\"scatterpolar\":[{\"marker\":{\"colorbar\":{\"outlinewidth\":0,\"ticks\":\"\"}},\"type\":\"scatterpolar\"}],\"scatterpolargl\":[{\"marker\":{\"colorbar\":{\"outlinewidth\":0,\"ticks\":\"\"}},\"type\":\"scatterpolargl\"}],\"scatterternary\":[{\"marker\":{\"colorbar\":{\"outlinewidth\":0,\"ticks\":\"\"}},\"type\":\"scatterternary\"}],\"surface\":[{\"colorbar\":{\"outlinewidth\":0,\"ticks\":\"\"},\"colorscale\":[[0.0,\"#0d0887\"],[0.1111111111111111,\"#46039f\"],[0.2222222222222222,\"#7201a8\"],[0.3333333333333333,\"#9c179e\"],[0.4444444444444444,\"#bd3786\"],[0.5555555555555556,\"#d8576b\"],[0.6666666666666666,\"#ed7953\"],[0.7777777777777778,\"#fb9f3a\"],[0.8888888888888888,\"#fdca26\"],[1.0,\"#f0f921\"]],\"type\":\"surface\"}],\"table\":[{\"cells\":{\"fill\":{\"color\":\"#EBF0F8\"},\"line\":{\"color\":\"white\"}},\"header\":{\"fill\":{\"color\":\"#C8D4E3\"},\"line\":{\"color\":\"white\"}},\"type\":\"table\"}]},\"layout\":{\"annotationdefaults\":{\"arrowcolor\":\"#2a3f5f\",\"arrowhead\":0,\"arrowwidth\":1},\"autotypenumbers\":\"strict\",\"coloraxis\":{\"colorbar\":{\"outlinewidth\":0,\"ticks\":\"\"}},\"colorscale\":{\"diverging\":[[0,\"#8e0152\"],[0.1,\"#c51b7d\"],[0.2,\"#de77ae\"],[0.3,\"#f1b6da\"],[0.4,\"#fde0ef\"],[0.5,\"#f7f7f7\"],[0.6,\"#e6f5d0\"],[0.7,\"#b8e186\"],[0.8,\"#7fbc41\"],[0.9,\"#4d9221\"],[1,\"#276419\"]],\"sequential\":[[0.0,\"#0d0887\"],[0.1111111111111111,\"#46039f\"],[0.2222222222222222,\"#7201a8\"],[0.3333333333333333,\"#9c179e\"],[0.4444444444444444,\"#bd3786\"],[0.5555555555555556,\"#d8576b\"],[0.6666666666666666,\"#ed7953\"],[0.7777777777777778,\"#fb9f3a\"],[0.8888888888888888,\"#fdca26\"],[1.0,\"#f0f921\"]],\"sequentialminus\":[[0.0,\"#0d0887\"],[0.1111111111111111,\"#46039f\"],[0.2222222222222222,\"#7201a8\"],[0.3333333333333333,\"#9c179e\"],[0.4444444444444444,\"#bd3786\"],[0.5555555555555556,\"#d8576b\"],[0.6666666666666666,\"#ed7953\"],[0.7777777777777778,\"#fb9f3a\"],[0.8888888888888888,\"#fdca26\"],[1.0,\"#f0f921\"]]},\"colorway\":[\"#636efa\",\"#EF553B\",\"#00cc96\",\"#ab63fa\",\"#FFA15A\",\"#19d3f3\",\"#FF6692\",\"#B6E880\",\"#FF97FF\",\"#FECB52\"],\"font\":{\"color\":\"#2a3f5f\"},\"geo\":{\"bgcolor\":\"white\",\"lakecolor\":\"white\",\"landcolor\":\"#E5ECF6\",\"showlakes\":true,\"showland\":true,\"subunitcolor\":\"white\"},\"hoverlabel\":{\"align\":\"left\"},\"hovermode\":\"closest\",\"mapbox\":{\"style\":\"light\"},\"paper_bgcolor\":\"white\",\"plot_bgcolor\":\"#E5ECF6\",\"polar\":{\"angularaxis\":{\"gridcolor\":\"white\",\"linecolor\":\"white\",\"ticks\":\"\"},\"bgcolor\":\"#E5ECF6\",\"radialaxis\":{\"gridcolor\":\"white\",\"linecolor\":\"white\",\"ticks\":\"\"}},\"scene\":{\"xaxis\":{\"backgroundcolor\":\"#E5ECF6\",\"gridcolor\":\"white\",\"gridwidth\":2,\"linecolor\":\"white\",\"showbackground\":true,\"ticks\":\"\",\"zerolinecolor\":\"white\"},\"yaxis\":{\"backgroundcolor\":\"#E5ECF6\",\"gridcolor\":\"white\",\"gridwidth\":2,\"linecolor\":\"white\",\"showbackground\":true,\"ticks\":\"\",\"zerolinecolor\":\"white\"},\"zaxis\":{\"backgroundcolor\":\"#E5ECF6\",\"gridcolor\":\"white\",\"gridwidth\":2,\"linecolor\":\"white\",\"showbackground\":true,\"ticks\":\"\",\"zerolinecolor\":\"white\"}},\"shapedefaults\":{\"line\":{\"color\":\"#2a3f5f\"}},\"ternary\":{\"aaxis\":{\"gridcolor\":\"white\",\"linecolor\":\"white\",\"ticks\":\"\"},\"baxis\":{\"gridcolor\":\"white\",\"linecolor\":\"white\",\"ticks\":\"\"},\"bgcolor\":\"#E5ECF6\",\"caxis\":{\"gridcolor\":\"white\",\"linecolor\":\"white\",\"ticks\":\"\"}},\"title\":{\"x\":0.05},\"xaxis\":{\"automargin\":true,\"gridcolor\":\"white\",\"linecolor\":\"white\",\"ticks\":\"\",\"title\":{\"standoff\":15},\"zerolinecolor\":\"white\",\"zerolinewidth\":2},\"yaxis\":{\"automargin\":true,\"gridcolor\":\"white\",\"linecolor\":\"white\",\"ticks\":\"\",\"title\":{\"standoff\":15},\"zerolinecolor\":\"white\",\"zerolinewidth\":2}}},\"xaxis\":{\"anchor\":\"y\",\"domain\":[0.0,1.0],\"title\":{\"text\":\"values\"}},\"yaxis\":{\"anchor\":\"x\",\"domain\":[0.0,1.0],\"title\":{\"text\":\"female_max\"}},\"legend\":{\"tracegroupgap\":0},\"margin\":{\"t\":60}},                        {\"responsive\": true}                    ).then(function(){\n",
       "                            \n",
       "var gd = document.getElementById('f9914881-513f-4efa-a35f-20d977a0d4fa');\n",
       "var x = new MutationObserver(function (mutations, observer) {{\n",
       "        var display = window.getComputedStyle(gd).display;\n",
       "        if (!display || display === 'none') {{\n",
       "            console.log([gd, 'removed!']);\n",
       "            Plotly.purge(gd);\n",
       "            observer.disconnect();\n",
       "        }}\n",
       "}});\n",
       "\n",
       "// Listen for the removal of the full notebook cells\n",
       "var notebookContainer = gd.closest('#notebook-container');\n",
       "if (notebookContainer) {{\n",
       "    x.observe(notebookContainer, {childList: true});\n",
       "}}\n",
       "\n",
       "// Listen for the clearing of the current output cell\n",
       "var outputEl = gd.closest('.output');\n",
       "if (outputEl) {{\n",
       "    x.observe(outputEl, {childList: true});\n",
       "}}\n",
       "\n",
       "                        })                };                });            </script>        </div>"
      ]
     },
     "metadata": {},
     "output_type": "display_data"
    }
   ],
   "source": [
    "import plotly.express as px\n",
    "data = dict(values=df_female_max['male'],female_max=df_female_max['Description'])\n",
    "fig = px.funnel(data, y='female_max',x='values')\n",
    "fig.show()"
   ]
  },
  {
   "cell_type": "code",
   "execution_count": 73,
   "metadata": {
    "id": "stzbFULb3-_B"
   },
   "outputs": [
    {
     "data": {
      "application/vnd.plotly.v1+json": {
       "config": {
        "plotlyServerURL": "https://plot.ly"
       },
       "data": [
        {
         "hovertemplate": "values=%{x}<br>male_min=%{y}<extra></extra>",
         "legendgroup": "1",
         "marker": {
          "color": "#636efa"
         },
         "name": "1",
         "orientation": "h",
         "showlegend": true,
         "type": "funnel",
         "x": [
          1,
          1,
          1,
          1,
          1,
          1,
          1,
          1,
          1,
          1,
          1,
          1,
          1,
          1,
          1,
          1,
          1,
          1,
          1,
          1,
          1,
          1,
          1,
          1,
          1,
          1,
          1,
          1,
          1,
          1,
          1,
          1,
          1,
          1,
          1,
          1,
          1,
          1,
          1,
          1,
          1,
          1,
          1,
          1,
          1,
          1,
          1,
          1,
          1,
          1
         ],
         "xaxis": "x",
         "y": [
          "Плазменная резка",
          "Пробковый пол",
          "Аксессуары",
          "Горчичники",
          "Люнеты",
          "Светофильтры и стекла",
          "Валютные операции (inactive)",
          "World of Warships",
          "Компенсаторы плавучести",
          "Поплавковые выключатели",
          "Защита фар",
          "Консоли",
          "Решетки для встраиваемых конвекторов",
          "Палки",
          "Инструменты и аксессуары",
          "Статистика (inactive)",
          "Крепления",
          "СОЖ",
          "Механические блокираторы",
          "Тестомесильные и тестораскаточные машины",
          "Инфузионные помпы",
          "Силовые бамперы",
          "Туфли и мокасины",
          "Декоративные фонтаны",
          "Для производства и тиражирования CD и DVD дисков",
          "Платы ввода-вывода",
          "Коммунальная техника",
          "Шлифовальные щетки и валики",
          "Бумага и наборы",
          "Игры (inactive)",
          "Рентгеноконтрастные средства",
          "Комплектующие к ксенону",
          "Страхование",
          "Защита бампера",
          "Палки",
          "Ножницы и гильотины",
          "Рыболовные поводки и поводковый материал",
          "Ледорубы и скребки",
          "Газовые вентили",
          "Пневмозаклепочники",
          "Ворота",
          "Щеточные шлифмашины",
          "Паркетная доска",
          "Растворосмесители",
          "Стекла",
          "Проволока и арматура",
          "Подсумки",
          "Фотоматериалы и химикаты",
          "Автотрансформаторы",
          "Диски, щетки для точил"
         ],
         "yaxis": "y"
        }
       ],
       "layout": {
        "legend": {
         "title": {
          "text": "values"
         },
         "tracegroupgap": 0
        },
        "margin": {
         "t": 60
        },
        "template": {
         "data": {
          "bar": [
           {
            "error_x": {
             "color": "#2a3f5f"
            },
            "error_y": {
             "color": "#2a3f5f"
            },
            "marker": {
             "line": {
              "color": "#E5ECF6",
              "width": 0.5
             },
             "pattern": {
              "fillmode": "overlay",
              "size": 10,
              "solidity": 0.2
             }
            },
            "type": "bar"
           }
          ],
          "barpolar": [
           {
            "marker": {
             "line": {
              "color": "#E5ECF6",
              "width": 0.5
             },
             "pattern": {
              "fillmode": "overlay",
              "size": 10,
              "solidity": 0.2
             }
            },
            "type": "barpolar"
           }
          ],
          "carpet": [
           {
            "aaxis": {
             "endlinecolor": "#2a3f5f",
             "gridcolor": "white",
             "linecolor": "white",
             "minorgridcolor": "white",
             "startlinecolor": "#2a3f5f"
            },
            "baxis": {
             "endlinecolor": "#2a3f5f",
             "gridcolor": "white",
             "linecolor": "white",
             "minorgridcolor": "white",
             "startlinecolor": "#2a3f5f"
            },
            "type": "carpet"
           }
          ],
          "choropleth": [
           {
            "colorbar": {
             "outlinewidth": 0,
             "ticks": ""
            },
            "type": "choropleth"
           }
          ],
          "contour": [
           {
            "colorbar": {
             "outlinewidth": 0,
             "ticks": ""
            },
            "colorscale": [
             [
              0,
              "#0d0887"
             ],
             [
              0.1111111111111111,
              "#46039f"
             ],
             [
              0.2222222222222222,
              "#7201a8"
             ],
             [
              0.3333333333333333,
              "#9c179e"
             ],
             [
              0.4444444444444444,
              "#bd3786"
             ],
             [
              0.5555555555555556,
              "#d8576b"
             ],
             [
              0.6666666666666666,
              "#ed7953"
             ],
             [
              0.7777777777777778,
              "#fb9f3a"
             ],
             [
              0.8888888888888888,
              "#fdca26"
             ],
             [
              1,
              "#f0f921"
             ]
            ],
            "type": "contour"
           }
          ],
          "contourcarpet": [
           {
            "colorbar": {
             "outlinewidth": 0,
             "ticks": ""
            },
            "type": "contourcarpet"
           }
          ],
          "heatmap": [
           {
            "colorbar": {
             "outlinewidth": 0,
             "ticks": ""
            },
            "colorscale": [
             [
              0,
              "#0d0887"
             ],
             [
              0.1111111111111111,
              "#46039f"
             ],
             [
              0.2222222222222222,
              "#7201a8"
             ],
             [
              0.3333333333333333,
              "#9c179e"
             ],
             [
              0.4444444444444444,
              "#bd3786"
             ],
             [
              0.5555555555555556,
              "#d8576b"
             ],
             [
              0.6666666666666666,
              "#ed7953"
             ],
             [
              0.7777777777777778,
              "#fb9f3a"
             ],
             [
              0.8888888888888888,
              "#fdca26"
             ],
             [
              1,
              "#f0f921"
             ]
            ],
            "type": "heatmap"
           }
          ],
          "heatmapgl": [
           {
            "colorbar": {
             "outlinewidth": 0,
             "ticks": ""
            },
            "colorscale": [
             [
              0,
              "#0d0887"
             ],
             [
              0.1111111111111111,
              "#46039f"
             ],
             [
              0.2222222222222222,
              "#7201a8"
             ],
             [
              0.3333333333333333,
              "#9c179e"
             ],
             [
              0.4444444444444444,
              "#bd3786"
             ],
             [
              0.5555555555555556,
              "#d8576b"
             ],
             [
              0.6666666666666666,
              "#ed7953"
             ],
             [
              0.7777777777777778,
              "#fb9f3a"
             ],
             [
              0.8888888888888888,
              "#fdca26"
             ],
             [
              1,
              "#f0f921"
             ]
            ],
            "type": "heatmapgl"
           }
          ],
          "histogram": [
           {
            "marker": {
             "pattern": {
              "fillmode": "overlay",
              "size": 10,
              "solidity": 0.2
             }
            },
            "type": "histogram"
           }
          ],
          "histogram2d": [
           {
            "colorbar": {
             "outlinewidth": 0,
             "ticks": ""
            },
            "colorscale": [
             [
              0,
              "#0d0887"
             ],
             [
              0.1111111111111111,
              "#46039f"
             ],
             [
              0.2222222222222222,
              "#7201a8"
             ],
             [
              0.3333333333333333,
              "#9c179e"
             ],
             [
              0.4444444444444444,
              "#bd3786"
             ],
             [
              0.5555555555555556,
              "#d8576b"
             ],
             [
              0.6666666666666666,
              "#ed7953"
             ],
             [
              0.7777777777777778,
              "#fb9f3a"
             ],
             [
              0.8888888888888888,
              "#fdca26"
             ],
             [
              1,
              "#f0f921"
             ]
            ],
            "type": "histogram2d"
           }
          ],
          "histogram2dcontour": [
           {
            "colorbar": {
             "outlinewidth": 0,
             "ticks": ""
            },
            "colorscale": [
             [
              0,
              "#0d0887"
             ],
             [
              0.1111111111111111,
              "#46039f"
             ],
             [
              0.2222222222222222,
              "#7201a8"
             ],
             [
              0.3333333333333333,
              "#9c179e"
             ],
             [
              0.4444444444444444,
              "#bd3786"
             ],
             [
              0.5555555555555556,
              "#d8576b"
             ],
             [
              0.6666666666666666,
              "#ed7953"
             ],
             [
              0.7777777777777778,
              "#fb9f3a"
             ],
             [
              0.8888888888888888,
              "#fdca26"
             ],
             [
              1,
              "#f0f921"
             ]
            ],
            "type": "histogram2dcontour"
           }
          ],
          "mesh3d": [
           {
            "colorbar": {
             "outlinewidth": 0,
             "ticks": ""
            },
            "type": "mesh3d"
           }
          ],
          "parcoords": [
           {
            "line": {
             "colorbar": {
              "outlinewidth": 0,
              "ticks": ""
             }
            },
            "type": "parcoords"
           }
          ],
          "pie": [
           {
            "automargin": true,
            "type": "pie"
           }
          ],
          "scatter": [
           {
            "marker": {
             "colorbar": {
              "outlinewidth": 0,
              "ticks": ""
             }
            },
            "type": "scatter"
           }
          ],
          "scatter3d": [
           {
            "line": {
             "colorbar": {
              "outlinewidth": 0,
              "ticks": ""
             }
            },
            "marker": {
             "colorbar": {
              "outlinewidth": 0,
              "ticks": ""
             }
            },
            "type": "scatter3d"
           }
          ],
          "scattercarpet": [
           {
            "marker": {
             "colorbar": {
              "outlinewidth": 0,
              "ticks": ""
             }
            },
            "type": "scattercarpet"
           }
          ],
          "scattergeo": [
           {
            "marker": {
             "colorbar": {
              "outlinewidth": 0,
              "ticks": ""
             }
            },
            "type": "scattergeo"
           }
          ],
          "scattergl": [
           {
            "marker": {
             "colorbar": {
              "outlinewidth": 0,
              "ticks": ""
             }
            },
            "type": "scattergl"
           }
          ],
          "scattermapbox": [
           {
            "marker": {
             "colorbar": {
              "outlinewidth": 0,
              "ticks": ""
             }
            },
            "type": "scattermapbox"
           }
          ],
          "scatterpolar": [
           {
            "marker": {
             "colorbar": {
              "outlinewidth": 0,
              "ticks": ""
             }
            },
            "type": "scatterpolar"
           }
          ],
          "scatterpolargl": [
           {
            "marker": {
             "colorbar": {
              "outlinewidth": 0,
              "ticks": ""
             }
            },
            "type": "scatterpolargl"
           }
          ],
          "scatterternary": [
           {
            "marker": {
             "colorbar": {
              "outlinewidth": 0,
              "ticks": ""
             }
            },
            "type": "scatterternary"
           }
          ],
          "surface": [
           {
            "colorbar": {
             "outlinewidth": 0,
             "ticks": ""
            },
            "colorscale": [
             [
              0,
              "#0d0887"
             ],
             [
              0.1111111111111111,
              "#46039f"
             ],
             [
              0.2222222222222222,
              "#7201a8"
             ],
             [
              0.3333333333333333,
              "#9c179e"
             ],
             [
              0.4444444444444444,
              "#bd3786"
             ],
             [
              0.5555555555555556,
              "#d8576b"
             ],
             [
              0.6666666666666666,
              "#ed7953"
             ],
             [
              0.7777777777777778,
              "#fb9f3a"
             ],
             [
              0.8888888888888888,
              "#fdca26"
             ],
             [
              1,
              "#f0f921"
             ]
            ],
            "type": "surface"
           }
          ],
          "table": [
           {
            "cells": {
             "fill": {
              "color": "#EBF0F8"
             },
             "line": {
              "color": "white"
             }
            },
            "header": {
             "fill": {
              "color": "#C8D4E3"
             },
             "line": {
              "color": "white"
             }
            },
            "type": "table"
           }
          ]
         },
         "layout": {
          "annotationdefaults": {
           "arrowcolor": "#2a3f5f",
           "arrowhead": 0,
           "arrowwidth": 1
          },
          "autotypenumbers": "strict",
          "coloraxis": {
           "colorbar": {
            "outlinewidth": 0,
            "ticks": ""
           }
          },
          "colorscale": {
           "diverging": [
            [
             0,
             "#8e0152"
            ],
            [
             0.1,
             "#c51b7d"
            ],
            [
             0.2,
             "#de77ae"
            ],
            [
             0.3,
             "#f1b6da"
            ],
            [
             0.4,
             "#fde0ef"
            ],
            [
             0.5,
             "#f7f7f7"
            ],
            [
             0.6,
             "#e6f5d0"
            ],
            [
             0.7,
             "#b8e186"
            ],
            [
             0.8,
             "#7fbc41"
            ],
            [
             0.9,
             "#4d9221"
            ],
            [
             1,
             "#276419"
            ]
           ],
           "sequential": [
            [
             0,
             "#0d0887"
            ],
            [
             0.1111111111111111,
             "#46039f"
            ],
            [
             0.2222222222222222,
             "#7201a8"
            ],
            [
             0.3333333333333333,
             "#9c179e"
            ],
            [
             0.4444444444444444,
             "#bd3786"
            ],
            [
             0.5555555555555556,
             "#d8576b"
            ],
            [
             0.6666666666666666,
             "#ed7953"
            ],
            [
             0.7777777777777778,
             "#fb9f3a"
            ],
            [
             0.8888888888888888,
             "#fdca26"
            ],
            [
             1,
             "#f0f921"
            ]
           ],
           "sequentialminus": [
            [
             0,
             "#0d0887"
            ],
            [
             0.1111111111111111,
             "#46039f"
            ],
            [
             0.2222222222222222,
             "#7201a8"
            ],
            [
             0.3333333333333333,
             "#9c179e"
            ],
            [
             0.4444444444444444,
             "#bd3786"
            ],
            [
             0.5555555555555556,
             "#d8576b"
            ],
            [
             0.6666666666666666,
             "#ed7953"
            ],
            [
             0.7777777777777778,
             "#fb9f3a"
            ],
            [
             0.8888888888888888,
             "#fdca26"
            ],
            [
             1,
             "#f0f921"
            ]
           ]
          },
          "colorway": [
           "#636efa",
           "#EF553B",
           "#00cc96",
           "#ab63fa",
           "#FFA15A",
           "#19d3f3",
           "#FF6692",
           "#B6E880",
           "#FF97FF",
           "#FECB52"
          ],
          "font": {
           "color": "#2a3f5f"
          },
          "geo": {
           "bgcolor": "white",
           "lakecolor": "white",
           "landcolor": "#E5ECF6",
           "showlakes": true,
           "showland": true,
           "subunitcolor": "white"
          },
          "hoverlabel": {
           "align": "left"
          },
          "hovermode": "closest",
          "mapbox": {
           "style": "light"
          },
          "paper_bgcolor": "white",
          "plot_bgcolor": "#E5ECF6",
          "polar": {
           "angularaxis": {
            "gridcolor": "white",
            "linecolor": "white",
            "ticks": ""
           },
           "bgcolor": "#E5ECF6",
           "radialaxis": {
            "gridcolor": "white",
            "linecolor": "white",
            "ticks": ""
           }
          },
          "scene": {
           "xaxis": {
            "backgroundcolor": "#E5ECF6",
            "gridcolor": "white",
            "gridwidth": 2,
            "linecolor": "white",
            "showbackground": true,
            "ticks": "",
            "zerolinecolor": "white"
           },
           "yaxis": {
            "backgroundcolor": "#E5ECF6",
            "gridcolor": "white",
            "gridwidth": 2,
            "linecolor": "white",
            "showbackground": true,
            "ticks": "",
            "zerolinecolor": "white"
           },
           "zaxis": {
            "backgroundcolor": "#E5ECF6",
            "gridcolor": "white",
            "gridwidth": 2,
            "linecolor": "white",
            "showbackground": true,
            "ticks": "",
            "zerolinecolor": "white"
           }
          },
          "shapedefaults": {
           "line": {
            "color": "#2a3f5f"
           }
          },
          "ternary": {
           "aaxis": {
            "gridcolor": "white",
            "linecolor": "white",
            "ticks": ""
           },
           "baxis": {
            "gridcolor": "white",
            "linecolor": "white",
            "ticks": ""
           },
           "bgcolor": "#E5ECF6",
           "caxis": {
            "gridcolor": "white",
            "linecolor": "white",
            "ticks": ""
           }
          },
          "title": {
           "x": 0.05
          },
          "xaxis": {
           "automargin": true,
           "gridcolor": "white",
           "linecolor": "white",
           "ticks": "",
           "title": {
            "standoff": 15
           },
           "zerolinecolor": "white",
           "zerolinewidth": 2
          },
          "yaxis": {
           "automargin": true,
           "gridcolor": "white",
           "linecolor": "white",
           "ticks": "",
           "title": {
            "standoff": 15
           },
           "zerolinecolor": "white",
           "zerolinewidth": 2
          }
         }
        },
        "xaxis": {
         "anchor": "y",
         "categoryarray": [
          1
         ],
         "categoryorder": "array",
         "domain": [
          0,
          1
         ],
         "title": {
          "text": "values"
         }
        },
        "yaxis": {
         "anchor": "x",
         "domain": [
          0,
          1
         ],
         "title": {
          "text": "male_min"
         }
        }
       }
      },
      "text/html": [
       "<div>                            <div id=\"60347a6f-a34d-4564-8118-1e0d7c5d05a7\" class=\"plotly-graph-div\" style=\"height:525px; width:100%;\"></div>            <script type=\"text/javascript\">                require([\"plotly\"], function(Plotly) {                    window.PLOTLYENV=window.PLOTLYENV || {};                                    if (document.getElementById(\"60347a6f-a34d-4564-8118-1e0d7c5d05a7\")) {                    Plotly.newPlot(                        \"60347a6f-a34d-4564-8118-1e0d7c5d05a7\",                        [{\"hovertemplate\":\"values=%{x}<br>male_min=%{y}<extra></extra>\",\"legendgroup\":\"1\",\"marker\":{\"color\":\"#636efa\"},\"name\":\"1\",\"orientation\":\"h\",\"showlegend\":true,\"x\":[1,1,1,1,1,1,1,1,1,1,1,1,1,1,1,1,1,1,1,1,1,1,1,1,1,1,1,1,1,1,1,1,1,1,1,1,1,1,1,1,1,1,1,1,1,1,1,1,1,1],\"xaxis\":\"x\",\"y\":[\"\\u041f\\u043b\\u0430\\u0437\\u043c\\u0435\\u043d\\u043d\\u0430\\u044f \\u0440\\u0435\\u0437\\u043a\\u0430\",\"\\u041f\\u0440\\u043e\\u0431\\u043a\\u043e\\u0432\\u044b\\u0439 \\u043f\\u043e\\u043b\",\"\\u0410\\u043a\\u0441\\u0435\\u0441\\u0441\\u0443\\u0430\\u0440\\u044b\",\"\\u0413\\u043e\\u0440\\u0447\\u0438\\u0447\\u043d\\u0438\\u043a\\u0438\",\"\\u041b\\u044e\\u043d\\u0435\\u0442\\u044b\",\"\\u0421\\u0432\\u0435\\u0442\\u043e\\u0444\\u0438\\u043b\\u044c\\u0442\\u0440\\u044b \\u0438 \\u0441\\u0442\\u0435\\u043a\\u043b\\u0430\",\"\\u0412\\u0430\\u043b\\u044e\\u0442\\u043d\\u044b\\u0435 \\u043e\\u043f\\u0435\\u0440\\u0430\\u0446\\u0438\\u0438 (inactive)\",\"World of Warships\",\"\\u041a\\u043e\\u043c\\u043f\\u0435\\u043d\\u0441\\u0430\\u0442\\u043e\\u0440\\u044b \\u043f\\u043b\\u0430\\u0432\\u0443\\u0447\\u0435\\u0441\\u0442\\u0438\",\"\\u041f\\u043e\\u043f\\u043b\\u0430\\u0432\\u043a\\u043e\\u0432\\u044b\\u0435 \\u0432\\u044b\\u043a\\u043b\\u044e\\u0447\\u0430\\u0442\\u0435\\u043b\\u0438\",\"\\u0417\\u0430\\u0449\\u0438\\u0442\\u0430 \\u0444\\u0430\\u0440\",\"\\u041a\\u043e\\u043d\\u0441\\u043e\\u043b\\u0438\",\"\\u0420\\u0435\\u0448\\u0435\\u0442\\u043a\\u0438 \\u0434\\u043b\\u044f \\u0432\\u0441\\u0442\\u0440\\u0430\\u0438\\u0432\\u0430\\u0435\\u043c\\u044b\\u0445 \\u043a\\u043e\\u043d\\u0432\\u0435\\u043a\\u0442\\u043e\\u0440\\u043e\\u0432\",\"\\u041f\\u0430\\u043b\\u043a\\u0438\",\"\\u0418\\u043d\\u0441\\u0442\\u0440\\u0443\\u043c\\u0435\\u043d\\u0442\\u044b \\u0438 \\u0430\\u043a\\u0441\\u0435\\u0441\\u0441\\u0443\\u0430\\u0440\\u044b\",\"\\u0421\\u0442\\u0430\\u0442\\u0438\\u0441\\u0442\\u0438\\u043a\\u0430 (inactive)\",\"\\u041a\\u0440\\u0435\\u043f\\u043b\\u0435\\u043d\\u0438\\u044f\",\"\\u0421\\u041e\\u0416\",\"\\u041c\\u0435\\u0445\\u0430\\u043d\\u0438\\u0447\\u0435\\u0441\\u043a\\u0438\\u0435 \\u0431\\u043b\\u043e\\u043a\\u0438\\u0440\\u0430\\u0442\\u043e\\u0440\\u044b\",\"\\u0422\\u0435\\u0441\\u0442\\u043e\\u043c\\u0435\\u0441\\u0438\\u043b\\u044c\\u043d\\u044b\\u0435 \\u0438 \\u0442\\u0435\\u0441\\u0442\\u043e\\u0440\\u0430\\u0441\\u043a\\u0430\\u0442\\u043e\\u0447\\u043d\\u044b\\u0435 \\u043c\\u0430\\u0448\\u0438\\u043d\\u044b\",\"\\u0418\\u043d\\u0444\\u0443\\u0437\\u0438\\u043e\\u043d\\u043d\\u044b\\u0435 \\u043f\\u043e\\u043c\\u043f\\u044b\",\"\\u0421\\u0438\\u043b\\u043e\\u0432\\u044b\\u0435 \\u0431\\u0430\\u043c\\u043f\\u0435\\u0440\\u044b\",\"\\u0422\\u0443\\u0444\\u043b\\u0438 \\u0438 \\u043c\\u043e\\u043a\\u0430\\u0441\\u0438\\u043d\\u044b\",\"\\u0414\\u0435\\u043a\\u043e\\u0440\\u0430\\u0442\\u0438\\u0432\\u043d\\u044b\\u0435 \\u0444\\u043e\\u043d\\u0442\\u0430\\u043d\\u044b\",\"\\u0414\\u043b\\u044f \\u043f\\u0440\\u043e\\u0438\\u0437\\u0432\\u043e\\u0434\\u0441\\u0442\\u0432\\u0430 \\u0438 \\u0442\\u0438\\u0440\\u0430\\u0436\\u0438\\u0440\\u043e\\u0432\\u0430\\u043d\\u0438\\u044f CD \\u0438 DVD \\u0434\\u0438\\u0441\\u043a\\u043e\\u0432\",\"\\u041f\\u043b\\u0430\\u0442\\u044b \\u0432\\u0432\\u043e\\u0434\\u0430-\\u0432\\u044b\\u0432\\u043e\\u0434\\u0430\",\"\\u041a\\u043e\\u043c\\u043c\\u0443\\u043d\\u0430\\u043b\\u044c\\u043d\\u0430\\u044f \\u0442\\u0435\\u0445\\u043d\\u0438\\u043a\\u0430\",\"\\u0428\\u043b\\u0438\\u0444\\u043e\\u0432\\u0430\\u043b\\u044c\\u043d\\u044b\\u0435 \\u0449\\u0435\\u0442\\u043a\\u0438 \\u0438 \\u0432\\u0430\\u043b\\u0438\\u043a\\u0438\",\"\\u0411\\u0443\\u043c\\u0430\\u0433\\u0430 \\u0438 \\u043d\\u0430\\u0431\\u043e\\u0440\\u044b\",\"\\u0418\\u0433\\u0440\\u044b (inactive)\",\"\\u0420\\u0435\\u043d\\u0442\\u0433\\u0435\\u043d\\u043e\\u043a\\u043e\\u043d\\u0442\\u0440\\u0430\\u0441\\u0442\\u043d\\u044b\\u0435 \\u0441\\u0440\\u0435\\u0434\\u0441\\u0442\\u0432\\u0430\",\"\\u041a\\u043e\\u043c\\u043f\\u043b\\u0435\\u043a\\u0442\\u0443\\u044e\\u0449\\u0438\\u0435 \\u043a \\u043a\\u0441\\u0435\\u043d\\u043e\\u043d\\u0443\",\"\\u0421\\u0442\\u0440\\u0430\\u0445\\u043e\\u0432\\u0430\\u043d\\u0438\\u0435\",\"\\u0417\\u0430\\u0449\\u0438\\u0442\\u0430 \\u0431\\u0430\\u043c\\u043f\\u0435\\u0440\\u0430\",\"\\u041f\\u0430\\u043b\\u043a\\u0438\",\"\\u041d\\u043e\\u0436\\u043d\\u0438\\u0446\\u044b \\u0438 \\u0433\\u0438\\u043b\\u044c\\u043e\\u0442\\u0438\\u043d\\u044b\",\"\\u0420\\u044b\\u0431\\u043e\\u043b\\u043e\\u0432\\u043d\\u044b\\u0435 \\u043f\\u043e\\u0432\\u043e\\u0434\\u043a\\u0438 \\u0438 \\u043f\\u043e\\u0432\\u043e\\u0434\\u043a\\u043e\\u0432\\u044b\\u0439 \\u043c\\u0430\\u0442\\u0435\\u0440\\u0438\\u0430\\u043b\",\"\\u041b\\u0435\\u0434\\u043e\\u0440\\u0443\\u0431\\u044b \\u0438 \\u0441\\u043a\\u0440\\u0435\\u0431\\u043a\\u0438\",\"\\u0413\\u0430\\u0437\\u043e\\u0432\\u044b\\u0435 \\u0432\\u0435\\u043d\\u0442\\u0438\\u043b\\u0438\",\"\\u041f\\u043d\\u0435\\u0432\\u043c\\u043e\\u0437\\u0430\\u043a\\u043b\\u0435\\u043f\\u043e\\u0447\\u043d\\u0438\\u043a\\u0438\",\"\\u0412\\u043e\\u0440\\u043e\\u0442\\u0430\",\"\\u0429\\u0435\\u0442\\u043e\\u0447\\u043d\\u044b\\u0435 \\u0448\\u043b\\u0438\\u0444\\u043c\\u0430\\u0448\\u0438\\u043d\\u044b\",\"\\u041f\\u0430\\u0440\\u043a\\u0435\\u0442\\u043d\\u0430\\u044f \\u0434\\u043e\\u0441\\u043a\\u0430\",\"\\u0420\\u0430\\u0441\\u0442\\u0432\\u043e\\u0440\\u043e\\u0441\\u043c\\u0435\\u0441\\u0438\\u0442\\u0435\\u043b\\u0438\",\"\\u0421\\u0442\\u0435\\u043a\\u043b\\u0430\",\"\\u041f\\u0440\\u043e\\u0432\\u043e\\u043b\\u043e\\u043a\\u0430 \\u0438 \\u0430\\u0440\\u043c\\u0430\\u0442\\u0443\\u0440\\u0430\",\"\\u041f\\u043e\\u0434\\u0441\\u0443\\u043c\\u043a\\u0438\",\"\\u0424\\u043e\\u0442\\u043e\\u043c\\u0430\\u0442\\u0435\\u0440\\u0438\\u0430\\u043b\\u044b \\u0438 \\u0445\\u0438\\u043c\\u0438\\u043a\\u0430\\u0442\\u044b\",\"\\u0410\\u0432\\u0442\\u043e\\u0442\\u0440\\u0430\\u043d\\u0441\\u0444\\u043e\\u0440\\u043c\\u0430\\u0442\\u043e\\u0440\\u044b\",\"\\u0414\\u0438\\u0441\\u043a\\u0438, \\u0449\\u0435\\u0442\\u043a\\u0438 \\u0434\\u043b\\u044f \\u0442\\u043e\\u0447\\u0438\\u043b\"],\"yaxis\":\"y\",\"type\":\"funnel\"}],                        {\"template\":{\"data\":{\"bar\":[{\"error_x\":{\"color\":\"#2a3f5f\"},\"error_y\":{\"color\":\"#2a3f5f\"},\"marker\":{\"line\":{\"color\":\"#E5ECF6\",\"width\":0.5},\"pattern\":{\"fillmode\":\"overlay\",\"size\":10,\"solidity\":0.2}},\"type\":\"bar\"}],\"barpolar\":[{\"marker\":{\"line\":{\"color\":\"#E5ECF6\",\"width\":0.5},\"pattern\":{\"fillmode\":\"overlay\",\"size\":10,\"solidity\":0.2}},\"type\":\"barpolar\"}],\"carpet\":[{\"aaxis\":{\"endlinecolor\":\"#2a3f5f\",\"gridcolor\":\"white\",\"linecolor\":\"white\",\"minorgridcolor\":\"white\",\"startlinecolor\":\"#2a3f5f\"},\"baxis\":{\"endlinecolor\":\"#2a3f5f\",\"gridcolor\":\"white\",\"linecolor\":\"white\",\"minorgridcolor\":\"white\",\"startlinecolor\":\"#2a3f5f\"},\"type\":\"carpet\"}],\"choropleth\":[{\"colorbar\":{\"outlinewidth\":0,\"ticks\":\"\"},\"type\":\"choropleth\"}],\"contour\":[{\"colorbar\":{\"outlinewidth\":0,\"ticks\":\"\"},\"colorscale\":[[0.0,\"#0d0887\"],[0.1111111111111111,\"#46039f\"],[0.2222222222222222,\"#7201a8\"],[0.3333333333333333,\"#9c179e\"],[0.4444444444444444,\"#bd3786\"],[0.5555555555555556,\"#d8576b\"],[0.6666666666666666,\"#ed7953\"],[0.7777777777777778,\"#fb9f3a\"],[0.8888888888888888,\"#fdca26\"],[1.0,\"#f0f921\"]],\"type\":\"contour\"}],\"contourcarpet\":[{\"colorbar\":{\"outlinewidth\":0,\"ticks\":\"\"},\"type\":\"contourcarpet\"}],\"heatmap\":[{\"colorbar\":{\"outlinewidth\":0,\"ticks\":\"\"},\"colorscale\":[[0.0,\"#0d0887\"],[0.1111111111111111,\"#46039f\"],[0.2222222222222222,\"#7201a8\"],[0.3333333333333333,\"#9c179e\"],[0.4444444444444444,\"#bd3786\"],[0.5555555555555556,\"#d8576b\"],[0.6666666666666666,\"#ed7953\"],[0.7777777777777778,\"#fb9f3a\"],[0.8888888888888888,\"#fdca26\"],[1.0,\"#f0f921\"]],\"type\":\"heatmap\"}],\"heatmapgl\":[{\"colorbar\":{\"outlinewidth\":0,\"ticks\":\"\"},\"colorscale\":[[0.0,\"#0d0887\"],[0.1111111111111111,\"#46039f\"],[0.2222222222222222,\"#7201a8\"],[0.3333333333333333,\"#9c179e\"],[0.4444444444444444,\"#bd3786\"],[0.5555555555555556,\"#d8576b\"],[0.6666666666666666,\"#ed7953\"],[0.7777777777777778,\"#fb9f3a\"],[0.8888888888888888,\"#fdca26\"],[1.0,\"#f0f921\"]],\"type\":\"heatmapgl\"}],\"histogram\":[{\"marker\":{\"pattern\":{\"fillmode\":\"overlay\",\"size\":10,\"solidity\":0.2}},\"type\":\"histogram\"}],\"histogram2d\":[{\"colorbar\":{\"outlinewidth\":0,\"ticks\":\"\"},\"colorscale\":[[0.0,\"#0d0887\"],[0.1111111111111111,\"#46039f\"],[0.2222222222222222,\"#7201a8\"],[0.3333333333333333,\"#9c179e\"],[0.4444444444444444,\"#bd3786\"],[0.5555555555555556,\"#d8576b\"],[0.6666666666666666,\"#ed7953\"],[0.7777777777777778,\"#fb9f3a\"],[0.8888888888888888,\"#fdca26\"],[1.0,\"#f0f921\"]],\"type\":\"histogram2d\"}],\"histogram2dcontour\":[{\"colorbar\":{\"outlinewidth\":0,\"ticks\":\"\"},\"colorscale\":[[0.0,\"#0d0887\"],[0.1111111111111111,\"#46039f\"],[0.2222222222222222,\"#7201a8\"],[0.3333333333333333,\"#9c179e\"],[0.4444444444444444,\"#bd3786\"],[0.5555555555555556,\"#d8576b\"],[0.6666666666666666,\"#ed7953\"],[0.7777777777777778,\"#fb9f3a\"],[0.8888888888888888,\"#fdca26\"],[1.0,\"#f0f921\"]],\"type\":\"histogram2dcontour\"}],\"mesh3d\":[{\"colorbar\":{\"outlinewidth\":0,\"ticks\":\"\"},\"type\":\"mesh3d\"}],\"parcoords\":[{\"line\":{\"colorbar\":{\"outlinewidth\":0,\"ticks\":\"\"}},\"type\":\"parcoords\"}],\"pie\":[{\"automargin\":true,\"type\":\"pie\"}],\"scatter\":[{\"marker\":{\"colorbar\":{\"outlinewidth\":0,\"ticks\":\"\"}},\"type\":\"scatter\"}],\"scatter3d\":[{\"line\":{\"colorbar\":{\"outlinewidth\":0,\"ticks\":\"\"}},\"marker\":{\"colorbar\":{\"outlinewidth\":0,\"ticks\":\"\"}},\"type\":\"scatter3d\"}],\"scattercarpet\":[{\"marker\":{\"colorbar\":{\"outlinewidth\":0,\"ticks\":\"\"}},\"type\":\"scattercarpet\"}],\"scattergeo\":[{\"marker\":{\"colorbar\":{\"outlinewidth\":0,\"ticks\":\"\"}},\"type\":\"scattergeo\"}],\"scattergl\":[{\"marker\":{\"colorbar\":{\"outlinewidth\":0,\"ticks\":\"\"}},\"type\":\"scattergl\"}],\"scattermapbox\":[{\"marker\":{\"colorbar\":{\"outlinewidth\":0,\"ticks\":\"\"}},\"type\":\"scattermapbox\"}],\"scatterpolar\":[{\"marker\":{\"colorbar\":{\"outlinewidth\":0,\"ticks\":\"\"}},\"type\":\"scatterpolar\"}],\"scatterpolargl\":[{\"marker\":{\"colorbar\":{\"outlinewidth\":0,\"ticks\":\"\"}},\"type\":\"scatterpolargl\"}],\"scatterternary\":[{\"marker\":{\"colorbar\":{\"outlinewidth\":0,\"ticks\":\"\"}},\"type\":\"scatterternary\"}],\"surface\":[{\"colorbar\":{\"outlinewidth\":0,\"ticks\":\"\"},\"colorscale\":[[0.0,\"#0d0887\"],[0.1111111111111111,\"#46039f\"],[0.2222222222222222,\"#7201a8\"],[0.3333333333333333,\"#9c179e\"],[0.4444444444444444,\"#bd3786\"],[0.5555555555555556,\"#d8576b\"],[0.6666666666666666,\"#ed7953\"],[0.7777777777777778,\"#fb9f3a\"],[0.8888888888888888,\"#fdca26\"],[1.0,\"#f0f921\"]],\"type\":\"surface\"}],\"table\":[{\"cells\":{\"fill\":{\"color\":\"#EBF0F8\"},\"line\":{\"color\":\"white\"}},\"header\":{\"fill\":{\"color\":\"#C8D4E3\"},\"line\":{\"color\":\"white\"}},\"type\":\"table\"}]},\"layout\":{\"annotationdefaults\":{\"arrowcolor\":\"#2a3f5f\",\"arrowhead\":0,\"arrowwidth\":1},\"autotypenumbers\":\"strict\",\"coloraxis\":{\"colorbar\":{\"outlinewidth\":0,\"ticks\":\"\"}},\"colorscale\":{\"diverging\":[[0,\"#8e0152\"],[0.1,\"#c51b7d\"],[0.2,\"#de77ae\"],[0.3,\"#f1b6da\"],[0.4,\"#fde0ef\"],[0.5,\"#f7f7f7\"],[0.6,\"#e6f5d0\"],[0.7,\"#b8e186\"],[0.8,\"#7fbc41\"],[0.9,\"#4d9221\"],[1,\"#276419\"]],\"sequential\":[[0.0,\"#0d0887\"],[0.1111111111111111,\"#46039f\"],[0.2222222222222222,\"#7201a8\"],[0.3333333333333333,\"#9c179e\"],[0.4444444444444444,\"#bd3786\"],[0.5555555555555556,\"#d8576b\"],[0.6666666666666666,\"#ed7953\"],[0.7777777777777778,\"#fb9f3a\"],[0.8888888888888888,\"#fdca26\"],[1.0,\"#f0f921\"]],\"sequentialminus\":[[0.0,\"#0d0887\"],[0.1111111111111111,\"#46039f\"],[0.2222222222222222,\"#7201a8\"],[0.3333333333333333,\"#9c179e\"],[0.4444444444444444,\"#bd3786\"],[0.5555555555555556,\"#d8576b\"],[0.6666666666666666,\"#ed7953\"],[0.7777777777777778,\"#fb9f3a\"],[0.8888888888888888,\"#fdca26\"],[1.0,\"#f0f921\"]]},\"colorway\":[\"#636efa\",\"#EF553B\",\"#00cc96\",\"#ab63fa\",\"#FFA15A\",\"#19d3f3\",\"#FF6692\",\"#B6E880\",\"#FF97FF\",\"#FECB52\"],\"font\":{\"color\":\"#2a3f5f\"},\"geo\":{\"bgcolor\":\"white\",\"lakecolor\":\"white\",\"landcolor\":\"#E5ECF6\",\"showlakes\":true,\"showland\":true,\"subunitcolor\":\"white\"},\"hoverlabel\":{\"align\":\"left\"},\"hovermode\":\"closest\",\"mapbox\":{\"style\":\"light\"},\"paper_bgcolor\":\"white\",\"plot_bgcolor\":\"#E5ECF6\",\"polar\":{\"angularaxis\":{\"gridcolor\":\"white\",\"linecolor\":\"white\",\"ticks\":\"\"},\"bgcolor\":\"#E5ECF6\",\"radialaxis\":{\"gridcolor\":\"white\",\"linecolor\":\"white\",\"ticks\":\"\"}},\"scene\":{\"xaxis\":{\"backgroundcolor\":\"#E5ECF6\",\"gridcolor\":\"white\",\"gridwidth\":2,\"linecolor\":\"white\",\"showbackground\":true,\"ticks\":\"\",\"zerolinecolor\":\"white\"},\"yaxis\":{\"backgroundcolor\":\"#E5ECF6\",\"gridcolor\":\"white\",\"gridwidth\":2,\"linecolor\":\"white\",\"showbackground\":true,\"ticks\":\"\",\"zerolinecolor\":\"white\"},\"zaxis\":{\"backgroundcolor\":\"#E5ECF6\",\"gridcolor\":\"white\",\"gridwidth\":2,\"linecolor\":\"white\",\"showbackground\":true,\"ticks\":\"\",\"zerolinecolor\":\"white\"}},\"shapedefaults\":{\"line\":{\"color\":\"#2a3f5f\"}},\"ternary\":{\"aaxis\":{\"gridcolor\":\"white\",\"linecolor\":\"white\",\"ticks\":\"\"},\"baxis\":{\"gridcolor\":\"white\",\"linecolor\":\"white\",\"ticks\":\"\"},\"bgcolor\":\"#E5ECF6\",\"caxis\":{\"gridcolor\":\"white\",\"linecolor\":\"white\",\"ticks\":\"\"}},\"title\":{\"x\":0.05},\"xaxis\":{\"automargin\":true,\"gridcolor\":\"white\",\"linecolor\":\"white\",\"ticks\":\"\",\"title\":{\"standoff\":15},\"zerolinecolor\":\"white\",\"zerolinewidth\":2},\"yaxis\":{\"automargin\":true,\"gridcolor\":\"white\",\"linecolor\":\"white\",\"ticks\":\"\",\"title\":{\"standoff\":15},\"zerolinecolor\":\"white\",\"zerolinewidth\":2}}},\"xaxis\":{\"anchor\":\"y\",\"domain\":[0.0,1.0],\"title\":{\"text\":\"values\"},\"categoryorder\":\"array\",\"categoryarray\":[1]},\"yaxis\":{\"anchor\":\"x\",\"domain\":[0.0,1.0],\"title\":{\"text\":\"male_min\"}},\"legend\":{\"title\":{\"text\":\"values\"},\"tracegroupgap\":0},\"margin\":{\"t\":60}},                        {\"responsive\": true}                    ).then(function(){\n",
       "                            \n",
       "var gd = document.getElementById('60347a6f-a34d-4564-8118-1e0d7c5d05a7');\n",
       "var x = new MutationObserver(function (mutations, observer) {{\n",
       "        var display = window.getComputedStyle(gd).display;\n",
       "        if (!display || display === 'none') {{\n",
       "            console.log([gd, 'removed!']);\n",
       "            Plotly.purge(gd);\n",
       "            observer.disconnect();\n",
       "        }}\n",
       "}});\n",
       "\n",
       "// Listen for the removal of the full notebook cells\n",
       "var notebookContainer = gd.closest('#notebook-container');\n",
       "if (notebookContainer) {{\n",
       "    x.observe(notebookContainer, {childList: true});\n",
       "}}\n",
       "\n",
       "// Listen for the clearing of the current output cell\n",
       "var outputEl = gd.closest('.output');\n",
       "if (outputEl) {{\n",
       "    x.observe(outputEl, {childList: true});\n",
       "}}\n",
       "\n",
       "                        })                };                });            </script>        </div>"
      ]
     },
     "metadata": {},
     "output_type": "display_data"
    }
   ],
   "source": [
    "data = dict(values=df_male_min['male'],male_min=df_male_min['Description'])\n",
    "fig = px.funnel(data, y='male_min',x='values',color='values')\n",
    "fig.show()"
   ]
  },
  {
   "cell_type": "code",
   "execution_count": 95,
   "metadata": {},
   "outputs": [
    {
     "data": {
      "application/vnd.plotly.v1+json": {
       "config": {
        "plotlyServerURL": "https://plot.ly"
       },
       "data": [
        {
         "hovertemplate": "values=%{x}<br>female_min=%{y}<extra></extra>",
         "legendgroup": "1",
         "marker": {
          "color": "#636efa"
         },
         "name": "1",
         "orientation": "h",
         "showlegend": true,
         "type": "funnel",
         "x": [
          1,
          1,
          1,
          1,
          1,
          1,
          1,
          1,
          1,
          1,
          1,
          1,
          1,
          1,
          1,
          1,
          1,
          1,
          1,
          1,
          1,
          1,
          1,
          1,
          1,
          1,
          1,
          1,
          1,
          1,
          1,
          1,
          1,
          1,
          1,
          1,
          1,
          1,
          1,
          1,
          1,
          1,
          1,
          1,
          1,
          1,
          1,
          1,
          1,
          1
         ],
         "xaxis": "x",
         "y": [
          "Плазменная резка",
          "Аксессуары",
          "Люнеты",
          "Флорбол",
          "Отбойные молотки",
          "Ювелирная посуда и сувениры",
          "Дельташлифмашины",
          "Винты и болты",
          "Ножи для рубанков",
          "Инверсионные столы",
          "Анемометры и балометры",
          "Теплицы и каркасы",
          "Радиоаппаратура (inactive)",
          "Кобуры",
          "Крепления",
          "Парктроники",
          "Силовые бамперы",
          "Пролонгирующие и возбуждающие средства",
          "Платы ввода-вывода",
          "Толщиномеры",
          "Шлифовальные щетки и валики",
          "Мотопомпы",
          "Heavy metal",
          "Шайбы и гайки",
          "Резаки",
          "Жакеты",
          "Газосварочные горелки",
          "Каркасные батуты",
          "Проекторы",
          "Шнеки и удлинители",
          "Каретки",
          "Шары",
          "Защита бампера",
          "Пневмолобзики и пилы",
          "Аксессуары для оргтехники",
          "Пневмотрещотки",
          "Вышивальные машины",
          "Ножницы и гильотины",
          "Омыватель",
          "Садки и подсачеки",
          "Противогололедные реагенты",
          "Ракетки",
          "Газовые вентили",
          "Лобзиковые станки",
          "Цифро-аналоговые преобразователи",
          "Системы доступа и коммуникационные сервера",
          "Проволока и арматура",
          "Тормозные жидкости",
          "Отопительные системы",
          "Аксессуары и комплектующие"
         ],
         "yaxis": "y"
        }
       ],
       "layout": {
        "legend": {
         "title": {
          "text": "values"
         },
         "tracegroupgap": 0
        },
        "margin": {
         "t": 60
        },
        "template": {
         "data": {
          "bar": [
           {
            "error_x": {
             "color": "#2a3f5f"
            },
            "error_y": {
             "color": "#2a3f5f"
            },
            "marker": {
             "line": {
              "color": "#E5ECF6",
              "width": 0.5
             },
             "pattern": {
              "fillmode": "overlay",
              "size": 10,
              "solidity": 0.2
             }
            },
            "type": "bar"
           }
          ],
          "barpolar": [
           {
            "marker": {
             "line": {
              "color": "#E5ECF6",
              "width": 0.5
             },
             "pattern": {
              "fillmode": "overlay",
              "size": 10,
              "solidity": 0.2
             }
            },
            "type": "barpolar"
           }
          ],
          "carpet": [
           {
            "aaxis": {
             "endlinecolor": "#2a3f5f",
             "gridcolor": "white",
             "linecolor": "white",
             "minorgridcolor": "white",
             "startlinecolor": "#2a3f5f"
            },
            "baxis": {
             "endlinecolor": "#2a3f5f",
             "gridcolor": "white",
             "linecolor": "white",
             "minorgridcolor": "white",
             "startlinecolor": "#2a3f5f"
            },
            "type": "carpet"
           }
          ],
          "choropleth": [
           {
            "colorbar": {
             "outlinewidth": 0,
             "ticks": ""
            },
            "type": "choropleth"
           }
          ],
          "contour": [
           {
            "colorbar": {
             "outlinewidth": 0,
             "ticks": ""
            },
            "colorscale": [
             [
              0,
              "#0d0887"
             ],
             [
              0.1111111111111111,
              "#46039f"
             ],
             [
              0.2222222222222222,
              "#7201a8"
             ],
             [
              0.3333333333333333,
              "#9c179e"
             ],
             [
              0.4444444444444444,
              "#bd3786"
             ],
             [
              0.5555555555555556,
              "#d8576b"
             ],
             [
              0.6666666666666666,
              "#ed7953"
             ],
             [
              0.7777777777777778,
              "#fb9f3a"
             ],
             [
              0.8888888888888888,
              "#fdca26"
             ],
             [
              1,
              "#f0f921"
             ]
            ],
            "type": "contour"
           }
          ],
          "contourcarpet": [
           {
            "colorbar": {
             "outlinewidth": 0,
             "ticks": ""
            },
            "type": "contourcarpet"
           }
          ],
          "heatmap": [
           {
            "colorbar": {
             "outlinewidth": 0,
             "ticks": ""
            },
            "colorscale": [
             [
              0,
              "#0d0887"
             ],
             [
              0.1111111111111111,
              "#46039f"
             ],
             [
              0.2222222222222222,
              "#7201a8"
             ],
             [
              0.3333333333333333,
              "#9c179e"
             ],
             [
              0.4444444444444444,
              "#bd3786"
             ],
             [
              0.5555555555555556,
              "#d8576b"
             ],
             [
              0.6666666666666666,
              "#ed7953"
             ],
             [
              0.7777777777777778,
              "#fb9f3a"
             ],
             [
              0.8888888888888888,
              "#fdca26"
             ],
             [
              1,
              "#f0f921"
             ]
            ],
            "type": "heatmap"
           }
          ],
          "heatmapgl": [
           {
            "colorbar": {
             "outlinewidth": 0,
             "ticks": ""
            },
            "colorscale": [
             [
              0,
              "#0d0887"
             ],
             [
              0.1111111111111111,
              "#46039f"
             ],
             [
              0.2222222222222222,
              "#7201a8"
             ],
             [
              0.3333333333333333,
              "#9c179e"
             ],
             [
              0.4444444444444444,
              "#bd3786"
             ],
             [
              0.5555555555555556,
              "#d8576b"
             ],
             [
              0.6666666666666666,
              "#ed7953"
             ],
             [
              0.7777777777777778,
              "#fb9f3a"
             ],
             [
              0.8888888888888888,
              "#fdca26"
             ],
             [
              1,
              "#f0f921"
             ]
            ],
            "type": "heatmapgl"
           }
          ],
          "histogram": [
           {
            "marker": {
             "pattern": {
              "fillmode": "overlay",
              "size": 10,
              "solidity": 0.2
             }
            },
            "type": "histogram"
           }
          ],
          "histogram2d": [
           {
            "colorbar": {
             "outlinewidth": 0,
             "ticks": ""
            },
            "colorscale": [
             [
              0,
              "#0d0887"
             ],
             [
              0.1111111111111111,
              "#46039f"
             ],
             [
              0.2222222222222222,
              "#7201a8"
             ],
             [
              0.3333333333333333,
              "#9c179e"
             ],
             [
              0.4444444444444444,
              "#bd3786"
             ],
             [
              0.5555555555555556,
              "#d8576b"
             ],
             [
              0.6666666666666666,
              "#ed7953"
             ],
             [
              0.7777777777777778,
              "#fb9f3a"
             ],
             [
              0.8888888888888888,
              "#fdca26"
             ],
             [
              1,
              "#f0f921"
             ]
            ],
            "type": "histogram2d"
           }
          ],
          "histogram2dcontour": [
           {
            "colorbar": {
             "outlinewidth": 0,
             "ticks": ""
            },
            "colorscale": [
             [
              0,
              "#0d0887"
             ],
             [
              0.1111111111111111,
              "#46039f"
             ],
             [
              0.2222222222222222,
              "#7201a8"
             ],
             [
              0.3333333333333333,
              "#9c179e"
             ],
             [
              0.4444444444444444,
              "#bd3786"
             ],
             [
              0.5555555555555556,
              "#d8576b"
             ],
             [
              0.6666666666666666,
              "#ed7953"
             ],
             [
              0.7777777777777778,
              "#fb9f3a"
             ],
             [
              0.8888888888888888,
              "#fdca26"
             ],
             [
              1,
              "#f0f921"
             ]
            ],
            "type": "histogram2dcontour"
           }
          ],
          "mesh3d": [
           {
            "colorbar": {
             "outlinewidth": 0,
             "ticks": ""
            },
            "type": "mesh3d"
           }
          ],
          "parcoords": [
           {
            "line": {
             "colorbar": {
              "outlinewidth": 0,
              "ticks": ""
             }
            },
            "type": "parcoords"
           }
          ],
          "pie": [
           {
            "automargin": true,
            "type": "pie"
           }
          ],
          "scatter": [
           {
            "marker": {
             "colorbar": {
              "outlinewidth": 0,
              "ticks": ""
             }
            },
            "type": "scatter"
           }
          ],
          "scatter3d": [
           {
            "line": {
             "colorbar": {
              "outlinewidth": 0,
              "ticks": ""
             }
            },
            "marker": {
             "colorbar": {
              "outlinewidth": 0,
              "ticks": ""
             }
            },
            "type": "scatter3d"
           }
          ],
          "scattercarpet": [
           {
            "marker": {
             "colorbar": {
              "outlinewidth": 0,
              "ticks": ""
             }
            },
            "type": "scattercarpet"
           }
          ],
          "scattergeo": [
           {
            "marker": {
             "colorbar": {
              "outlinewidth": 0,
              "ticks": ""
             }
            },
            "type": "scattergeo"
           }
          ],
          "scattergl": [
           {
            "marker": {
             "colorbar": {
              "outlinewidth": 0,
              "ticks": ""
             }
            },
            "type": "scattergl"
           }
          ],
          "scattermapbox": [
           {
            "marker": {
             "colorbar": {
              "outlinewidth": 0,
              "ticks": ""
             }
            },
            "type": "scattermapbox"
           }
          ],
          "scatterpolar": [
           {
            "marker": {
             "colorbar": {
              "outlinewidth": 0,
              "ticks": ""
             }
            },
            "type": "scatterpolar"
           }
          ],
          "scatterpolargl": [
           {
            "marker": {
             "colorbar": {
              "outlinewidth": 0,
              "ticks": ""
             }
            },
            "type": "scatterpolargl"
           }
          ],
          "scatterternary": [
           {
            "marker": {
             "colorbar": {
              "outlinewidth": 0,
              "ticks": ""
             }
            },
            "type": "scatterternary"
           }
          ],
          "surface": [
           {
            "colorbar": {
             "outlinewidth": 0,
             "ticks": ""
            },
            "colorscale": [
             [
              0,
              "#0d0887"
             ],
             [
              0.1111111111111111,
              "#46039f"
             ],
             [
              0.2222222222222222,
              "#7201a8"
             ],
             [
              0.3333333333333333,
              "#9c179e"
             ],
             [
              0.4444444444444444,
              "#bd3786"
             ],
             [
              0.5555555555555556,
              "#d8576b"
             ],
             [
              0.6666666666666666,
              "#ed7953"
             ],
             [
              0.7777777777777778,
              "#fb9f3a"
             ],
             [
              0.8888888888888888,
              "#fdca26"
             ],
             [
              1,
              "#f0f921"
             ]
            ],
            "type": "surface"
           }
          ],
          "table": [
           {
            "cells": {
             "fill": {
              "color": "#EBF0F8"
             },
             "line": {
              "color": "white"
             }
            },
            "header": {
             "fill": {
              "color": "#C8D4E3"
             },
             "line": {
              "color": "white"
             }
            },
            "type": "table"
           }
          ]
         },
         "layout": {
          "annotationdefaults": {
           "arrowcolor": "#2a3f5f",
           "arrowhead": 0,
           "arrowwidth": 1
          },
          "autotypenumbers": "strict",
          "coloraxis": {
           "colorbar": {
            "outlinewidth": 0,
            "ticks": ""
           }
          },
          "colorscale": {
           "diverging": [
            [
             0,
             "#8e0152"
            ],
            [
             0.1,
             "#c51b7d"
            ],
            [
             0.2,
             "#de77ae"
            ],
            [
             0.3,
             "#f1b6da"
            ],
            [
             0.4,
             "#fde0ef"
            ],
            [
             0.5,
             "#f7f7f7"
            ],
            [
             0.6,
             "#e6f5d0"
            ],
            [
             0.7,
             "#b8e186"
            ],
            [
             0.8,
             "#7fbc41"
            ],
            [
             0.9,
             "#4d9221"
            ],
            [
             1,
             "#276419"
            ]
           ],
           "sequential": [
            [
             0,
             "#0d0887"
            ],
            [
             0.1111111111111111,
             "#46039f"
            ],
            [
             0.2222222222222222,
             "#7201a8"
            ],
            [
             0.3333333333333333,
             "#9c179e"
            ],
            [
             0.4444444444444444,
             "#bd3786"
            ],
            [
             0.5555555555555556,
             "#d8576b"
            ],
            [
             0.6666666666666666,
             "#ed7953"
            ],
            [
             0.7777777777777778,
             "#fb9f3a"
            ],
            [
             0.8888888888888888,
             "#fdca26"
            ],
            [
             1,
             "#f0f921"
            ]
           ],
           "sequentialminus": [
            [
             0,
             "#0d0887"
            ],
            [
             0.1111111111111111,
             "#46039f"
            ],
            [
             0.2222222222222222,
             "#7201a8"
            ],
            [
             0.3333333333333333,
             "#9c179e"
            ],
            [
             0.4444444444444444,
             "#bd3786"
            ],
            [
             0.5555555555555556,
             "#d8576b"
            ],
            [
             0.6666666666666666,
             "#ed7953"
            ],
            [
             0.7777777777777778,
             "#fb9f3a"
            ],
            [
             0.8888888888888888,
             "#fdca26"
            ],
            [
             1,
             "#f0f921"
            ]
           ]
          },
          "colorway": [
           "#636efa",
           "#EF553B",
           "#00cc96",
           "#ab63fa",
           "#FFA15A",
           "#19d3f3",
           "#FF6692",
           "#B6E880",
           "#FF97FF",
           "#FECB52"
          ],
          "font": {
           "color": "#2a3f5f"
          },
          "geo": {
           "bgcolor": "white",
           "lakecolor": "white",
           "landcolor": "#E5ECF6",
           "showlakes": true,
           "showland": true,
           "subunitcolor": "white"
          },
          "hoverlabel": {
           "align": "left"
          },
          "hovermode": "closest",
          "mapbox": {
           "style": "light"
          },
          "paper_bgcolor": "white",
          "plot_bgcolor": "#E5ECF6",
          "polar": {
           "angularaxis": {
            "gridcolor": "white",
            "linecolor": "white",
            "ticks": ""
           },
           "bgcolor": "#E5ECF6",
           "radialaxis": {
            "gridcolor": "white",
            "linecolor": "white",
            "ticks": ""
           }
          },
          "scene": {
           "xaxis": {
            "backgroundcolor": "#E5ECF6",
            "gridcolor": "white",
            "gridwidth": 2,
            "linecolor": "white",
            "showbackground": true,
            "ticks": "",
            "zerolinecolor": "white"
           },
           "yaxis": {
            "backgroundcolor": "#E5ECF6",
            "gridcolor": "white",
            "gridwidth": 2,
            "linecolor": "white",
            "showbackground": true,
            "ticks": "",
            "zerolinecolor": "white"
           },
           "zaxis": {
            "backgroundcolor": "#E5ECF6",
            "gridcolor": "white",
            "gridwidth": 2,
            "linecolor": "white",
            "showbackground": true,
            "ticks": "",
            "zerolinecolor": "white"
           }
          },
          "shapedefaults": {
           "line": {
            "color": "#2a3f5f"
           }
          },
          "ternary": {
           "aaxis": {
            "gridcolor": "white",
            "linecolor": "white",
            "ticks": ""
           },
           "baxis": {
            "gridcolor": "white",
            "linecolor": "white",
            "ticks": ""
           },
           "bgcolor": "#E5ECF6",
           "caxis": {
            "gridcolor": "white",
            "linecolor": "white",
            "ticks": ""
           }
          },
          "title": {
           "x": 0.05
          },
          "xaxis": {
           "automargin": true,
           "gridcolor": "white",
           "linecolor": "white",
           "ticks": "",
           "title": {
            "standoff": 15
           },
           "zerolinecolor": "white",
           "zerolinewidth": 2
          },
          "yaxis": {
           "automargin": true,
           "gridcolor": "white",
           "linecolor": "white",
           "ticks": "",
           "title": {
            "standoff": 15
           },
           "zerolinecolor": "white",
           "zerolinewidth": 2
          }
         }
        },
        "xaxis": {
         "anchor": "y",
         "categoryarray": [
          1
         ],
         "categoryorder": "array",
         "domain": [
          0,
          1
         ],
         "title": {
          "text": "values"
         }
        },
        "yaxis": {
         "anchor": "x",
         "domain": [
          0,
          1
         ],
         "title": {
          "text": "female_min"
         }
        }
       }
      },
      "text/html": [
       "<div>                            <div id=\"08fe6713-d03f-4725-a101-cd118174a735\" class=\"plotly-graph-div\" style=\"height:525px; width:100%;\"></div>            <script type=\"text/javascript\">                require([\"plotly\"], function(Plotly) {                    window.PLOTLYENV=window.PLOTLYENV || {};                                    if (document.getElementById(\"08fe6713-d03f-4725-a101-cd118174a735\")) {                    Plotly.newPlot(                        \"08fe6713-d03f-4725-a101-cd118174a735\",                        [{\"hovertemplate\":\"values=%{x}<br>female_min=%{y}<extra></extra>\",\"legendgroup\":\"1\",\"marker\":{\"color\":\"#636efa\"},\"name\":\"1\",\"orientation\":\"h\",\"showlegend\":true,\"x\":[1,1,1,1,1,1,1,1,1,1,1,1,1,1,1,1,1,1,1,1,1,1,1,1,1,1,1,1,1,1,1,1,1,1,1,1,1,1,1,1,1,1,1,1,1,1,1,1,1,1],\"xaxis\":\"x\",\"y\":[\"\\u041f\\u043b\\u0430\\u0437\\u043c\\u0435\\u043d\\u043d\\u0430\\u044f \\u0440\\u0435\\u0437\\u043a\\u0430\",\"\\u0410\\u043a\\u0441\\u0435\\u0441\\u0441\\u0443\\u0430\\u0440\\u044b\",\"\\u041b\\u044e\\u043d\\u0435\\u0442\\u044b\",\"\\u0424\\u043b\\u043e\\u0440\\u0431\\u043e\\u043b\",\"\\u041e\\u0442\\u0431\\u043e\\u0439\\u043d\\u044b\\u0435 \\u043c\\u043e\\u043b\\u043e\\u0442\\u043a\\u0438\",\"\\u042e\\u0432\\u0435\\u043b\\u0438\\u0440\\u043d\\u0430\\u044f \\u043f\\u043e\\u0441\\u0443\\u0434\\u0430 \\u0438 \\u0441\\u0443\\u0432\\u0435\\u043d\\u0438\\u0440\\u044b\",\"\\u0414\\u0435\\u043b\\u044c\\u0442\\u0430\\u0448\\u043b\\u0438\\u0444\\u043c\\u0430\\u0448\\u0438\\u043d\\u044b\",\"\\u0412\\u0438\\u043d\\u0442\\u044b \\u0438 \\u0431\\u043e\\u043b\\u0442\\u044b\",\"\\u041d\\u043e\\u0436\\u0438 \\u0434\\u043b\\u044f \\u0440\\u0443\\u0431\\u0430\\u043d\\u043a\\u043e\\u0432\",\"\\u0418\\u043d\\u0432\\u0435\\u0440\\u0441\\u0438\\u043e\\u043d\\u043d\\u044b\\u0435 \\u0441\\u0442\\u043e\\u043b\\u044b\",\"\\u0410\\u043d\\u0435\\u043c\\u043e\\u043c\\u0435\\u0442\\u0440\\u044b \\u0438 \\u0431\\u0430\\u043b\\u043e\\u043c\\u0435\\u0442\\u0440\\u044b\",\"\\u0422\\u0435\\u043f\\u043b\\u0438\\u0446\\u044b \\u0438 \\u043a\\u0430\\u0440\\u043a\\u0430\\u0441\\u044b\",\"\\u0420\\u0430\\u0434\\u0438\\u043e\\u0430\\u043f\\u043f\\u0430\\u0440\\u0430\\u0442\\u0443\\u0440\\u0430 (inactive)\",\"\\u041a\\u043e\\u0431\\u0443\\u0440\\u044b\",\"\\u041a\\u0440\\u0435\\u043f\\u043b\\u0435\\u043d\\u0438\\u044f\",\"\\u041f\\u0430\\u0440\\u043a\\u0442\\u0440\\u043e\\u043d\\u0438\\u043a\\u0438\",\"\\u0421\\u0438\\u043b\\u043e\\u0432\\u044b\\u0435 \\u0431\\u0430\\u043c\\u043f\\u0435\\u0440\\u044b\",\"\\u041f\\u0440\\u043e\\u043b\\u043e\\u043d\\u0433\\u0438\\u0440\\u0443\\u044e\\u0449\\u0438\\u0435 \\u0438 \\u0432\\u043e\\u0437\\u0431\\u0443\\u0436\\u0434\\u0430\\u044e\\u0449\\u0438\\u0435 \\u0441\\u0440\\u0435\\u0434\\u0441\\u0442\\u0432\\u0430\",\"\\u041f\\u043b\\u0430\\u0442\\u044b \\u0432\\u0432\\u043e\\u0434\\u0430-\\u0432\\u044b\\u0432\\u043e\\u0434\\u0430\",\"\\u0422\\u043e\\u043b\\u0449\\u0438\\u043d\\u043e\\u043c\\u0435\\u0440\\u044b\",\"\\u0428\\u043b\\u0438\\u0444\\u043e\\u0432\\u0430\\u043b\\u044c\\u043d\\u044b\\u0435 \\u0449\\u0435\\u0442\\u043a\\u0438 \\u0438 \\u0432\\u0430\\u043b\\u0438\\u043a\\u0438\",\"\\u041c\\u043e\\u0442\\u043e\\u043f\\u043e\\u043c\\u043f\\u044b\",\"Heavy metal\",\"\\u0428\\u0430\\u0439\\u0431\\u044b \\u0438 \\u0433\\u0430\\u0439\\u043a\\u0438\",\"\\u0420\\u0435\\u0437\\u0430\\u043a\\u0438\",\"\\u0416\\u0430\\u043a\\u0435\\u0442\\u044b\",\"\\u0413\\u0430\\u0437\\u043e\\u0441\\u0432\\u0430\\u0440\\u043e\\u0447\\u043d\\u044b\\u0435 \\u0433\\u043e\\u0440\\u0435\\u043b\\u043a\\u0438\",\"\\u041a\\u0430\\u0440\\u043a\\u0430\\u0441\\u043d\\u044b\\u0435 \\u0431\\u0430\\u0442\\u0443\\u0442\\u044b\",\"\\u041f\\u0440\\u043e\\u0435\\u043a\\u0442\\u043e\\u0440\\u044b\",\"\\u0428\\u043d\\u0435\\u043a\\u0438 \\u0438 \\u0443\\u0434\\u043b\\u0438\\u043d\\u0438\\u0442\\u0435\\u043b\\u0438\",\"\\u041a\\u0430\\u0440\\u0435\\u0442\\u043a\\u0438\",\"\\u0428\\u0430\\u0440\\u044b\",\"\\u0417\\u0430\\u0449\\u0438\\u0442\\u0430 \\u0431\\u0430\\u043c\\u043f\\u0435\\u0440\\u0430\",\"\\u041f\\u043d\\u0435\\u0432\\u043c\\u043e\\u043b\\u043e\\u0431\\u0437\\u0438\\u043a\\u0438 \\u0438 \\u043f\\u0438\\u043b\\u044b\",\"\\u0410\\u043a\\u0441\\u0435\\u0441\\u0441\\u0443\\u0430\\u0440\\u044b \\u0434\\u043b\\u044f \\u043e\\u0440\\u0433\\u0442\\u0435\\u0445\\u043d\\u0438\\u043a\\u0438\",\"\\u041f\\u043d\\u0435\\u0432\\u043c\\u043e\\u0442\\u0440\\u0435\\u0449\\u043e\\u0442\\u043a\\u0438\",\"\\u0412\\u044b\\u0448\\u0438\\u0432\\u0430\\u043b\\u044c\\u043d\\u044b\\u0435 \\u043c\\u0430\\u0448\\u0438\\u043d\\u044b\",\"\\u041d\\u043e\\u0436\\u043d\\u0438\\u0446\\u044b \\u0438 \\u0433\\u0438\\u043b\\u044c\\u043e\\u0442\\u0438\\u043d\\u044b\",\"\\u041e\\u043c\\u044b\\u0432\\u0430\\u0442\\u0435\\u043b\\u044c\",\"\\u0421\\u0430\\u0434\\u043a\\u0438 \\u0438 \\u043f\\u043e\\u0434\\u0441\\u0430\\u0447\\u0435\\u043a\\u0438\",\"\\u041f\\u0440\\u043e\\u0442\\u0438\\u0432\\u043e\\u0433\\u043e\\u043b\\u043e\\u043b\\u0435\\u0434\\u043d\\u044b\\u0435 \\u0440\\u0435\\u0430\\u0433\\u0435\\u043d\\u0442\\u044b\",\"\\u0420\\u0430\\u043a\\u0435\\u0442\\u043a\\u0438\",\"\\u0413\\u0430\\u0437\\u043e\\u0432\\u044b\\u0435 \\u0432\\u0435\\u043d\\u0442\\u0438\\u043b\\u0438\",\"\\u041b\\u043e\\u0431\\u0437\\u0438\\u043a\\u043e\\u0432\\u044b\\u0435 \\u0441\\u0442\\u0430\\u043d\\u043a\\u0438\",\"\\u0426\\u0438\\u0444\\u0440\\u043e-\\u0430\\u043d\\u0430\\u043b\\u043e\\u0433\\u043e\\u0432\\u044b\\u0435 \\u043f\\u0440\\u0435\\u043e\\u0431\\u0440\\u0430\\u0437\\u043e\\u0432\\u0430\\u0442\\u0435\\u043b\\u0438\",\"\\u0421\\u0438\\u0441\\u0442\\u0435\\u043c\\u044b \\u0434\\u043e\\u0441\\u0442\\u0443\\u043f\\u0430 \\u0438 \\u043a\\u043e\\u043c\\u043c\\u0443\\u043d\\u0438\\u043a\\u0430\\u0446\\u0438\\u043e\\u043d\\u043d\\u044b\\u0435 \\u0441\\u0435\\u0440\\u0432\\u0435\\u0440\\u0430\",\"\\u041f\\u0440\\u043e\\u0432\\u043e\\u043b\\u043e\\u043a\\u0430 \\u0438 \\u0430\\u0440\\u043c\\u0430\\u0442\\u0443\\u0440\\u0430\",\"\\u0422\\u043e\\u0440\\u043c\\u043e\\u0437\\u043d\\u044b\\u0435 \\u0436\\u0438\\u0434\\u043a\\u043e\\u0441\\u0442\\u0438\",\"\\u041e\\u0442\\u043e\\u043f\\u0438\\u0442\\u0435\\u043b\\u044c\\u043d\\u044b\\u0435 \\u0441\\u0438\\u0441\\u0442\\u0435\\u043c\\u044b\",\"\\u0410\\u043a\\u0441\\u0435\\u0441\\u0441\\u0443\\u0430\\u0440\\u044b \\u0438 \\u043a\\u043e\\u043c\\u043f\\u043b\\u0435\\u043a\\u0442\\u0443\\u044e\\u0449\\u0438\\u0435\"],\"yaxis\":\"y\",\"type\":\"funnel\"}],                        {\"template\":{\"data\":{\"bar\":[{\"error_x\":{\"color\":\"#2a3f5f\"},\"error_y\":{\"color\":\"#2a3f5f\"},\"marker\":{\"line\":{\"color\":\"#E5ECF6\",\"width\":0.5},\"pattern\":{\"fillmode\":\"overlay\",\"size\":10,\"solidity\":0.2}},\"type\":\"bar\"}],\"barpolar\":[{\"marker\":{\"line\":{\"color\":\"#E5ECF6\",\"width\":0.5},\"pattern\":{\"fillmode\":\"overlay\",\"size\":10,\"solidity\":0.2}},\"type\":\"barpolar\"}],\"carpet\":[{\"aaxis\":{\"endlinecolor\":\"#2a3f5f\",\"gridcolor\":\"white\",\"linecolor\":\"white\",\"minorgridcolor\":\"white\",\"startlinecolor\":\"#2a3f5f\"},\"baxis\":{\"endlinecolor\":\"#2a3f5f\",\"gridcolor\":\"white\",\"linecolor\":\"white\",\"minorgridcolor\":\"white\",\"startlinecolor\":\"#2a3f5f\"},\"type\":\"carpet\"}],\"choropleth\":[{\"colorbar\":{\"outlinewidth\":0,\"ticks\":\"\"},\"type\":\"choropleth\"}],\"contour\":[{\"colorbar\":{\"outlinewidth\":0,\"ticks\":\"\"},\"colorscale\":[[0.0,\"#0d0887\"],[0.1111111111111111,\"#46039f\"],[0.2222222222222222,\"#7201a8\"],[0.3333333333333333,\"#9c179e\"],[0.4444444444444444,\"#bd3786\"],[0.5555555555555556,\"#d8576b\"],[0.6666666666666666,\"#ed7953\"],[0.7777777777777778,\"#fb9f3a\"],[0.8888888888888888,\"#fdca26\"],[1.0,\"#f0f921\"]],\"type\":\"contour\"}],\"contourcarpet\":[{\"colorbar\":{\"outlinewidth\":0,\"ticks\":\"\"},\"type\":\"contourcarpet\"}],\"heatmap\":[{\"colorbar\":{\"outlinewidth\":0,\"ticks\":\"\"},\"colorscale\":[[0.0,\"#0d0887\"],[0.1111111111111111,\"#46039f\"],[0.2222222222222222,\"#7201a8\"],[0.3333333333333333,\"#9c179e\"],[0.4444444444444444,\"#bd3786\"],[0.5555555555555556,\"#d8576b\"],[0.6666666666666666,\"#ed7953\"],[0.7777777777777778,\"#fb9f3a\"],[0.8888888888888888,\"#fdca26\"],[1.0,\"#f0f921\"]],\"type\":\"heatmap\"}],\"heatmapgl\":[{\"colorbar\":{\"outlinewidth\":0,\"ticks\":\"\"},\"colorscale\":[[0.0,\"#0d0887\"],[0.1111111111111111,\"#46039f\"],[0.2222222222222222,\"#7201a8\"],[0.3333333333333333,\"#9c179e\"],[0.4444444444444444,\"#bd3786\"],[0.5555555555555556,\"#d8576b\"],[0.6666666666666666,\"#ed7953\"],[0.7777777777777778,\"#fb9f3a\"],[0.8888888888888888,\"#fdca26\"],[1.0,\"#f0f921\"]],\"type\":\"heatmapgl\"}],\"histogram\":[{\"marker\":{\"pattern\":{\"fillmode\":\"overlay\",\"size\":10,\"solidity\":0.2}},\"type\":\"histogram\"}],\"histogram2d\":[{\"colorbar\":{\"outlinewidth\":0,\"ticks\":\"\"},\"colorscale\":[[0.0,\"#0d0887\"],[0.1111111111111111,\"#46039f\"],[0.2222222222222222,\"#7201a8\"],[0.3333333333333333,\"#9c179e\"],[0.4444444444444444,\"#bd3786\"],[0.5555555555555556,\"#d8576b\"],[0.6666666666666666,\"#ed7953\"],[0.7777777777777778,\"#fb9f3a\"],[0.8888888888888888,\"#fdca26\"],[1.0,\"#f0f921\"]],\"type\":\"histogram2d\"}],\"histogram2dcontour\":[{\"colorbar\":{\"outlinewidth\":0,\"ticks\":\"\"},\"colorscale\":[[0.0,\"#0d0887\"],[0.1111111111111111,\"#46039f\"],[0.2222222222222222,\"#7201a8\"],[0.3333333333333333,\"#9c179e\"],[0.4444444444444444,\"#bd3786\"],[0.5555555555555556,\"#d8576b\"],[0.6666666666666666,\"#ed7953\"],[0.7777777777777778,\"#fb9f3a\"],[0.8888888888888888,\"#fdca26\"],[1.0,\"#f0f921\"]],\"type\":\"histogram2dcontour\"}],\"mesh3d\":[{\"colorbar\":{\"outlinewidth\":0,\"ticks\":\"\"},\"type\":\"mesh3d\"}],\"parcoords\":[{\"line\":{\"colorbar\":{\"outlinewidth\":0,\"ticks\":\"\"}},\"type\":\"parcoords\"}],\"pie\":[{\"automargin\":true,\"type\":\"pie\"}],\"scatter\":[{\"marker\":{\"colorbar\":{\"outlinewidth\":0,\"ticks\":\"\"}},\"type\":\"scatter\"}],\"scatter3d\":[{\"line\":{\"colorbar\":{\"outlinewidth\":0,\"ticks\":\"\"}},\"marker\":{\"colorbar\":{\"outlinewidth\":0,\"ticks\":\"\"}},\"type\":\"scatter3d\"}],\"scattercarpet\":[{\"marker\":{\"colorbar\":{\"outlinewidth\":0,\"ticks\":\"\"}},\"type\":\"scattercarpet\"}],\"scattergeo\":[{\"marker\":{\"colorbar\":{\"outlinewidth\":0,\"ticks\":\"\"}},\"type\":\"scattergeo\"}],\"scattergl\":[{\"marker\":{\"colorbar\":{\"outlinewidth\":0,\"ticks\":\"\"}},\"type\":\"scattergl\"}],\"scattermapbox\":[{\"marker\":{\"colorbar\":{\"outlinewidth\":0,\"ticks\":\"\"}},\"type\":\"scattermapbox\"}],\"scatterpolar\":[{\"marker\":{\"colorbar\":{\"outlinewidth\":0,\"ticks\":\"\"}},\"type\":\"scatterpolar\"}],\"scatterpolargl\":[{\"marker\":{\"colorbar\":{\"outlinewidth\":0,\"ticks\":\"\"}},\"type\":\"scatterpolargl\"}],\"scatterternary\":[{\"marker\":{\"colorbar\":{\"outlinewidth\":0,\"ticks\":\"\"}},\"type\":\"scatterternary\"}],\"surface\":[{\"colorbar\":{\"outlinewidth\":0,\"ticks\":\"\"},\"colorscale\":[[0.0,\"#0d0887\"],[0.1111111111111111,\"#46039f\"],[0.2222222222222222,\"#7201a8\"],[0.3333333333333333,\"#9c179e\"],[0.4444444444444444,\"#bd3786\"],[0.5555555555555556,\"#d8576b\"],[0.6666666666666666,\"#ed7953\"],[0.7777777777777778,\"#fb9f3a\"],[0.8888888888888888,\"#fdca26\"],[1.0,\"#f0f921\"]],\"type\":\"surface\"}],\"table\":[{\"cells\":{\"fill\":{\"color\":\"#EBF0F8\"},\"line\":{\"color\":\"white\"}},\"header\":{\"fill\":{\"color\":\"#C8D4E3\"},\"line\":{\"color\":\"white\"}},\"type\":\"table\"}]},\"layout\":{\"annotationdefaults\":{\"arrowcolor\":\"#2a3f5f\",\"arrowhead\":0,\"arrowwidth\":1},\"autotypenumbers\":\"strict\",\"coloraxis\":{\"colorbar\":{\"outlinewidth\":0,\"ticks\":\"\"}},\"colorscale\":{\"diverging\":[[0,\"#8e0152\"],[0.1,\"#c51b7d\"],[0.2,\"#de77ae\"],[0.3,\"#f1b6da\"],[0.4,\"#fde0ef\"],[0.5,\"#f7f7f7\"],[0.6,\"#e6f5d0\"],[0.7,\"#b8e186\"],[0.8,\"#7fbc41\"],[0.9,\"#4d9221\"],[1,\"#276419\"]],\"sequential\":[[0.0,\"#0d0887\"],[0.1111111111111111,\"#46039f\"],[0.2222222222222222,\"#7201a8\"],[0.3333333333333333,\"#9c179e\"],[0.4444444444444444,\"#bd3786\"],[0.5555555555555556,\"#d8576b\"],[0.6666666666666666,\"#ed7953\"],[0.7777777777777778,\"#fb9f3a\"],[0.8888888888888888,\"#fdca26\"],[1.0,\"#f0f921\"]],\"sequentialminus\":[[0.0,\"#0d0887\"],[0.1111111111111111,\"#46039f\"],[0.2222222222222222,\"#7201a8\"],[0.3333333333333333,\"#9c179e\"],[0.4444444444444444,\"#bd3786\"],[0.5555555555555556,\"#d8576b\"],[0.6666666666666666,\"#ed7953\"],[0.7777777777777778,\"#fb9f3a\"],[0.8888888888888888,\"#fdca26\"],[1.0,\"#f0f921\"]]},\"colorway\":[\"#636efa\",\"#EF553B\",\"#00cc96\",\"#ab63fa\",\"#FFA15A\",\"#19d3f3\",\"#FF6692\",\"#B6E880\",\"#FF97FF\",\"#FECB52\"],\"font\":{\"color\":\"#2a3f5f\"},\"geo\":{\"bgcolor\":\"white\",\"lakecolor\":\"white\",\"landcolor\":\"#E5ECF6\",\"showlakes\":true,\"showland\":true,\"subunitcolor\":\"white\"},\"hoverlabel\":{\"align\":\"left\"},\"hovermode\":\"closest\",\"mapbox\":{\"style\":\"light\"},\"paper_bgcolor\":\"white\",\"plot_bgcolor\":\"#E5ECF6\",\"polar\":{\"angularaxis\":{\"gridcolor\":\"white\",\"linecolor\":\"white\",\"ticks\":\"\"},\"bgcolor\":\"#E5ECF6\",\"radialaxis\":{\"gridcolor\":\"white\",\"linecolor\":\"white\",\"ticks\":\"\"}},\"scene\":{\"xaxis\":{\"backgroundcolor\":\"#E5ECF6\",\"gridcolor\":\"white\",\"gridwidth\":2,\"linecolor\":\"white\",\"showbackground\":true,\"ticks\":\"\",\"zerolinecolor\":\"white\"},\"yaxis\":{\"backgroundcolor\":\"#E5ECF6\",\"gridcolor\":\"white\",\"gridwidth\":2,\"linecolor\":\"white\",\"showbackground\":true,\"ticks\":\"\",\"zerolinecolor\":\"white\"},\"zaxis\":{\"backgroundcolor\":\"#E5ECF6\",\"gridcolor\":\"white\",\"gridwidth\":2,\"linecolor\":\"white\",\"showbackground\":true,\"ticks\":\"\",\"zerolinecolor\":\"white\"}},\"shapedefaults\":{\"line\":{\"color\":\"#2a3f5f\"}},\"ternary\":{\"aaxis\":{\"gridcolor\":\"white\",\"linecolor\":\"white\",\"ticks\":\"\"},\"baxis\":{\"gridcolor\":\"white\",\"linecolor\":\"white\",\"ticks\":\"\"},\"bgcolor\":\"#E5ECF6\",\"caxis\":{\"gridcolor\":\"white\",\"linecolor\":\"white\",\"ticks\":\"\"}},\"title\":{\"x\":0.05},\"xaxis\":{\"automargin\":true,\"gridcolor\":\"white\",\"linecolor\":\"white\",\"ticks\":\"\",\"title\":{\"standoff\":15},\"zerolinecolor\":\"white\",\"zerolinewidth\":2},\"yaxis\":{\"automargin\":true,\"gridcolor\":\"white\",\"linecolor\":\"white\",\"ticks\":\"\",\"title\":{\"standoff\":15},\"zerolinecolor\":\"white\",\"zerolinewidth\":2}}},\"xaxis\":{\"anchor\":\"y\",\"domain\":[0.0,1.0],\"title\":{\"text\":\"values\"},\"categoryorder\":\"array\",\"categoryarray\":[1]},\"yaxis\":{\"anchor\":\"x\",\"domain\":[0.0,1.0],\"title\":{\"text\":\"female_min\"}},\"legend\":{\"title\":{\"text\":\"values\"},\"tracegroupgap\":0},\"margin\":{\"t\":60}},                        {\"responsive\": true}                    ).then(function(){\n",
       "                            \n",
       "var gd = document.getElementById('08fe6713-d03f-4725-a101-cd118174a735');\n",
       "var x = new MutationObserver(function (mutations, observer) {{\n",
       "        var display = window.getComputedStyle(gd).display;\n",
       "        if (!display || display === 'none') {{\n",
       "            console.log([gd, 'removed!']);\n",
       "            Plotly.purge(gd);\n",
       "            observer.disconnect();\n",
       "        }}\n",
       "}});\n",
       "\n",
       "// Listen for the removal of the full notebook cells\n",
       "var notebookContainer = gd.closest('#notebook-container');\n",
       "if (notebookContainer) {{\n",
       "    x.observe(notebookContainer, {childList: true});\n",
       "}}\n",
       "\n",
       "// Listen for the clearing of the current output cell\n",
       "var outputEl = gd.closest('.output');\n",
       "if (outputEl) {{\n",
       "    x.observe(outputEl, {childList: true});\n",
       "}}\n",
       "\n",
       "                        })                };                });            </script>        </div>"
      ]
     },
     "metadata": {},
     "output_type": "display_data"
    }
   ],
   "source": [
    "data = dict(values=df_female_min['female'],female_min=df_female_min['Description'])\n",
    "fig = px.funnel(data, y='female_min',x='values',color='values')\n",
    "fig.show()"
   ]
  },
  {
   "cell_type": "code",
   "execution_count": 84,
   "metadata": {},
   "outputs": [
    {
     "data": {
      "text/html": [
       "<div>\n",
       "<style scoped>\n",
       "    .dataframe tbody tr th:only-of-type {\n",
       "        vertical-align: middle;\n",
       "    }\n",
       "\n",
       "    .dataframe tbody tr th {\n",
       "        vertical-align: top;\n",
       "    }\n",
       "\n",
       "    .dataframe thead th {\n",
       "        text-align: right;\n",
       "    }\n",
       "</style>\n",
       "<table border=\"1\" class=\"dataframe\">\n",
       "  <thead>\n",
       "    <tr style=\"text-align: right;\">\n",
       "      <th></th>\n",
       "      <th>Category</th>\n",
       "      <th>Description</th>\n",
       "      <th>male</th>\n",
       "      <th>female</th>\n",
       "    </tr>\n",
       "  </thead>\n",
       "  <tbody>\n",
       "    <tr>\n",
       "      <th>1690</th>\n",
       "      <td>242705</td>\n",
       "      <td>Вышивальные машины</td>\n",
       "      <td>0</td>\n",
       "      <td>1</td>\n",
       "    </tr>\n",
       "    <tr>\n",
       "      <th>1559</th>\n",
       "      <td>91569</td>\n",
       "      <td>Шары</td>\n",
       "      <td>0</td>\n",
       "      <td>1</td>\n",
       "    </tr>\n",
       "    <tr>\n",
       "      <th>2535</th>\n",
       "      <td>819047</td>\n",
       "      <td>Стимулятор лейкопоэза</td>\n",
       "      <td>0</td>\n",
       "      <td>1</td>\n",
       "    </tr>\n",
       "    <tr>\n",
       "      <th>1295</th>\n",
       "      <td>7811960</td>\n",
       "      <td>Жакеты</td>\n",
       "      <td>0</td>\n",
       "      <td>1</td>\n",
       "    </tr>\n",
       "    <tr>\n",
       "      <th>2178</th>\n",
       "      <td>15314517</td>\n",
       "      <td>OSB (ориентированно-стружечные плиты)</td>\n",
       "      <td>0</td>\n",
       "      <td>1</td>\n",
       "    </tr>\n",
       "    <tr>\n",
       "      <th>1148</th>\n",
       "      <td>91235</td>\n",
       "      <td>Heavy metal</td>\n",
       "      <td>0</td>\n",
       "      <td>1</td>\n",
       "    </tr>\n",
       "    <tr>\n",
       "      <th>891</th>\n",
       "      <td>121005</td>\n",
       "      <td>Пролонгирующие и возбуждающие средства</td>\n",
       "      <td>0</td>\n",
       "      <td>1</td>\n",
       "    </tr>\n",
       "    <tr>\n",
       "      <th>2606</th>\n",
       "      <td>383118</td>\n",
       "      <td>Краны</td>\n",
       "      <td>0</td>\n",
       "      <td>1</td>\n",
       "    </tr>\n",
       "    <tr>\n",
       "      <th>1734</th>\n",
       "      <td>1016151</td>\n",
       "      <td>Ракетки</td>\n",
       "      <td>0</td>\n",
       "      <td>1</td>\n",
       "    </tr>\n",
       "    <tr>\n",
       "      <th>2869</th>\n",
       "      <td>14415302</td>\n",
       "      <td>Лавинное снаряжение</td>\n",
       "      <td>0</td>\n",
       "      <td>1</td>\n",
       "    </tr>\n",
       "    <tr>\n",
       "      <th>2484</th>\n",
       "      <td>14414711</td>\n",
       "      <td>Теплоаккумуляторы</td>\n",
       "      <td>0</td>\n",
       "      <td>1</td>\n",
       "    </tr>\n",
       "    <tr>\n",
       "      <th>2898</th>\n",
       "      <td>995787</td>\n",
       "      <td>Карты и программы GPS-навигации</td>\n",
       "      <td>0</td>\n",
       "      <td>1</td>\n",
       "    </tr>\n",
       "    <tr>\n",
       "      <th>2910</th>\n",
       "      <td>7959727</td>\n",
       "      <td>Септики</td>\n",
       "      <td>0</td>\n",
       "      <td>1</td>\n",
       "    </tr>\n",
       "    <tr>\n",
       "      <th>150</th>\n",
       "      <td>15093449</td>\n",
       "      <td>Дельташлифмашины</td>\n",
       "      <td>0</td>\n",
       "      <td>1</td>\n",
       "    </tr>\n",
       "    <tr>\n",
       "      <th>142</th>\n",
       "      <td>6206932</td>\n",
       "      <td>Ювелирная посуда и сувениры</td>\n",
       "      <td>0</td>\n",
       "      <td>1</td>\n",
       "    </tr>\n",
       "    <tr>\n",
       "      <th>102</th>\n",
       "      <td>7851711</td>\n",
       "      <td>Флорбол</td>\n",
       "      <td>0</td>\n",
       "      <td>1</td>\n",
       "    </tr>\n",
       "    <tr>\n",
       "      <th>1655</th>\n",
       "      <td>15695083</td>\n",
       "      <td>Пневмолобзики и пилы</td>\n",
       "      <td>0</td>\n",
       "      <td>1</td>\n",
       "    </tr>\n",
       "    <tr>\n",
       "      <th>2991</th>\n",
       "      <td>15189893</td>\n",
       "      <td>Тепловые насосы</td>\n",
       "      <td>0</td>\n",
       "      <td>2</td>\n",
       "    </tr>\n",
       "    <tr>\n",
       "      <th>1788</th>\n",
       "      <td>989025</td>\n",
       "      <td>Велокресла</td>\n",
       "      <td>0</td>\n",
       "      <td>2</td>\n",
       "    </tr>\n",
       "    <tr>\n",
       "      <th>1149</th>\n",
       "      <td>90948</td>\n",
       "      <td>Толковые словари (inactive)</td>\n",
       "      <td>0</td>\n",
       "      <td>2</td>\n",
       "    </tr>\n",
       "    <tr>\n",
       "      <th>909</th>\n",
       "      <td>15760831</td>\n",
       "      <td>Коллекторные шкафы</td>\n",
       "      <td>0</td>\n",
       "      <td>2</td>\n",
       "    </tr>\n",
       "    <tr>\n",
       "      <th>2826</th>\n",
       "      <td>14926493</td>\n",
       "      <td>Принадлежности для токарных станков</td>\n",
       "      <td>0</td>\n",
       "      <td>2</td>\n",
       "    </tr>\n",
       "    <tr>\n",
       "      <th>853</th>\n",
       "      <td>14421210</td>\n",
       "      <td>Таблички</td>\n",
       "      <td>0</td>\n",
       "      <td>2</td>\n",
       "    </tr>\n",
       "    <tr>\n",
       "      <th>787</th>\n",
       "      <td>13954518</td>\n",
       "      <td>Рольставни</td>\n",
       "      <td>0</td>\n",
       "      <td>2</td>\n",
       "    </tr>\n",
       "    <tr>\n",
       "      <th>1372</th>\n",
       "      <td>5090309</td>\n",
       "      <td>Бытовой техники</td>\n",
       "      <td>0</td>\n",
       "      <td>2</td>\n",
       "    </tr>\n",
       "    <tr>\n",
       "      <th>2442</th>\n",
       "      <td>13096190</td>\n",
       "      <td>Крепления</td>\n",
       "      <td>0</td>\n",
       "      <td>2</td>\n",
       "    </tr>\n",
       "    <tr>\n",
       "      <th>2532</th>\n",
       "      <td>16074656</td>\n",
       "      <td>Аксессуары и средства для обеспечения питания</td>\n",
       "      <td>0</td>\n",
       "      <td>3</td>\n",
       "    </tr>\n",
       "    <tr>\n",
       "      <th>3052</th>\n",
       "      <td>14415083</td>\n",
       "      <td>Скальные туфли</td>\n",
       "      <td>0</td>\n",
       "      <td>3</td>\n",
       "    </tr>\n",
       "    <tr>\n",
       "      <th>890</th>\n",
       "      <td>121002</td>\n",
       "      <td>Товары для БДСМ</td>\n",
       "      <td>0</td>\n",
       "      <td>3</td>\n",
       "    </tr>\n",
       "    <tr>\n",
       "      <th>2183</th>\n",
       "      <td>12251841</td>\n",
       "      <td>Аппараты для сварки пластика</td>\n",
       "      <td>0</td>\n",
       "      <td>3</td>\n",
       "    </tr>\n",
       "    <tr>\n",
       "      <th>2129</th>\n",
       "      <td>91616</td>\n",
       "      <td>Душевые кабины и уголки</td>\n",
       "      <td>0</td>\n",
       "      <td>4</td>\n",
       "    </tr>\n",
       "    <tr>\n",
       "      <th>1</th>\n",
       "      <td>16065434</td>\n",
       "      <td>Катетеры урологические</td>\n",
       "      <td>0</td>\n",
       "      <td>4</td>\n",
       "    </tr>\n",
       "    <tr>\n",
       "      <th>1661</th>\n",
       "      <td>13775201</td>\n",
       "      <td>Флюгеры</td>\n",
       "      <td>0</td>\n",
       "      <td>5</td>\n",
       "    </tr>\n",
       "    <tr>\n",
       "      <th>2595</th>\n",
       "      <td>12342120</td>\n",
       "      <td>Осциллографы</td>\n",
       "      <td>0</td>\n",
       "      <td>5</td>\n",
       "    </tr>\n",
       "    <tr>\n",
       "      <th>2952</th>\n",
       "      <td>7746671</td>\n",
       "      <td>Виброплатформы</td>\n",
       "      <td>0</td>\n",
       "      <td>5</td>\n",
       "    </tr>\n",
       "    <tr>\n",
       "      <th>799</th>\n",
       "      <td>418703</td>\n",
       "      <td>Компрессоры и баллоны</td>\n",
       "      <td>0</td>\n",
       "      <td>6</td>\n",
       "    </tr>\n",
       "    <tr>\n",
       "      <th>178</th>\n",
       "      <td>15167965</td>\n",
       "      <td>Аксессуары</td>\n",
       "      <td>0</td>\n",
       "      <td>6</td>\n",
       "    </tr>\n",
       "    <tr>\n",
       "      <th>700</th>\n",
       "      <td>7815028</td>\n",
       "      <td>Сапоги, полусапоги</td>\n",
       "      <td>0</td>\n",
       "      <td>7</td>\n",
       "    </tr>\n",
       "    <tr>\n",
       "      <th>2537</th>\n",
       "      <td>819084</td>\n",
       "      <td>Плазмозамещающие средства</td>\n",
       "      <td>0</td>\n",
       "      <td>8</td>\n",
       "    </tr>\n",
       "    <tr>\n",
       "      <th>2153</th>\n",
       "      <td>14806603</td>\n",
       "      <td>Ринги</td>\n",
       "      <td>0</td>\n",
       "      <td>12</td>\n",
       "    </tr>\n",
       "    <tr>\n",
       "      <th>1648</th>\n",
       "      <td>153596</td>\n",
       "      <td>Cisco Systems</td>\n",
       "      <td>0</td>\n",
       "      <td>12</td>\n",
       "    </tr>\n",
       "  </tbody>\n",
       "</table>\n",
       "</div>"
      ],
      "text/plain": [
       "      Category                                    Description  male  female\n",
       "1690    242705                             Вышивальные машины     0       1\n",
       "1559     91569                                           Шары     0       1\n",
       "2535    819047                          Стимулятор лейкопоэза     0       1\n",
       "1295   7811960                                         Жакеты     0       1\n",
       "2178  15314517          OSB (ориентированно-стружечные плиты)     0       1\n",
       "1148     91235                                    Heavy metal     0       1\n",
       "891     121005         Пролонгирующие и возбуждающие средства     0       1\n",
       "2606    383118                                          Краны     0       1\n",
       "1734   1016151                                        Ракетки     0       1\n",
       "2869  14415302                            Лавинное снаряжение     0       1\n",
       "2484  14414711                              Теплоаккумуляторы     0       1\n",
       "2898    995787                Карты и программы GPS-навигации     0       1\n",
       "2910   7959727                                        Септики     0       1\n",
       "150   15093449                               Дельташлифмашины     0       1\n",
       "142    6206932                    Ювелирная посуда и сувениры     0       1\n",
       "102    7851711                                        Флорбол     0       1\n",
       "1655  15695083                           Пневмолобзики и пилы     0       1\n",
       "2991  15189893                                Тепловые насосы     0       2\n",
       "1788    989025                                     Велокресла     0       2\n",
       "1149     90948                    Толковые словари (inactive)     0       2\n",
       "909   15760831                             Коллекторные шкафы     0       2\n",
       "2826  14926493            Принадлежности для токарных станков     0       2\n",
       "853   14421210                                       Таблички     0       2\n",
       "787   13954518                                     Рольставни     0       2\n",
       "1372   5090309                                Бытовой техники     0       2\n",
       "2442  13096190                                      Крепления     0       2\n",
       "2532  16074656  Аксессуары и средства для обеспечения питания     0       3\n",
       "3052  14415083                                 Скальные туфли     0       3\n",
       "890     121002                                Товары для БДСМ     0       3\n",
       "2183  12251841                   Аппараты для сварки пластика     0       3\n",
       "2129     91616                        Душевые кабины и уголки     0       4\n",
       "1     16065434                         Катетеры урологические     0       4\n",
       "1661  13775201                                        Флюгеры     0       5\n",
       "2595  12342120                                   Осциллографы     0       5\n",
       "2952   7746671                                 Виброплатформы     0       5\n",
       "799     418703                          Компрессоры и баллоны     0       6\n",
       "178   15167965                                     Аксессуары     0       6\n",
       "700    7815028                             Сапоги, полусапоги     0       7\n",
       "2537    819084                      Плазмозамещающие средства     0       8\n",
       "2153  14806603                                          Ринги     0      12\n",
       "1648    153596                                  Cisco Systems     0      12"
      ]
     },
     "execution_count": 84,
     "metadata": {},
     "output_type": "execute_result"
    }
   ],
   "source": [
    "df[(df['male'] == 0)].sort_values(by=\"female\")"
   ]
  },
  {
   "cell_type": "code",
   "execution_count": 85,
   "metadata": {},
   "outputs": [
    {
     "data": {
      "text/html": [
       "<div>\n",
       "<style scoped>\n",
       "    .dataframe tbody tr th:only-of-type {\n",
       "        vertical-align: middle;\n",
       "    }\n",
       "\n",
       "    .dataframe tbody tr th {\n",
       "        vertical-align: top;\n",
       "    }\n",
       "\n",
       "    .dataframe thead th {\n",
       "        text-align: right;\n",
       "    }\n",
       "</style>\n",
       "<table border=\"1\" class=\"dataframe\">\n",
       "  <thead>\n",
       "    <tr style=\"text-align: right;\">\n",
       "      <th></th>\n",
       "      <th>Category</th>\n",
       "      <th>Description</th>\n",
       "      <th>male</th>\n",
       "      <th>female</th>\n",
       "    </tr>\n",
       "  </thead>\n",
       "  <tbody>\n",
       "    <tr>\n",
       "      <th>3304</th>\n",
       "      <td>15926963</td>\n",
       "      <td>Козлы для распиловки</td>\n",
       "      <td>1</td>\n",
       "      <td>0</td>\n",
       "    </tr>\n",
       "    <tr>\n",
       "      <th>1790</th>\n",
       "      <td>15699466</td>\n",
       "      <td>Растворосмесители</td>\n",
       "      <td>1</td>\n",
       "      <td>0</td>\n",
       "    </tr>\n",
       "    <tr>\n",
       "      <th>1772</th>\n",
       "      <td>15695121</td>\n",
       "      <td>Пневмозаклепочники</td>\n",
       "      <td>1</td>\n",
       "      <td>0</td>\n",
       "    </tr>\n",
       "    <tr>\n",
       "      <th>1754</th>\n",
       "      <td>15708223</td>\n",
       "      <td>Ледорубы и скребки</td>\n",
       "      <td>1</td>\n",
       "      <td>0</td>\n",
       "    </tr>\n",
       "    <tr>\n",
       "      <th>2386</th>\n",
       "      <td>12341976</td>\n",
       "      <td>Теодолиты и тахеометры</td>\n",
       "      <td>1</td>\n",
       "      <td>0</td>\n",
       "    </tr>\n",
       "    <tr>\n",
       "      <th>1439</th>\n",
       "      <td>947455</td>\n",
       "      <td>Страхование</td>\n",
       "      <td>1</td>\n",
       "      <td>0</td>\n",
       "    </tr>\n",
       "    <tr>\n",
       "      <th>2481</th>\n",
       "      <td>15644590</td>\n",
       "      <td>Ваттметры</td>\n",
       "      <td>1</td>\n",
       "      <td>0</td>\n",
       "    </tr>\n",
       "    <tr>\n",
       "      <th>1379</th>\n",
       "      <td>13885651</td>\n",
       "      <td>Комплектующие к ксенону</td>\n",
       "      <td>1</td>\n",
       "      <td>0</td>\n",
       "    </tr>\n",
       "    <tr>\n",
       "      <th>2504</th>\n",
       "      <td>13208125</td>\n",
       "      <td>Накладки на кузов и стекла</td>\n",
       "      <td>1</td>\n",
       "      <td>0</td>\n",
       "    </tr>\n",
       "    <tr>\n",
       "      <th>1298</th>\n",
       "      <td>819087</td>\n",
       "      <td>Рентгеноконтрастные средства</td>\n",
       "      <td>1</td>\n",
       "      <td>0</td>\n",
       "    </tr>\n",
       "    <tr>\n",
       "      <th>1224</th>\n",
       "      <td>90875</td>\n",
       "      <td>Игры (inactive)</td>\n",
       "      <td>1</td>\n",
       "      <td>0</td>\n",
       "    </tr>\n",
       "    <tr>\n",
       "      <th>2796</th>\n",
       "      <td>91540</td>\n",
       "      <td>Горные лыжи</td>\n",
       "      <td>1</td>\n",
       "      <td>0</td>\n",
       "    </tr>\n",
       "    <tr>\n",
       "      <th>523</th>\n",
       "      <td>287230</td>\n",
       "      <td>Палки</td>\n",
       "      <td>1</td>\n",
       "      <td>0</td>\n",
       "    </tr>\n",
       "    <tr>\n",
       "      <th>506</th>\n",
       "      <td>15931305</td>\n",
       "      <td>Решетки для встраиваемых конвекторов</td>\n",
       "      <td>1</td>\n",
       "      <td>0</td>\n",
       "    </tr>\n",
       "    <tr>\n",
       "      <th>500</th>\n",
       "      <td>16018311</td>\n",
       "      <td>Консоли</td>\n",
       "      <td>1</td>\n",
       "      <td>0</td>\n",
       "    </tr>\n",
       "    <tr>\n",
       "      <th>491</th>\n",
       "      <td>14890337</td>\n",
       "      <td>Поплавковые выключатели</td>\n",
       "      <td>1</td>\n",
       "      <td>0</td>\n",
       "    </tr>\n",
       "    <tr>\n",
       "      <th>2978</th>\n",
       "      <td>819198</td>\n",
       "      <td>Для борьбы с ВИЧ-инфекцией</td>\n",
       "      <td>1</td>\n",
       "      <td>0</td>\n",
       "    </tr>\n",
       "    <tr>\n",
       "      <th>86</th>\n",
       "      <td>15190276</td>\n",
       "      <td>Светофильтры и стекла</td>\n",
       "      <td>1</td>\n",
       "      <td>0</td>\n",
       "    </tr>\n",
       "    <tr>\n",
       "      <th>842</th>\n",
       "      <td>90457</td>\n",
       "      <td>Механические блокираторы</td>\n",
       "      <td>1</td>\n",
       "      <td>0</td>\n",
       "    </tr>\n",
       "    <tr>\n",
       "      <th>2074</th>\n",
       "      <td>14415405</td>\n",
       "      <td>Подсумки</td>\n",
       "      <td>1</td>\n",
       "      <td>0</td>\n",
       "    </tr>\n",
       "    <tr>\n",
       "      <th>2870</th>\n",
       "      <td>14910427</td>\n",
       "      <td>Фрезерные станки</td>\n",
       "      <td>2</td>\n",
       "      <td>0</td>\n",
       "    </tr>\n",
       "    <tr>\n",
       "      <th>2179</th>\n",
       "      <td>16046825</td>\n",
       "      <td>Видеоскопы</td>\n",
       "      <td>2</td>\n",
       "      <td>0</td>\n",
       "    </tr>\n",
       "    <tr>\n",
       "      <th>1283</th>\n",
       "      <td>15273601</td>\n",
       "      <td>Трубная изоляция</td>\n",
       "      <td>2</td>\n",
       "      <td>0</td>\n",
       "    </tr>\n",
       "    <tr>\n",
       "      <th>514</th>\n",
       "      <td>14809123</td>\n",
       "      <td>Преобразователи частоты</td>\n",
       "      <td>2</td>\n",
       "      <td>0</td>\n",
       "    </tr>\n",
       "    <tr>\n",
       "      <th>103</th>\n",
       "      <td>16018301</td>\n",
       "      <td>Направляющие каналы</td>\n",
       "      <td>2</td>\n",
       "      <td>0</td>\n",
       "    </tr>\n",
       "    <tr>\n",
       "      <th>1796</th>\n",
       "      <td>14910755</td>\n",
       "      <td>Гибочные станки</td>\n",
       "      <td>2</td>\n",
       "      <td>0</td>\n",
       "    </tr>\n",
       "    <tr>\n",
       "      <th>1797</th>\n",
       "      <td>14910819</td>\n",
       "      <td>Стружкоотсосы</td>\n",
       "      <td>2</td>\n",
       "      <td>0</td>\n",
       "    </tr>\n",
       "    <tr>\n",
       "      <th>2970</th>\n",
       "      <td>14454266</td>\n",
       "      <td>Вентиляционные установки</td>\n",
       "      <td>3</td>\n",
       "      <td>0</td>\n",
       "    </tr>\n",
       "    <tr>\n",
       "      <th>49</th>\n",
       "      <td>15337351</td>\n",
       "      <td>Принадлежности для плиткорезов</td>\n",
       "      <td>3</td>\n",
       "      <td>0</td>\n",
       "    </tr>\n",
       "    <tr>\n",
       "      <th>827</th>\n",
       "      <td>14910519</td>\n",
       "      <td>Долбежные станки</td>\n",
       "      <td>3</td>\n",
       "      <td>0</td>\n",
       "    </tr>\n",
       "    <tr>\n",
       "      <th>1955</th>\n",
       "      <td>12423968</td>\n",
       "      <td>Брызговики</td>\n",
       "      <td>4</td>\n",
       "      <td>0</td>\n",
       "    </tr>\n",
       "    <tr>\n",
       "      <th>1324</th>\n",
       "      <td>15293555</td>\n",
       "      <td>Прутки для сварки металла</td>\n",
       "      <td>4</td>\n",
       "      <td>0</td>\n",
       "    </tr>\n",
       "    <tr>\n",
       "      <th>2803</th>\n",
       "      <td>16018313</td>\n",
       "      <td>Газовые резаки</td>\n",
       "      <td>4</td>\n",
       "      <td>0</td>\n",
       "    </tr>\n",
       "    <tr>\n",
       "      <th>122</th>\n",
       "      <td>15148816</td>\n",
       "      <td>Монтажные пилы</td>\n",
       "      <td>4</td>\n",
       "      <td>0</td>\n",
       "    </tr>\n",
       "    <tr>\n",
       "      <th>115</th>\n",
       "      <td>16018292</td>\n",
       "      <td>Цанги</td>\n",
       "      <td>4</td>\n",
       "      <td>0</td>\n",
       "    </tr>\n",
       "    <tr>\n",
       "      <th>1382</th>\n",
       "      <td>191215</td>\n",
       "      <td>Мобильные стенды</td>\n",
       "      <td>5</td>\n",
       "      <td>0</td>\n",
       "    </tr>\n",
       "    <tr>\n",
       "      <th>2151</th>\n",
       "      <td>14727325</td>\n",
       "      <td>Травосборники</td>\n",
       "      <td>6</td>\n",
       "      <td>0</td>\n",
       "    </tr>\n",
       "    <tr>\n",
       "      <th>2174</th>\n",
       "      <td>91703</td>\n",
       "      <td>Трансформаторы</td>\n",
       "      <td>7</td>\n",
       "      <td>0</td>\n",
       "    </tr>\n",
       "    <tr>\n",
       "      <th>3037</th>\n",
       "      <td>15273614</td>\n",
       "      <td>Вспененный полиэтилен</td>\n",
       "      <td>7</td>\n",
       "      <td>0</td>\n",
       "    </tr>\n",
       "    <tr>\n",
       "      <th>1238</th>\n",
       "      <td>91644</td>\n",
       "      <td>Анкерные болты</td>\n",
       "      <td>7</td>\n",
       "      <td>0</td>\n",
       "    </tr>\n",
       "    <tr>\n",
       "      <th>1724</th>\n",
       "      <td>15336349</td>\n",
       "      <td>Стеклорезы</td>\n",
       "      <td>7</td>\n",
       "      <td>0</td>\n",
       "    </tr>\n",
       "    <tr>\n",
       "      <th>2573</th>\n",
       "      <td>11925048</td>\n",
       "      <td>Трубогибы</td>\n",
       "      <td>8</td>\n",
       "      <td>0</td>\n",
       "    </tr>\n",
       "  </tbody>\n",
       "</table>\n",
       "</div>"
      ],
      "text/plain": [
       "      Category                           Description  male  female\n",
       "3304  15926963                  Козлы для распиловки     1       0\n",
       "1790  15699466                     Растворосмесители     1       0\n",
       "1772  15695121                    Пневмозаклепочники     1       0\n",
       "1754  15708223                    Ледорубы и скребки     1       0\n",
       "2386  12341976                Теодолиты и тахеометры     1       0\n",
       "1439    947455                           Страхование     1       0\n",
       "2481  15644590                             Ваттметры     1       0\n",
       "1379  13885651               Комплектующие к ксенону     1       0\n",
       "2504  13208125            Накладки на кузов и стекла     1       0\n",
       "1298    819087          Рентгеноконтрастные средства     1       0\n",
       "1224     90875                       Игры (inactive)     1       0\n",
       "2796     91540                           Горные лыжи     1       0\n",
       "523     287230                                 Палки     1       0\n",
       "506   15931305  Решетки для встраиваемых конвекторов     1       0\n",
       "500   16018311                               Консоли     1       0\n",
       "491   14890337               Поплавковые выключатели     1       0\n",
       "2978    819198            Для борьбы с ВИЧ-инфекцией     1       0\n",
       "86    15190276                 Светофильтры и стекла     1       0\n",
       "842      90457              Механические блокираторы     1       0\n",
       "2074  14415405                              Подсумки     1       0\n",
       "2870  14910427                      Фрезерные станки     2       0\n",
       "2179  16046825                            Видеоскопы     2       0\n",
       "1283  15273601                      Трубная изоляция     2       0\n",
       "514   14809123               Преобразователи частоты     2       0\n",
       "103   16018301                   Направляющие каналы     2       0\n",
       "1796  14910755                       Гибочные станки     2       0\n",
       "1797  14910819                        Стружкоотсосы      2       0\n",
       "2970  14454266              Вентиляционные установки     3       0\n",
       "49    15337351        Принадлежности для плиткорезов     3       0\n",
       "827   14910519                      Долбежные станки     3       0\n",
       "1955  12423968                            Брызговики     4       0\n",
       "1324  15293555             Прутки для сварки металла     4       0\n",
       "2803  16018313                        Газовые резаки     4       0\n",
       "122   15148816                        Монтажные пилы     4       0\n",
       "115   16018292                                 Цанги     4       0\n",
       "1382    191215                      Мобильные стенды     5       0\n",
       "2151  14727325                         Травосборники     6       0\n",
       "2174     91703                        Трансформаторы     7       0\n",
       "3037  15273614                 Вспененный полиэтилен     7       0\n",
       "1238     91644                        Анкерные болты     7       0\n",
       "1724  15336349                            Стеклорезы     7       0\n",
       "2573  11925048                             Трубогибы     8       0"
      ]
     },
     "execution_count": 85,
     "metadata": {},
     "output_type": "execute_result"
    }
   ],
   "source": [
    "df[(df['female'] == 0)].sort_values(by=\"male\")"
   ]
  },
  {
   "cell_type": "code",
   "execution_count": 98,
   "metadata": {},
   "outputs": [],
   "source": [
    "df['duration']=np.abs(df['male']-df['female'])"
   ]
  },
  {
   "cell_type": "code",
   "execution_count": 102,
   "metadata": {},
   "outputs": [
    {
     "data": {
      "text/html": [
       "<div>\n",
       "<style scoped>\n",
       "    .dataframe tbody tr th:only-of-type {\n",
       "        vertical-align: middle;\n",
       "    }\n",
       "\n",
       "    .dataframe tbody tr th {\n",
       "        vertical-align: top;\n",
       "    }\n",
       "\n",
       "    .dataframe thead th {\n",
       "        text-align: right;\n",
       "    }\n",
       "</style>\n",
       "<table border=\"1\" class=\"dataframe\">\n",
       "  <thead>\n",
       "    <tr style=\"text-align: right;\">\n",
       "      <th></th>\n",
       "      <th>Category</th>\n",
       "      <th>Description</th>\n",
       "      <th>male</th>\n",
       "      <th>female</th>\n",
       "      <th>duration</th>\n",
       "    </tr>\n",
       "  </thead>\n",
       "  <tbody>\n",
       "    <tr>\n",
       "      <th>6</th>\n",
       "      <td>15259392</td>\n",
       "      <td>Плазменная резка</td>\n",
       "      <td>1</td>\n",
       "      <td>1</td>\n",
       "      <td>0</td>\n",
       "    </tr>\n",
       "    <tr>\n",
       "      <th>18</th>\n",
       "      <td>14295737</td>\n",
       "      <td>Аксессуары</td>\n",
       "      <td>1</td>\n",
       "      <td>1</td>\n",
       "      <td>0</td>\n",
       "    </tr>\n",
       "    <tr>\n",
       "      <th>32</th>\n",
       "      <td>14912198</td>\n",
       "      <td>Люнеты</td>\n",
       "      <td>1</td>\n",
       "      <td>1</td>\n",
       "      <td>0</td>\n",
       "    </tr>\n",
       "    <tr>\n",
       "      <th>74</th>\n",
       "      <td>13020862</td>\n",
       "      <td>Строительные блоки</td>\n",
       "      <td>2</td>\n",
       "      <td>2</td>\n",
       "      <td>0</td>\n",
       "    </tr>\n",
       "    <tr>\n",
       "      <th>134</th>\n",
       "      <td>418704</td>\n",
       "      <td>Аксессуары</td>\n",
       "      <td>11</td>\n",
       "      <td>11</td>\n",
       "      <td>0</td>\n",
       "    </tr>\n",
       "    <tr>\n",
       "      <th>...</th>\n",
       "      <td>...</td>\n",
       "      <td>...</td>\n",
       "      <td>...</td>\n",
       "      <td>...</td>\n",
       "      <td>...</td>\n",
       "    </tr>\n",
       "    <tr>\n",
       "      <th>3040</th>\n",
       "      <td>90433</td>\n",
       "      <td>Шпатлевки</td>\n",
       "      <td>2</td>\n",
       "      <td>2</td>\n",
       "      <td>0</td>\n",
       "    </tr>\n",
       "    <tr>\n",
       "      <th>3069</th>\n",
       "      <td>14910462</td>\n",
       "      <td>Ленточнопильные станки</td>\n",
       "      <td>1</td>\n",
       "      <td>1</td>\n",
       "      <td>0</td>\n",
       "    </tr>\n",
       "    <tr>\n",
       "      <th>3222</th>\n",
       "      <td>15587127</td>\n",
       "      <td>Часы напольные</td>\n",
       "      <td>2</td>\n",
       "      <td>2</td>\n",
       "      <td>0</td>\n",
       "    </tr>\n",
       "    <tr>\n",
       "      <th>3257</th>\n",
       "      <td>5149657</td>\n",
       "      <td>Мебель для бильярдной</td>\n",
       "      <td>8</td>\n",
       "      <td>8</td>\n",
       "      <td>0</td>\n",
       "    </tr>\n",
       "    <tr>\n",
       "      <th>3297</th>\n",
       "      <td>12251838</td>\n",
       "      <td>Аппараты для контактной сварки</td>\n",
       "      <td>2</td>\n",
       "      <td>2</td>\n",
       "      <td>0</td>\n",
       "    </tr>\n",
       "  </tbody>\n",
       "</table>\n",
       "<p>63 rows × 5 columns</p>\n",
       "</div>"
      ],
      "text/plain": [
       "      Category                     Description  male  female  duration\n",
       "6     15259392                Плазменная резка     1       1         0\n",
       "18    14295737                      Аксессуары     1       1         0\n",
       "32    14912198                          Люнеты     1       1         0\n",
       "74    13020862              Строительные блоки     2       2         0\n",
       "134     418704                      Аксессуары    11      11         0\n",
       "...        ...                             ...   ...     ...       ...\n",
       "3040     90433                       Шпатлевки     2       2         0\n",
       "3069  14910462          Ленточнопильные станки     1       1         0\n",
       "3222  15587127                  Часы напольные     2       2         0\n",
       "3257   5149657           Мебель для бильярдной     8       8         0\n",
       "3297  12251838  Аппараты для контактной сварки     2       2         0\n",
       "\n",
       "[63 rows x 5 columns]"
      ]
     },
     "execution_count": 102,
     "metadata": {},
     "output_type": "execute_result"
    }
   ],
   "source": [
    "descriptin_useless=df[(df['duration'] == 0)]\n",
    "descriptin_useless"
   ]
  },
  {
   "cell_type": "markdown",
   "metadata": {},
   "source": [
    "# Попробуем найти бесполезные значения- отличия не более чем на 25й процентиль"
   ]
  },
  {
   "cell_type": "code",
   "execution_count": 107,
   "metadata": {},
   "outputs": [
    {
     "name": "stdout",
     "output_type": "stream",
     "text": [
      "<class 'pandas.core.frame.DataFrame'>\n",
      "Int64Index: 50 entries, 2 to 1295\n",
      "Data columns (total 5 columns):\n",
      " #   Column       Non-Null Count  Dtype \n",
      "---  ------       --------------  ----- \n",
      " 0   Category     50 non-null     int64 \n",
      " 1   Description  50 non-null     object\n",
      " 2   male         50 non-null     int64 \n",
      " 3   female       50 non-null     int64 \n",
      " 4   duration     50 non-null     int64 \n",
      "dtypes: int64(4), object(1)\n",
      "memory usage: 2.3+ KB\n"
     ]
    }
   ],
   "source": [
    "df_average_categories=df[df['duration'] != 0].nsmallest(n=50, columns=['duration'])\n",
    "df_average_categories.info()"
   ]
  },
  {
   "cell_type": "code",
   "execution_count": 105,
   "metadata": {},
   "outputs": [
    {
     "data": {
      "application/vnd.plotly.v1+json": {
       "config": {
        "plotlyServerURL": "https://plot.ly"
       },
       "data": [
        {
         "hovertemplate": "values=%{x}<br>description=%{y}<extra></extra>",
         "legendgroup": "1",
         "marker": {
          "color": "#636efa"
         },
         "name": "1",
         "orientation": "h",
         "showlegend": true,
         "type": "funnel",
         "x": [
          1,
          1,
          1,
          1,
          1,
          1,
          1,
          1,
          1,
          1,
          1,
          1,
          1,
          1,
          1,
          1,
          1,
          1,
          1,
          1,
          1,
          1,
          1,
          1,
          1,
          1,
          1,
          1,
          1,
          1,
          1,
          1,
          1,
          1,
          1,
          1,
          1,
          1,
          1,
          1,
          1,
          1,
          1,
          1,
          1,
          1,
          1,
          1,
          1,
          1
         ],
         "xaxis": "x",
         "y": [
          "Винные шкафы",
          "Pop",
          "Аксессуары",
          "Горчичники",
          "Информационные табло",
          "Трансмиссия",
          "Светофильтры и стекла",
          "Флорбол",
          "Декор",
          "Аксессуары для столов",
          "Ювелирная посуда и сувениры",
          "Рекламные конструкции и материалы",
          "Дельташлифмашины",
          "Аудиокниги (inactive)",
          "Фиксаторы",
          "Hard rock",
          "Налогообложение (inactive)",
          "Этика, эстетика (inactive)",
          "Сеялки для семян",
          "Органайзеры и карманы в кроватку",
          "Поплавковые выключатели",
          "Защита фар",
          "Консоли",
          "Решетки для встраиваемых конвекторов",
          "Палки",
          "Юридическая литература (inactive)",
          "Межкомнатные двери",
          "Уголки, кронштейны, держатели ",
          "Аксессуары",
          "Беговые дорожки",
          "3D-ручки",
          "Унты",
          "Кайтсерфинг",
          "Эллиптические тренажеры",
          "Лак и клей",
          "СОЖ",
          "Механические блокираторы",
          "Пролонгирующие и возбуждающие средства",
          "Ракетки",
          "Руководства (inactive)",
          "Отопительные котлы",
          "Heavy metal",
          "Поломойные и подметальные машины",
          "Рюмки и стопки",
          "Пистолеты, насадки, дождеватели",
          "Игры (inactive)",
          "Полезные советы (inactive)",
          "Линзы для очков",
          "Электромагнитные клапаны",
          "Жакеты"
         ],
         "yaxis": "y"
        }
       ],
       "layout": {
        "legend": {
         "title": {
          "text": "values"
         },
         "tracegroupgap": 0
        },
        "margin": {
         "t": 60
        },
        "template": {
         "data": {
          "bar": [
           {
            "error_x": {
             "color": "#2a3f5f"
            },
            "error_y": {
             "color": "#2a3f5f"
            },
            "marker": {
             "line": {
              "color": "#E5ECF6",
              "width": 0.5
             },
             "pattern": {
              "fillmode": "overlay",
              "size": 10,
              "solidity": 0.2
             }
            },
            "type": "bar"
           }
          ],
          "barpolar": [
           {
            "marker": {
             "line": {
              "color": "#E5ECF6",
              "width": 0.5
             },
             "pattern": {
              "fillmode": "overlay",
              "size": 10,
              "solidity": 0.2
             }
            },
            "type": "barpolar"
           }
          ],
          "carpet": [
           {
            "aaxis": {
             "endlinecolor": "#2a3f5f",
             "gridcolor": "white",
             "linecolor": "white",
             "minorgridcolor": "white",
             "startlinecolor": "#2a3f5f"
            },
            "baxis": {
             "endlinecolor": "#2a3f5f",
             "gridcolor": "white",
             "linecolor": "white",
             "minorgridcolor": "white",
             "startlinecolor": "#2a3f5f"
            },
            "type": "carpet"
           }
          ],
          "choropleth": [
           {
            "colorbar": {
             "outlinewidth": 0,
             "ticks": ""
            },
            "type": "choropleth"
           }
          ],
          "contour": [
           {
            "colorbar": {
             "outlinewidth": 0,
             "ticks": ""
            },
            "colorscale": [
             [
              0,
              "#0d0887"
             ],
             [
              0.1111111111111111,
              "#46039f"
             ],
             [
              0.2222222222222222,
              "#7201a8"
             ],
             [
              0.3333333333333333,
              "#9c179e"
             ],
             [
              0.4444444444444444,
              "#bd3786"
             ],
             [
              0.5555555555555556,
              "#d8576b"
             ],
             [
              0.6666666666666666,
              "#ed7953"
             ],
             [
              0.7777777777777778,
              "#fb9f3a"
             ],
             [
              0.8888888888888888,
              "#fdca26"
             ],
             [
              1,
              "#f0f921"
             ]
            ],
            "type": "contour"
           }
          ],
          "contourcarpet": [
           {
            "colorbar": {
             "outlinewidth": 0,
             "ticks": ""
            },
            "type": "contourcarpet"
           }
          ],
          "heatmap": [
           {
            "colorbar": {
             "outlinewidth": 0,
             "ticks": ""
            },
            "colorscale": [
             [
              0,
              "#0d0887"
             ],
             [
              0.1111111111111111,
              "#46039f"
             ],
             [
              0.2222222222222222,
              "#7201a8"
             ],
             [
              0.3333333333333333,
              "#9c179e"
             ],
             [
              0.4444444444444444,
              "#bd3786"
             ],
             [
              0.5555555555555556,
              "#d8576b"
             ],
             [
              0.6666666666666666,
              "#ed7953"
             ],
             [
              0.7777777777777778,
              "#fb9f3a"
             ],
             [
              0.8888888888888888,
              "#fdca26"
             ],
             [
              1,
              "#f0f921"
             ]
            ],
            "type": "heatmap"
           }
          ],
          "heatmapgl": [
           {
            "colorbar": {
             "outlinewidth": 0,
             "ticks": ""
            },
            "colorscale": [
             [
              0,
              "#0d0887"
             ],
             [
              0.1111111111111111,
              "#46039f"
             ],
             [
              0.2222222222222222,
              "#7201a8"
             ],
             [
              0.3333333333333333,
              "#9c179e"
             ],
             [
              0.4444444444444444,
              "#bd3786"
             ],
             [
              0.5555555555555556,
              "#d8576b"
             ],
             [
              0.6666666666666666,
              "#ed7953"
             ],
             [
              0.7777777777777778,
              "#fb9f3a"
             ],
             [
              0.8888888888888888,
              "#fdca26"
             ],
             [
              1,
              "#f0f921"
             ]
            ],
            "type": "heatmapgl"
           }
          ],
          "histogram": [
           {
            "marker": {
             "pattern": {
              "fillmode": "overlay",
              "size": 10,
              "solidity": 0.2
             }
            },
            "type": "histogram"
           }
          ],
          "histogram2d": [
           {
            "colorbar": {
             "outlinewidth": 0,
             "ticks": ""
            },
            "colorscale": [
             [
              0,
              "#0d0887"
             ],
             [
              0.1111111111111111,
              "#46039f"
             ],
             [
              0.2222222222222222,
              "#7201a8"
             ],
             [
              0.3333333333333333,
              "#9c179e"
             ],
             [
              0.4444444444444444,
              "#bd3786"
             ],
             [
              0.5555555555555556,
              "#d8576b"
             ],
             [
              0.6666666666666666,
              "#ed7953"
             ],
             [
              0.7777777777777778,
              "#fb9f3a"
             ],
             [
              0.8888888888888888,
              "#fdca26"
             ],
             [
              1,
              "#f0f921"
             ]
            ],
            "type": "histogram2d"
           }
          ],
          "histogram2dcontour": [
           {
            "colorbar": {
             "outlinewidth": 0,
             "ticks": ""
            },
            "colorscale": [
             [
              0,
              "#0d0887"
             ],
             [
              0.1111111111111111,
              "#46039f"
             ],
             [
              0.2222222222222222,
              "#7201a8"
             ],
             [
              0.3333333333333333,
              "#9c179e"
             ],
             [
              0.4444444444444444,
              "#bd3786"
             ],
             [
              0.5555555555555556,
              "#d8576b"
             ],
             [
              0.6666666666666666,
              "#ed7953"
             ],
             [
              0.7777777777777778,
              "#fb9f3a"
             ],
             [
              0.8888888888888888,
              "#fdca26"
             ],
             [
              1,
              "#f0f921"
             ]
            ],
            "type": "histogram2dcontour"
           }
          ],
          "mesh3d": [
           {
            "colorbar": {
             "outlinewidth": 0,
             "ticks": ""
            },
            "type": "mesh3d"
           }
          ],
          "parcoords": [
           {
            "line": {
             "colorbar": {
              "outlinewidth": 0,
              "ticks": ""
             }
            },
            "type": "parcoords"
           }
          ],
          "pie": [
           {
            "automargin": true,
            "type": "pie"
           }
          ],
          "scatter": [
           {
            "marker": {
             "colorbar": {
              "outlinewidth": 0,
              "ticks": ""
             }
            },
            "type": "scatter"
           }
          ],
          "scatter3d": [
           {
            "line": {
             "colorbar": {
              "outlinewidth": 0,
              "ticks": ""
             }
            },
            "marker": {
             "colorbar": {
              "outlinewidth": 0,
              "ticks": ""
             }
            },
            "type": "scatter3d"
           }
          ],
          "scattercarpet": [
           {
            "marker": {
             "colorbar": {
              "outlinewidth": 0,
              "ticks": ""
             }
            },
            "type": "scattercarpet"
           }
          ],
          "scattergeo": [
           {
            "marker": {
             "colorbar": {
              "outlinewidth": 0,
              "ticks": ""
             }
            },
            "type": "scattergeo"
           }
          ],
          "scattergl": [
           {
            "marker": {
             "colorbar": {
              "outlinewidth": 0,
              "ticks": ""
             }
            },
            "type": "scattergl"
           }
          ],
          "scattermapbox": [
           {
            "marker": {
             "colorbar": {
              "outlinewidth": 0,
              "ticks": ""
             }
            },
            "type": "scattermapbox"
           }
          ],
          "scatterpolar": [
           {
            "marker": {
             "colorbar": {
              "outlinewidth": 0,
              "ticks": ""
             }
            },
            "type": "scatterpolar"
           }
          ],
          "scatterpolargl": [
           {
            "marker": {
             "colorbar": {
              "outlinewidth": 0,
              "ticks": ""
             }
            },
            "type": "scatterpolargl"
           }
          ],
          "scatterternary": [
           {
            "marker": {
             "colorbar": {
              "outlinewidth": 0,
              "ticks": ""
             }
            },
            "type": "scatterternary"
           }
          ],
          "surface": [
           {
            "colorbar": {
             "outlinewidth": 0,
             "ticks": ""
            },
            "colorscale": [
             [
              0,
              "#0d0887"
             ],
             [
              0.1111111111111111,
              "#46039f"
             ],
             [
              0.2222222222222222,
              "#7201a8"
             ],
             [
              0.3333333333333333,
              "#9c179e"
             ],
             [
              0.4444444444444444,
              "#bd3786"
             ],
             [
              0.5555555555555556,
              "#d8576b"
             ],
             [
              0.6666666666666666,
              "#ed7953"
             ],
             [
              0.7777777777777778,
              "#fb9f3a"
             ],
             [
              0.8888888888888888,
              "#fdca26"
             ],
             [
              1,
              "#f0f921"
             ]
            ],
            "type": "surface"
           }
          ],
          "table": [
           {
            "cells": {
             "fill": {
              "color": "#EBF0F8"
             },
             "line": {
              "color": "white"
             }
            },
            "header": {
             "fill": {
              "color": "#C8D4E3"
             },
             "line": {
              "color": "white"
             }
            },
            "type": "table"
           }
          ]
         },
         "layout": {
          "annotationdefaults": {
           "arrowcolor": "#2a3f5f",
           "arrowhead": 0,
           "arrowwidth": 1
          },
          "autotypenumbers": "strict",
          "coloraxis": {
           "colorbar": {
            "outlinewidth": 0,
            "ticks": ""
           }
          },
          "colorscale": {
           "diverging": [
            [
             0,
             "#8e0152"
            ],
            [
             0.1,
             "#c51b7d"
            ],
            [
             0.2,
             "#de77ae"
            ],
            [
             0.3,
             "#f1b6da"
            ],
            [
             0.4,
             "#fde0ef"
            ],
            [
             0.5,
             "#f7f7f7"
            ],
            [
             0.6,
             "#e6f5d0"
            ],
            [
             0.7,
             "#b8e186"
            ],
            [
             0.8,
             "#7fbc41"
            ],
            [
             0.9,
             "#4d9221"
            ],
            [
             1,
             "#276419"
            ]
           ],
           "sequential": [
            [
             0,
             "#0d0887"
            ],
            [
             0.1111111111111111,
             "#46039f"
            ],
            [
             0.2222222222222222,
             "#7201a8"
            ],
            [
             0.3333333333333333,
             "#9c179e"
            ],
            [
             0.4444444444444444,
             "#bd3786"
            ],
            [
             0.5555555555555556,
             "#d8576b"
            ],
            [
             0.6666666666666666,
             "#ed7953"
            ],
            [
             0.7777777777777778,
             "#fb9f3a"
            ],
            [
             0.8888888888888888,
             "#fdca26"
            ],
            [
             1,
             "#f0f921"
            ]
           ],
           "sequentialminus": [
            [
             0,
             "#0d0887"
            ],
            [
             0.1111111111111111,
             "#46039f"
            ],
            [
             0.2222222222222222,
             "#7201a8"
            ],
            [
             0.3333333333333333,
             "#9c179e"
            ],
            [
             0.4444444444444444,
             "#bd3786"
            ],
            [
             0.5555555555555556,
             "#d8576b"
            ],
            [
             0.6666666666666666,
             "#ed7953"
            ],
            [
             0.7777777777777778,
             "#fb9f3a"
            ],
            [
             0.8888888888888888,
             "#fdca26"
            ],
            [
             1,
             "#f0f921"
            ]
           ]
          },
          "colorway": [
           "#636efa",
           "#EF553B",
           "#00cc96",
           "#ab63fa",
           "#FFA15A",
           "#19d3f3",
           "#FF6692",
           "#B6E880",
           "#FF97FF",
           "#FECB52"
          ],
          "font": {
           "color": "#2a3f5f"
          },
          "geo": {
           "bgcolor": "white",
           "lakecolor": "white",
           "landcolor": "#E5ECF6",
           "showlakes": true,
           "showland": true,
           "subunitcolor": "white"
          },
          "hoverlabel": {
           "align": "left"
          },
          "hovermode": "closest",
          "mapbox": {
           "style": "light"
          },
          "paper_bgcolor": "white",
          "plot_bgcolor": "#E5ECF6",
          "polar": {
           "angularaxis": {
            "gridcolor": "white",
            "linecolor": "white",
            "ticks": ""
           },
           "bgcolor": "#E5ECF6",
           "radialaxis": {
            "gridcolor": "white",
            "linecolor": "white",
            "ticks": ""
           }
          },
          "scene": {
           "xaxis": {
            "backgroundcolor": "#E5ECF6",
            "gridcolor": "white",
            "gridwidth": 2,
            "linecolor": "white",
            "showbackground": true,
            "ticks": "",
            "zerolinecolor": "white"
           },
           "yaxis": {
            "backgroundcolor": "#E5ECF6",
            "gridcolor": "white",
            "gridwidth": 2,
            "linecolor": "white",
            "showbackground": true,
            "ticks": "",
            "zerolinecolor": "white"
           },
           "zaxis": {
            "backgroundcolor": "#E5ECF6",
            "gridcolor": "white",
            "gridwidth": 2,
            "linecolor": "white",
            "showbackground": true,
            "ticks": "",
            "zerolinecolor": "white"
           }
          },
          "shapedefaults": {
           "line": {
            "color": "#2a3f5f"
           }
          },
          "ternary": {
           "aaxis": {
            "gridcolor": "white",
            "linecolor": "white",
            "ticks": ""
           },
           "baxis": {
            "gridcolor": "white",
            "linecolor": "white",
            "ticks": ""
           },
           "bgcolor": "#E5ECF6",
           "caxis": {
            "gridcolor": "white",
            "linecolor": "white",
            "ticks": ""
           }
          },
          "title": {
           "x": 0.05
          },
          "xaxis": {
           "automargin": true,
           "gridcolor": "white",
           "linecolor": "white",
           "ticks": "",
           "title": {
            "standoff": 15
           },
           "zerolinecolor": "white",
           "zerolinewidth": 2
          },
          "yaxis": {
           "automargin": true,
           "gridcolor": "white",
           "linecolor": "white",
           "ticks": "",
           "title": {
            "standoff": 15
           },
           "zerolinecolor": "white",
           "zerolinewidth": 2
          }
         }
        },
        "xaxis": {
         "anchor": "y",
         "categoryarray": [
          1
         ],
         "categoryorder": "array",
         "domain": [
          0,
          1
         ],
         "title": {
          "text": "values"
         }
        },
        "yaxis": {
         "anchor": "x",
         "domain": [
          0,
          1
         ],
         "title": {
          "text": "description"
         }
        }
       }
      },
      "text/html": [
       "<div>                            <div id=\"b227513d-2243-45de-a8d7-c50d0b3a571a\" class=\"plotly-graph-div\" style=\"height:525px; width:100%;\"></div>            <script type=\"text/javascript\">                require([\"plotly\"], function(Plotly) {                    window.PLOTLYENV=window.PLOTLYENV || {};                                    if (document.getElementById(\"b227513d-2243-45de-a8d7-c50d0b3a571a\")) {                    Plotly.newPlot(                        \"b227513d-2243-45de-a8d7-c50d0b3a571a\",                        [{\"hovertemplate\":\"values=%{x}<br>description=%{y}<extra></extra>\",\"legendgroup\":\"1\",\"marker\":{\"color\":\"#636efa\"},\"name\":\"1\",\"orientation\":\"h\",\"showlegend\":true,\"x\":[1,1,1,1,1,1,1,1,1,1,1,1,1,1,1,1,1,1,1,1,1,1,1,1,1,1,1,1,1,1,1,1,1,1,1,1,1,1,1,1,1,1,1,1,1,1,1,1,1,1],\"xaxis\":\"x\",\"y\":[\"\\u0412\\u0438\\u043d\\u043d\\u044b\\u0435 \\u0448\\u043a\\u0430\\u0444\\u044b\",\"Pop\",\"\\u0410\\u043a\\u0441\\u0435\\u0441\\u0441\\u0443\\u0430\\u0440\\u044b\",\"\\u0413\\u043e\\u0440\\u0447\\u0438\\u0447\\u043d\\u0438\\u043a\\u0438\",\"\\u0418\\u043d\\u0444\\u043e\\u0440\\u043c\\u0430\\u0446\\u0438\\u043e\\u043d\\u043d\\u044b\\u0435 \\u0442\\u0430\\u0431\\u043b\\u043e\",\"\\u0422\\u0440\\u0430\\u043d\\u0441\\u043c\\u0438\\u0441\\u0441\\u0438\\u044f\",\"\\u0421\\u0432\\u0435\\u0442\\u043e\\u0444\\u0438\\u043b\\u044c\\u0442\\u0440\\u044b \\u0438 \\u0441\\u0442\\u0435\\u043a\\u043b\\u0430\",\"\\u0424\\u043b\\u043e\\u0440\\u0431\\u043e\\u043b\",\"\\u0414\\u0435\\u043a\\u043e\\u0440\",\"\\u0410\\u043a\\u0441\\u0435\\u0441\\u0441\\u0443\\u0430\\u0440\\u044b \\u0434\\u043b\\u044f \\u0441\\u0442\\u043e\\u043b\\u043e\\u0432\",\"\\u042e\\u0432\\u0435\\u043b\\u0438\\u0440\\u043d\\u0430\\u044f \\u043f\\u043e\\u0441\\u0443\\u0434\\u0430 \\u0438 \\u0441\\u0443\\u0432\\u0435\\u043d\\u0438\\u0440\\u044b\",\"\\u0420\\u0435\\u043a\\u043b\\u0430\\u043c\\u043d\\u044b\\u0435 \\u043a\\u043e\\u043d\\u0441\\u0442\\u0440\\u0443\\u043a\\u0446\\u0438\\u0438 \\u0438 \\u043c\\u0430\\u0442\\u0435\\u0440\\u0438\\u0430\\u043b\\u044b\",\"\\u0414\\u0435\\u043b\\u044c\\u0442\\u0430\\u0448\\u043b\\u0438\\u0444\\u043c\\u0430\\u0448\\u0438\\u043d\\u044b\",\"\\u0410\\u0443\\u0434\\u0438\\u043e\\u043a\\u043d\\u0438\\u0433\\u0438 (inactive)\",\"\\u0424\\u0438\\u043a\\u0441\\u0430\\u0442\\u043e\\u0440\\u044b\",\"Hard rock\",\"\\u041d\\u0430\\u043b\\u043e\\u0433\\u043e\\u043e\\u0431\\u043b\\u043e\\u0436\\u0435\\u043d\\u0438\\u0435 (inactive)\",\"\\u042d\\u0442\\u0438\\u043a\\u0430, \\u044d\\u0441\\u0442\\u0435\\u0442\\u0438\\u043a\\u0430 (inactive)\",\"\\u0421\\u0435\\u044f\\u043b\\u043a\\u0438 \\u0434\\u043b\\u044f \\u0441\\u0435\\u043c\\u044f\\u043d\",\"\\u041e\\u0440\\u0433\\u0430\\u043d\\u0430\\u0439\\u0437\\u0435\\u0440\\u044b \\u0438 \\u043a\\u0430\\u0440\\u043c\\u0430\\u043d\\u044b \\u0432 \\u043a\\u0440\\u043e\\u0432\\u0430\\u0442\\u043a\\u0443\",\"\\u041f\\u043e\\u043f\\u043b\\u0430\\u0432\\u043a\\u043e\\u0432\\u044b\\u0435 \\u0432\\u044b\\u043a\\u043b\\u044e\\u0447\\u0430\\u0442\\u0435\\u043b\\u0438\",\"\\u0417\\u0430\\u0449\\u0438\\u0442\\u0430 \\u0444\\u0430\\u0440\",\"\\u041a\\u043e\\u043d\\u0441\\u043e\\u043b\\u0438\",\"\\u0420\\u0435\\u0448\\u0435\\u0442\\u043a\\u0438 \\u0434\\u043b\\u044f \\u0432\\u0441\\u0442\\u0440\\u0430\\u0438\\u0432\\u0430\\u0435\\u043c\\u044b\\u0445 \\u043a\\u043e\\u043d\\u0432\\u0435\\u043a\\u0442\\u043e\\u0440\\u043e\\u0432\",\"\\u041f\\u0430\\u043b\\u043a\\u0438\",\"\\u042e\\u0440\\u0438\\u0434\\u0438\\u0447\\u0435\\u0441\\u043a\\u0430\\u044f \\u043b\\u0438\\u0442\\u0435\\u0440\\u0430\\u0442\\u0443\\u0440\\u0430 (inactive)\",\"\\u041c\\u0435\\u0436\\u043a\\u043e\\u043c\\u043d\\u0430\\u0442\\u043d\\u044b\\u0435 \\u0434\\u0432\\u0435\\u0440\\u0438\",\"\\u0423\\u0433\\u043e\\u043b\\u043a\\u0438, \\u043a\\u0440\\u043e\\u043d\\u0448\\u0442\\u0435\\u0439\\u043d\\u044b, \\u0434\\u0435\\u0440\\u0436\\u0430\\u0442\\u0435\\u043b\\u0438 \",\"\\u0410\\u043a\\u0441\\u0435\\u0441\\u0441\\u0443\\u0430\\u0440\\u044b\",\"\\u0411\\u0435\\u0433\\u043e\\u0432\\u044b\\u0435 \\u0434\\u043e\\u0440\\u043e\\u0436\\u043a\\u0438\",\"3D-\\u0440\\u0443\\u0447\\u043a\\u0438\",\"\\u0423\\u043d\\u0442\\u044b\",\"\\u041a\\u0430\\u0439\\u0442\\u0441\\u0435\\u0440\\u0444\\u0438\\u043d\\u0433\",\"\\u042d\\u043b\\u043b\\u0438\\u043f\\u0442\\u0438\\u0447\\u0435\\u0441\\u043a\\u0438\\u0435 \\u0442\\u0440\\u0435\\u043d\\u0430\\u0436\\u0435\\u0440\\u044b\",\"\\u041b\\u0430\\u043a \\u0438 \\u043a\\u043b\\u0435\\u0439\",\"\\u0421\\u041e\\u0416\",\"\\u041c\\u0435\\u0445\\u0430\\u043d\\u0438\\u0447\\u0435\\u0441\\u043a\\u0438\\u0435 \\u0431\\u043b\\u043e\\u043a\\u0438\\u0440\\u0430\\u0442\\u043e\\u0440\\u044b\",\"\\u041f\\u0440\\u043e\\u043b\\u043e\\u043d\\u0433\\u0438\\u0440\\u0443\\u044e\\u0449\\u0438\\u0435 \\u0438 \\u0432\\u043e\\u0437\\u0431\\u0443\\u0436\\u0434\\u0430\\u044e\\u0449\\u0438\\u0435 \\u0441\\u0440\\u0435\\u0434\\u0441\\u0442\\u0432\\u0430\",\"\\u0420\\u0430\\u043a\\u0435\\u0442\\u043a\\u0438\",\"\\u0420\\u0443\\u043a\\u043e\\u0432\\u043e\\u0434\\u0441\\u0442\\u0432\\u0430 (inactive)\",\"\\u041e\\u0442\\u043e\\u043f\\u0438\\u0442\\u0435\\u043b\\u044c\\u043d\\u044b\\u0435 \\u043a\\u043e\\u0442\\u043b\\u044b\",\"Heavy metal\",\"\\u041f\\u043e\\u043b\\u043e\\u043c\\u043e\\u0439\\u043d\\u044b\\u0435 \\u0438 \\u043f\\u043e\\u0434\\u043c\\u0435\\u0442\\u0430\\u043b\\u044c\\u043d\\u044b\\u0435 \\u043c\\u0430\\u0448\\u0438\\u043d\\u044b\",\"\\u0420\\u044e\\u043c\\u043a\\u0438 \\u0438 \\u0441\\u0442\\u043e\\u043f\\u043a\\u0438\",\"\\u041f\\u0438\\u0441\\u0442\\u043e\\u043b\\u0435\\u0442\\u044b, \\u043d\\u0430\\u0441\\u0430\\u0434\\u043a\\u0438, \\u0434\\u043e\\u0436\\u0434\\u0435\\u0432\\u0430\\u0442\\u0435\\u043b\\u0438\",\"\\u0418\\u0433\\u0440\\u044b (inactive)\",\"\\u041f\\u043e\\u043b\\u0435\\u0437\\u043d\\u044b\\u0435 \\u0441\\u043e\\u0432\\u0435\\u0442\\u044b (inactive)\",\"\\u041b\\u0438\\u043d\\u0437\\u044b \\u0434\\u043b\\u044f \\u043e\\u0447\\u043a\\u043e\\u0432\",\"\\u042d\\u043b\\u0435\\u043a\\u0442\\u0440\\u043e\\u043c\\u0430\\u0433\\u043d\\u0438\\u0442\\u043d\\u044b\\u0435 \\u043a\\u043b\\u0430\\u043f\\u0430\\u043d\\u044b\",\"\\u0416\\u0430\\u043a\\u0435\\u0442\\u044b\"],\"yaxis\":\"y\",\"type\":\"funnel\"}],                        {\"template\":{\"data\":{\"bar\":[{\"error_x\":{\"color\":\"#2a3f5f\"},\"error_y\":{\"color\":\"#2a3f5f\"},\"marker\":{\"line\":{\"color\":\"#E5ECF6\",\"width\":0.5},\"pattern\":{\"fillmode\":\"overlay\",\"size\":10,\"solidity\":0.2}},\"type\":\"bar\"}],\"barpolar\":[{\"marker\":{\"line\":{\"color\":\"#E5ECF6\",\"width\":0.5},\"pattern\":{\"fillmode\":\"overlay\",\"size\":10,\"solidity\":0.2}},\"type\":\"barpolar\"}],\"carpet\":[{\"aaxis\":{\"endlinecolor\":\"#2a3f5f\",\"gridcolor\":\"white\",\"linecolor\":\"white\",\"minorgridcolor\":\"white\",\"startlinecolor\":\"#2a3f5f\"},\"baxis\":{\"endlinecolor\":\"#2a3f5f\",\"gridcolor\":\"white\",\"linecolor\":\"white\",\"minorgridcolor\":\"white\",\"startlinecolor\":\"#2a3f5f\"},\"type\":\"carpet\"}],\"choropleth\":[{\"colorbar\":{\"outlinewidth\":0,\"ticks\":\"\"},\"type\":\"choropleth\"}],\"contour\":[{\"colorbar\":{\"outlinewidth\":0,\"ticks\":\"\"},\"colorscale\":[[0.0,\"#0d0887\"],[0.1111111111111111,\"#46039f\"],[0.2222222222222222,\"#7201a8\"],[0.3333333333333333,\"#9c179e\"],[0.4444444444444444,\"#bd3786\"],[0.5555555555555556,\"#d8576b\"],[0.6666666666666666,\"#ed7953\"],[0.7777777777777778,\"#fb9f3a\"],[0.8888888888888888,\"#fdca26\"],[1.0,\"#f0f921\"]],\"type\":\"contour\"}],\"contourcarpet\":[{\"colorbar\":{\"outlinewidth\":0,\"ticks\":\"\"},\"type\":\"contourcarpet\"}],\"heatmap\":[{\"colorbar\":{\"outlinewidth\":0,\"ticks\":\"\"},\"colorscale\":[[0.0,\"#0d0887\"],[0.1111111111111111,\"#46039f\"],[0.2222222222222222,\"#7201a8\"],[0.3333333333333333,\"#9c179e\"],[0.4444444444444444,\"#bd3786\"],[0.5555555555555556,\"#d8576b\"],[0.6666666666666666,\"#ed7953\"],[0.7777777777777778,\"#fb9f3a\"],[0.8888888888888888,\"#fdca26\"],[1.0,\"#f0f921\"]],\"type\":\"heatmap\"}],\"heatmapgl\":[{\"colorbar\":{\"outlinewidth\":0,\"ticks\":\"\"},\"colorscale\":[[0.0,\"#0d0887\"],[0.1111111111111111,\"#46039f\"],[0.2222222222222222,\"#7201a8\"],[0.3333333333333333,\"#9c179e\"],[0.4444444444444444,\"#bd3786\"],[0.5555555555555556,\"#d8576b\"],[0.6666666666666666,\"#ed7953\"],[0.7777777777777778,\"#fb9f3a\"],[0.8888888888888888,\"#fdca26\"],[1.0,\"#f0f921\"]],\"type\":\"heatmapgl\"}],\"histogram\":[{\"marker\":{\"pattern\":{\"fillmode\":\"overlay\",\"size\":10,\"solidity\":0.2}},\"type\":\"histogram\"}],\"histogram2d\":[{\"colorbar\":{\"outlinewidth\":0,\"ticks\":\"\"},\"colorscale\":[[0.0,\"#0d0887\"],[0.1111111111111111,\"#46039f\"],[0.2222222222222222,\"#7201a8\"],[0.3333333333333333,\"#9c179e\"],[0.4444444444444444,\"#bd3786\"],[0.5555555555555556,\"#d8576b\"],[0.6666666666666666,\"#ed7953\"],[0.7777777777777778,\"#fb9f3a\"],[0.8888888888888888,\"#fdca26\"],[1.0,\"#f0f921\"]],\"type\":\"histogram2d\"}],\"histogram2dcontour\":[{\"colorbar\":{\"outlinewidth\":0,\"ticks\":\"\"},\"colorscale\":[[0.0,\"#0d0887\"],[0.1111111111111111,\"#46039f\"],[0.2222222222222222,\"#7201a8\"],[0.3333333333333333,\"#9c179e\"],[0.4444444444444444,\"#bd3786\"],[0.5555555555555556,\"#d8576b\"],[0.6666666666666666,\"#ed7953\"],[0.7777777777777778,\"#fb9f3a\"],[0.8888888888888888,\"#fdca26\"],[1.0,\"#f0f921\"]],\"type\":\"histogram2dcontour\"}],\"mesh3d\":[{\"colorbar\":{\"outlinewidth\":0,\"ticks\":\"\"},\"type\":\"mesh3d\"}],\"parcoords\":[{\"line\":{\"colorbar\":{\"outlinewidth\":0,\"ticks\":\"\"}},\"type\":\"parcoords\"}],\"pie\":[{\"automargin\":true,\"type\":\"pie\"}],\"scatter\":[{\"marker\":{\"colorbar\":{\"outlinewidth\":0,\"ticks\":\"\"}},\"type\":\"scatter\"}],\"scatter3d\":[{\"line\":{\"colorbar\":{\"outlinewidth\":0,\"ticks\":\"\"}},\"marker\":{\"colorbar\":{\"outlinewidth\":0,\"ticks\":\"\"}},\"type\":\"scatter3d\"}],\"scattercarpet\":[{\"marker\":{\"colorbar\":{\"outlinewidth\":0,\"ticks\":\"\"}},\"type\":\"scattercarpet\"}],\"scattergeo\":[{\"marker\":{\"colorbar\":{\"outlinewidth\":0,\"ticks\":\"\"}},\"type\":\"scattergeo\"}],\"scattergl\":[{\"marker\":{\"colorbar\":{\"outlinewidth\":0,\"ticks\":\"\"}},\"type\":\"scattergl\"}],\"scattermapbox\":[{\"marker\":{\"colorbar\":{\"outlinewidth\":0,\"ticks\":\"\"}},\"type\":\"scattermapbox\"}],\"scatterpolar\":[{\"marker\":{\"colorbar\":{\"outlinewidth\":0,\"ticks\":\"\"}},\"type\":\"scatterpolar\"}],\"scatterpolargl\":[{\"marker\":{\"colorbar\":{\"outlinewidth\":0,\"ticks\":\"\"}},\"type\":\"scatterpolargl\"}],\"scatterternary\":[{\"marker\":{\"colorbar\":{\"outlinewidth\":0,\"ticks\":\"\"}},\"type\":\"scatterternary\"}],\"surface\":[{\"colorbar\":{\"outlinewidth\":0,\"ticks\":\"\"},\"colorscale\":[[0.0,\"#0d0887\"],[0.1111111111111111,\"#46039f\"],[0.2222222222222222,\"#7201a8\"],[0.3333333333333333,\"#9c179e\"],[0.4444444444444444,\"#bd3786\"],[0.5555555555555556,\"#d8576b\"],[0.6666666666666666,\"#ed7953\"],[0.7777777777777778,\"#fb9f3a\"],[0.8888888888888888,\"#fdca26\"],[1.0,\"#f0f921\"]],\"type\":\"surface\"}],\"table\":[{\"cells\":{\"fill\":{\"color\":\"#EBF0F8\"},\"line\":{\"color\":\"white\"}},\"header\":{\"fill\":{\"color\":\"#C8D4E3\"},\"line\":{\"color\":\"white\"}},\"type\":\"table\"}]},\"layout\":{\"annotationdefaults\":{\"arrowcolor\":\"#2a3f5f\",\"arrowhead\":0,\"arrowwidth\":1},\"autotypenumbers\":\"strict\",\"coloraxis\":{\"colorbar\":{\"outlinewidth\":0,\"ticks\":\"\"}},\"colorscale\":{\"diverging\":[[0,\"#8e0152\"],[0.1,\"#c51b7d\"],[0.2,\"#de77ae\"],[0.3,\"#f1b6da\"],[0.4,\"#fde0ef\"],[0.5,\"#f7f7f7\"],[0.6,\"#e6f5d0\"],[0.7,\"#b8e186\"],[0.8,\"#7fbc41\"],[0.9,\"#4d9221\"],[1,\"#276419\"]],\"sequential\":[[0.0,\"#0d0887\"],[0.1111111111111111,\"#46039f\"],[0.2222222222222222,\"#7201a8\"],[0.3333333333333333,\"#9c179e\"],[0.4444444444444444,\"#bd3786\"],[0.5555555555555556,\"#d8576b\"],[0.6666666666666666,\"#ed7953\"],[0.7777777777777778,\"#fb9f3a\"],[0.8888888888888888,\"#fdca26\"],[1.0,\"#f0f921\"]],\"sequentialminus\":[[0.0,\"#0d0887\"],[0.1111111111111111,\"#46039f\"],[0.2222222222222222,\"#7201a8\"],[0.3333333333333333,\"#9c179e\"],[0.4444444444444444,\"#bd3786\"],[0.5555555555555556,\"#d8576b\"],[0.6666666666666666,\"#ed7953\"],[0.7777777777777778,\"#fb9f3a\"],[0.8888888888888888,\"#fdca26\"],[1.0,\"#f0f921\"]]},\"colorway\":[\"#636efa\",\"#EF553B\",\"#00cc96\",\"#ab63fa\",\"#FFA15A\",\"#19d3f3\",\"#FF6692\",\"#B6E880\",\"#FF97FF\",\"#FECB52\"],\"font\":{\"color\":\"#2a3f5f\"},\"geo\":{\"bgcolor\":\"white\",\"lakecolor\":\"white\",\"landcolor\":\"#E5ECF6\",\"showlakes\":true,\"showland\":true,\"subunitcolor\":\"white\"},\"hoverlabel\":{\"align\":\"left\"},\"hovermode\":\"closest\",\"mapbox\":{\"style\":\"light\"},\"paper_bgcolor\":\"white\",\"plot_bgcolor\":\"#E5ECF6\",\"polar\":{\"angularaxis\":{\"gridcolor\":\"white\",\"linecolor\":\"white\",\"ticks\":\"\"},\"bgcolor\":\"#E5ECF6\",\"radialaxis\":{\"gridcolor\":\"white\",\"linecolor\":\"white\",\"ticks\":\"\"}},\"scene\":{\"xaxis\":{\"backgroundcolor\":\"#E5ECF6\",\"gridcolor\":\"white\",\"gridwidth\":2,\"linecolor\":\"white\",\"showbackground\":true,\"ticks\":\"\",\"zerolinecolor\":\"white\"},\"yaxis\":{\"backgroundcolor\":\"#E5ECF6\",\"gridcolor\":\"white\",\"gridwidth\":2,\"linecolor\":\"white\",\"showbackground\":true,\"ticks\":\"\",\"zerolinecolor\":\"white\"},\"zaxis\":{\"backgroundcolor\":\"#E5ECF6\",\"gridcolor\":\"white\",\"gridwidth\":2,\"linecolor\":\"white\",\"showbackground\":true,\"ticks\":\"\",\"zerolinecolor\":\"white\"}},\"shapedefaults\":{\"line\":{\"color\":\"#2a3f5f\"}},\"ternary\":{\"aaxis\":{\"gridcolor\":\"white\",\"linecolor\":\"white\",\"ticks\":\"\"},\"baxis\":{\"gridcolor\":\"white\",\"linecolor\":\"white\",\"ticks\":\"\"},\"bgcolor\":\"#E5ECF6\",\"caxis\":{\"gridcolor\":\"white\",\"linecolor\":\"white\",\"ticks\":\"\"}},\"title\":{\"x\":0.05},\"xaxis\":{\"automargin\":true,\"gridcolor\":\"white\",\"linecolor\":\"white\",\"ticks\":\"\",\"title\":{\"standoff\":15},\"zerolinecolor\":\"white\",\"zerolinewidth\":2},\"yaxis\":{\"automargin\":true,\"gridcolor\":\"white\",\"linecolor\":\"white\",\"ticks\":\"\",\"title\":{\"standoff\":15},\"zerolinecolor\":\"white\",\"zerolinewidth\":2}}},\"xaxis\":{\"anchor\":\"y\",\"domain\":[0.0,1.0],\"title\":{\"text\":\"values\"},\"categoryorder\":\"array\",\"categoryarray\":[1]},\"yaxis\":{\"anchor\":\"x\",\"domain\":[0.0,1.0],\"title\":{\"text\":\"description\"}},\"legend\":{\"title\":{\"text\":\"values\"},\"tracegroupgap\":0},\"margin\":{\"t\":60}},                        {\"responsive\": true}                    ).then(function(){\n",
       "                            \n",
       "var gd = document.getElementById('b227513d-2243-45de-a8d7-c50d0b3a571a');\n",
       "var x = new MutationObserver(function (mutations, observer) {{\n",
       "        var display = window.getComputedStyle(gd).display;\n",
       "        if (!display || display === 'none') {{\n",
       "            console.log([gd, 'removed!']);\n",
       "            Plotly.purge(gd);\n",
       "            observer.disconnect();\n",
       "        }}\n",
       "}});\n",
       "\n",
       "// Listen for the removal of the full notebook cells\n",
       "var notebookContainer = gd.closest('#notebook-container');\n",
       "if (notebookContainer) {{\n",
       "    x.observe(notebookContainer, {childList: true});\n",
       "}}\n",
       "\n",
       "// Listen for the clearing of the current output cell\n",
       "var outputEl = gd.closest('.output');\n",
       "if (outputEl) {{\n",
       "    x.observe(outputEl, {childList: true});\n",
       "}}\n",
       "\n",
       "                        })                };                });            </script>        </div>"
      ]
     },
     "metadata": {},
     "output_type": "display_data"
    }
   ],
   "source": [
    "data = dict(values=df_average_categories['duration'],description=df_average_categories['Description'])\n",
    "fig = px.funnel(data, y='description',x='values',color='values')\n",
    "fig.show()"
   ]
  },
  {
   "cell_type": "code",
   "execution_count": 109,
   "metadata": {},
   "outputs": [
    {
     "name": "stdout",
     "output_type": "stream",
     "text": [
      "<class 'pandas.core.frame.DataFrame'>\n",
      "Int64Index: 50 entries, 6 to 2580\n",
      "Data columns (total 5 columns):\n",
      " #   Column       Non-Null Count  Dtype \n",
      "---  ------       --------------  ----- \n",
      " 0   Category     50 non-null     int64 \n",
      " 1   Description  50 non-null     object\n",
      " 2   male         50 non-null     int64 \n",
      " 3   female       50 non-null     int64 \n",
      " 4   duration     50 non-null     int64 \n",
      "dtypes: int64(4), object(1)\n",
      "memory usage: 2.3+ KB\n"
     ]
    }
   ],
   "source": [
    "df_useless=df[df['duration'] <18].nsmallest(n=50, columns=['duration'])\n",
    "df_useless.info()"
   ]
  },
  {
   "cell_type": "code",
   "execution_count": null,
   "metadata": {},
   "outputs": [],
   "source": []
  }
 ],
 "metadata": {
  "accelerator": "TPU",
  "colab": {
   "provenance": []
  },
  "kernelspec": {
   "display_name": "Python 3 (ipykernel)",
   "language": "python",
   "name": "python3"
  },
  "language_info": {
   "codemirror_mode": {
    "name": "ipython",
    "version": 3
   },
   "file_extension": ".py",
   "mimetype": "text/x-python",
   "name": "python",
   "nbconvert_exporter": "python",
   "pygments_lexer": "ipython3",
   "version": "3.9.12"
  }
 },
 "nbformat": 4,
 "nbformat_minor": 1
}
