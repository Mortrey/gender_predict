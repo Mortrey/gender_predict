{
 "cells": [
  {
   "cell_type": "code",
   "execution_count": null,
   "metadata": {},
   "outputs": [],
   "source": [
    "import pandas as pd"
   ]
  },
  {
   "cell_type": "code",
   "execution_count": null,
   "metadata": {},
   "outputs": [],
   "source": [
    "# Load the JSON files\n",
    "file_path_train= 'train.json'"
   ]
  },
  {
   "cell_type": "code",
   "execution_count": null,
   "metadata": {},
   "outputs": [],
   "source": [
    "df_train = pd.read_json(file_path_train)\n",
    "df_train.head()"
   ]
  },
  {
   "cell_type": "code",
   "execution_count": null,
   "metadata": {},
   "outputs": [],
   "source": [
    "# Transposing the DataFrame\n",
    "df_train = df_train.T\n",
    "\n",
    "# Resetting the index to create a 'user_id' column\n",
    "df_train.reset_index(inplace=True)\n",
    "df_train.rename(columns={'index': 'user_id', 0: 'target', 1: 'features'}, inplace=True)\n",
    "\n",
    "# Displaying the first few rows of the transposed DataFrame\n",
    "df_train.head()"
   ]
  },
  {
   "cell_type": "code",
   "execution_count": null,
   "metadata": {},
   "outputs": [],
   "source": [
    "# Load the JSON files\n",
    "file_path_val= 'val.json'"
   ]
  },
  {
   "cell_type": "code",
   "execution_count": null,
   "metadata": {},
   "outputs": [],
   "source": [
    "df_val = pd.read_json(file_path_val)\n",
    "df_val.head()"
   ]
  },
  {
   "cell_type": "code",
   "execution_count": null,
   "metadata": {},
   "outputs": [],
   "source": [
    "# Transposing the DataFrame\n",
    "df_val = df_val.T\n",
    "\n",
    "# Resetting the index to create a 'user_id' column\n",
    "df_val.reset_index(inplace=True)\n",
    "df_val.rename(columns={'index': 'user_id', 0: 'target', 1: 'features'}, inplace=True)\n",
    "\n",
    "# Displaying the first few rows of the transposed DataFrame\n",
    "df_val.tail()"
   ]
  },
  {
   "cell_type": "code",
   "execution_count": null,
   "metadata": {},
   "outputs": [],
   "source": [
    "df_all = pd.concat([df_train, df_val])\n",
    "df_all.tail()"
   ]
  }
 ],
 "metadata": {
  "language_info": {
   "name": "python"
  }
 },
 "nbformat": 4,
 "nbformat_minor": 2
}
