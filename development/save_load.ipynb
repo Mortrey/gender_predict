{
 "cells": [
  {
   "cell_type": "code",
   "execution_count": null,
   "metadata": {},
   "outputs": [],
   "source": [
    "import pickle\n",
    "\n",
    "# Сохранение словаря в файл\n",
    "with open('dictionary.pkl', 'wb') as file:\n",
    "    pickle.dump(your_dictionary, file)\n",
    "\n",
    "# Сохранение множества в файл\n",
    "with open('set.pkl', 'wb') as file:\n",
    "    pickle.dump(your_set, file)\n"
   ]
  },
  {
   "cell_type": "code",
   "execution_count": null,
   "metadata": {},
   "outputs": [],
   "source": [
    "import pickle\n",
    "\n",
    "# Загрузка словаря из файла\n",
    "with open('dictionary.pkl', 'rb') as file:\n",
    "    loaded_dictionary = pickle.load(file)\n",
    "\n",
    "# Загрузка множества из файла\n",
    "with open('set.pkl', 'rb') as file:\n",
    "    loaded_set = pickle.load(file)\n"
   ]
  },
  {
   "cell_type": "code",
   "execution_count": null,
   "metadata": {},
   "outputs": [],
   "source": [
    "import json\n",
    "\n",
    "# Сохранение словаря в файл\n",
    "with open('dictionary.json', 'w') as file:\n",
    "    json.dump(your_dictionary, file)\n",
    "\n",
    "# Сохранение множества в файл\n",
    "with open('set.json', 'w') as file:\n",
    "    json.dump(list(your_set), file)\n"
   ]
  },
  {
   "cell_type": "code",
   "execution_count": null,
   "metadata": {},
   "outputs": [],
   "source": [
    "import json\n",
    "\n",
    "# Загрузка словаря из файла\n",
    "with open('dictionary.json', 'r') as file:\n",
    "    loaded_dictionary = json.load(file)\n",
    "\n",
    "# Загрузка множества из файла\n",
    "with open('set.json', 'r') as file:\n",
    "    loaded_set = set(json.load(file))\n"
   ]
  },
  {
   "cell_type": "code",
   "execution_count": null,
   "metadata": {},
   "outputs": [],
   "source": []
  },
  {
   "cell_type": "code",
   "execution_count": null,
   "metadata": {},
   "outputs": [],
   "source": []
  },
  {
   "cell_type": "code",
   "execution_count": null,
   "metadata": {},
   "outputs": [],
   "source": []
  }
 ],
 "metadata": {
  "language_info": {
   "name": "python"
  }
 },
 "nbformat": 4,
 "nbformat_minor": 2
}
